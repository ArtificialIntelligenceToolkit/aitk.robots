{
 "cells": [
  {
   "cell_type": "markdown",
   "metadata": {},
   "source": [
    "# 1. The Robot Simulator"
   ]
  },
  {
   "cell_type": "code",
   "execution_count": null,
   "metadata": {},
   "outputs": [],
   "source": [
    "import jyrobot"
   ]
  },
  {
   "cell_type": "code",
   "execution_count": null,
   "metadata": {},
   "outputs": [],
   "source": [
    "world = jyrobot.World(width=250, height=100)"
   ]
  },
  {
   "cell_type": "code",
   "execution_count": null,
   "metadata": {},
   "outputs": [],
   "source": [
    "world.watch()"
   ]
  },
  {
   "cell_type": "code",
   "execution_count": null,
   "metadata": {},
   "outputs": [],
   "source": [
    "robot = jyrobot.Scribbler()"
   ]
  },
  {
   "cell_type": "code",
   "execution_count": null,
   "metadata": {},
   "outputs": [],
   "source": [
    "world.add_robot(robot)\n",
    "world.update()"
   ]
  },
  {
   "cell_type": "code",
   "execution_count": null,
   "metadata": {},
   "outputs": [],
   "source": [
    "robot.set_pose(200, 50, 180)\n",
    "world.update()"
   ]
  },
  {
   "cell_type": "code",
   "execution_count": null,
   "metadata": {},
   "outputs": [],
   "source": [
    "robot.add_device(jyrobot.RangeSensor(width=0, max=100))\n",
    "world.update()"
   ]
  },
  {
   "cell_type": "code",
   "execution_count": null,
   "metadata": {},
   "outputs": [],
   "source": [
    "world.save_as(\"experiment-01\")"
   ]
  },
  {
   "cell_type": "code",
   "execution_count": null,
   "metadata": {},
   "outputs": [],
   "source": [
    "world.reset()"
   ]
  },
  {
   "cell_type": "markdown",
   "metadata": {},
   "source": [
    "# 2. Data Collection"
   ]
  },
  {
   "cell_type": "code",
   "execution_count": null,
   "metadata": {},
   "outputs": [],
   "source": [
    "world.update()"
   ]
  },
  {
   "cell_type": "code",
   "execution_count": null,
   "metadata": {},
   "outputs": [],
   "source": [
    "data = []\n",
    "\n",
    "def controller(robot):\n",
    "    reading = robot[\"laser\"].get_reading()\n",
    "    speed = round((reading - 0.5)/0.5, 1)\n",
    "    robot.forward(speed)\n",
    "    data.append([reading, speed, world.time])\n",
    "    if speed == 0:\n",
    "        return True"
   ]
  },
  {
   "cell_type": "code",
   "execution_count": null,
   "metadata": {},
   "outputs": [],
   "source": [
    "world.run([controller], show=True, real_time=True)"
   ]
  },
  {
   "cell_type": "markdown",
   "metadata": {},
   "source": [
    "# 3. Analysis: Dataset"
   ]
  },
  {
   "cell_type": "code",
   "execution_count": null,
   "metadata": {},
   "outputs": [],
   "source": [
    "import pandas #, pandas_profiling\n",
    "import tensorflow as tf"
   ]
  },
  {
   "cell_type": "code",
   "execution_count": null,
   "metadata": {},
   "outputs": [],
   "source": [
    "df = pandas.DataFrame(data, columns=[\"range\", \"translation\", \"time\"])"
   ]
  },
  {
   "cell_type": "code",
   "execution_count": null,
   "metadata": {},
   "outputs": [],
   "source": [
    "df"
   ]
  },
  {
   "cell_type": "code",
   "execution_count": null,
   "metadata": {},
   "outputs": [],
   "source": [
    "# pandas_profiling.ProfileReport(df)"
   ]
  },
  {
   "cell_type": "markdown",
   "metadata": {},
   "source": [
    "# 4. Training"
   ]
  },
  {
   "cell_type": "markdown",
   "metadata": {},
   "source": [
    "## 4.1 Training: Dataset"
   ]
  },
  {
   "cell_type": "code",
   "execution_count": null,
   "metadata": {},
   "outputs": [],
   "source": [
    "targets = df['translation']"
   ]
  },
  {
   "cell_type": "code",
   "execution_count": null,
   "metadata": {},
   "outputs": [],
   "source": [
    "targets.values.shape"
   ]
  },
  {
   "cell_type": "code",
   "execution_count": null,
   "metadata": {},
   "outputs": [],
   "source": [
    "inputs = df['range']"
   ]
  },
  {
   "cell_type": "code",
   "execution_count": null,
   "metadata": {},
   "outputs": [],
   "source": [
    "inputs.values.shape"
   ]
  },
  {
   "cell_type": "code",
   "execution_count": null,
   "metadata": {},
   "outputs": [],
   "source": [
    "dataset = tf.data.Dataset.from_tensor_slices(\n",
    "    ([[v] for v in inputs.values], \n",
    "     [[v/2 + 0.5] for v in targets.values]))"
   ]
  },
  {
   "cell_type": "code",
   "execution_count": null,
   "metadata": {},
   "outputs": [],
   "source": [
    "#for i in dataset:\n",
    "#    print(i[0].numpy(), i[1].numpy())"
   ]
  },
  {
   "cell_type": "markdown",
   "metadata": {},
   "source": [
    "## 4.2 Training: Network"
   ]
  },
  {
   "cell_type": "code",
   "execution_count": null,
   "metadata": {},
   "outputs": [],
   "source": [
    "import tensorflow as tf\n",
    "from tensorflow.keras.layers import Input, Dense\n",
    "from tensorflow.keras.models import Model"
   ]
  },
  {
   "cell_type": "code",
   "execution_count": null,
   "metadata": {},
   "outputs": [],
   "source": [
    "input = Input((1,))"
   ]
  },
  {
   "cell_type": "code",
   "execution_count": null,
   "metadata": {},
   "outputs": [],
   "source": [
    "hidden = Dense(10, activation=\"sigmoid\")(input)"
   ]
  },
  {
   "cell_type": "code",
   "execution_count": null,
   "metadata": {},
   "outputs": [],
   "source": [
    "output = Dense(1, activation=\"sigmoid\")(hidden)"
   ]
  },
  {
   "cell_type": "code",
   "execution_count": null,
   "metadata": {},
   "outputs": [],
   "source": [
    "model = Model(input, output)"
   ]
  },
  {
   "cell_type": "code",
   "execution_count": null,
   "metadata": {},
   "outputs": [],
   "source": [
    "model.compile(optimizer=\"adam\", loss=\"mse\", metrics=[\"accuracy\"])"
   ]
  },
  {
   "cell_type": "code",
   "execution_count": null,
   "metadata": {},
   "outputs": [],
   "source": [
    "model.predict(dataset).shape"
   ]
  },
  {
   "cell_type": "markdown",
   "metadata": {},
   "source": [
    "# 5. Analysis: Training"
   ]
  },
  {
   "cell_type": "code",
   "execution_count": null,
   "metadata": {},
   "outputs": [],
   "source": [
    "model.fit(dataset, epochs=10, verbose=0)"
   ]
  },
  {
   "cell_type": "code",
   "execution_count": null,
   "metadata": {},
   "outputs": [],
   "source": [
    "model.predict([0.5])"
   ]
  },
  {
   "cell_type": "code",
   "execution_count": null,
   "metadata": {},
   "outputs": [],
   "source": [
    "#model.predict(dataset)"
   ]
  },
  {
   "cell_type": "code",
   "execution_count": null,
   "metadata": {},
   "outputs": [],
   "source": [
    "world.reset()"
   ]
  },
  {
   "cell_type": "code",
   "execution_count": null,
   "metadata": {},
   "outputs": [],
   "source": [
    "def controller(robot):\n",
    "    reading = robot[\"laser\"].get_reading()\n",
    "    outputs = model.predict([[reading]])\n",
    "    speed = round((outputs[0][0] - 0.5) * 2.0, 1)\n",
    "    robot.forward(speed)\n",
    "    if speed == 0:\n",
    "        return True"
   ]
  },
  {
   "cell_type": "code",
   "execution_count": null,
   "metadata": {},
   "outputs": [],
   "source": [
    "plot = world[0].plot(lambda robot: (robot.world.time, robot[\"laser\"].get_reading()), \n",
    "           y_label=\"reading\",\n",
    "           x_label=\"time\",\n",
    "           title=\"robot['laser'].get_reading()\")\n",
    "plot.watch()"
   ]
  },
  {
   "cell_type": "code",
   "execution_count": null,
   "metadata": {},
   "outputs": [],
   "source": [
    "world.run([controller], show=True, real_time=True)"
   ]
  },
  {
   "cell_type": "code",
   "execution_count": null,
   "metadata": {},
   "outputs": [],
   "source": []
  }
 ],
 "metadata": {
  "kernelspec": {
   "display_name": "Python 3",
   "language": "python",
   "name": "python3"
  },
  "language_info": {
   "codemirror_mode": {
    "name": "ipython",
    "version": 3
   },
   "file_extension": ".py",
   "mimetype": "text/x-python",
   "name": "python",
   "nbconvert_exporter": "python",
   "pygments_lexer": "ipython3",
   "version": "3.8.5"
  },
  "widgets": {
   "application/vnd.jupyter.widget-state+json": {
    "state": {
     "0776c69e734a46448a271400af1fed6d": {
      "model_module": "bqplot",
      "model_module_version": "^0.5.18",
      "model_name": "LinearScaleModel",
      "state": {
       "_model_module_version": "^0.5.18",
       "_view_module_version": "^0.5.18",
       "stabilized": false
      }
     },
     "0af8fb35d78c4637884e41ff7c2da864": {
      "model_module": "bqplot",
      "model_module_version": "^0.5.18",
      "model_name": "LinearScaleModel",
      "state": {
       "_model_module_version": "^0.5.18",
       "_view_module_version": "^0.5.18",
       "stabilized": false
      }
     },
     "1202072744d44545a3add58b7748ab1f": {
      "model_module": "@jupyter-widgets/controls",
      "model_module_version": "1.5.0",
      "model_name": "FloatProgressModel",
      "state": {
       "bar_style": "danger",
       "layout": "IPY_MODEL_9cb9ba1a26b94933b76281f6e1c08bef",
       "max": 1,
       "style": "IPY_MODEL_8379f4e50d894b80b8c0e867a597ddbf",
       "value": 1
      }
     },
     "1a4c70f01f1240ff912c2993193aa8bf": {
      "model_module": "@jupyter-widgets/base",
      "model_module_version": "1.2.0",
      "model_name": "LayoutModel",
      "state": {}
     },
     "1a948eb4bef548ecbb569164a6f6942e": {
      "model_module": "@jupyter-widgets/base",
      "model_module_version": "1.2.0",
      "model_name": "LayoutModel",
      "state": {
       "width": "20px"
      }
     },
     "1b9d2b45108e4940b4701217d09ec058": {
      "model_module": "@jupyter-widgets/base",
      "model_module_version": "1.2.0",
      "model_name": "LayoutModel",
      "state": {}
     },
     "1f6b4a676a9b4f928f3428ca99d19762": {
      "model_module": "@jupyter-widgets/controls",
      "model_module_version": "1.5.0",
      "model_name": "HTMLModel",
      "state": {
       "layout": "IPY_MODEL_94d01b80f72a4b84b3aff7a851c790a4",
       "style": "IPY_MODEL_52a1b2cc8be8478a9f510e9fd193330d",
       "value": "121it [00:25,  4.79it/s]"
      }
     },
     "2037f019b617407aa0892b8f4fb348b1": {
      "model_module": "@jupyter-widgets/base",
      "model_module_version": "1.2.0",
      "model_name": "LayoutModel",
      "state": {}
     },
     "24be9f933c074846b87c1a53256b351e": {
      "model_module": "@jupyter-widgets/base",
      "model_module_version": "1.2.0",
      "model_name": "LayoutModel",
      "state": {}
     },
     "2790230490c045edba542e5271bc48f5": {
      "model_module": "bqplot",
      "model_module_version": "^0.5.18",
      "model_name": "LinearScaleModel",
      "state": {
       "_model_module_version": "^0.5.18",
       "_view_module_version": "^0.5.18",
       "allow_padding": false,
       "max": 1,
       "min": 0,
       "stabilized": false
      }
     },
     "295935c1d6934cdb800c47f2036836a7": {
      "model_module": "bqplot",
      "model_module_version": "^0.5.18",
      "model_name": "LinearScaleModel",
      "state": {
       "_model_module_version": "^0.5.18",
       "_view_module_version": "^0.5.18",
       "allow_padding": false,
       "max": 1,
       "min": 0,
       "stabilized": false
      }
     },
     "303d6ef4ea4d4218a6404802e21e63fd": {
      "model_module": "@jupyter-widgets/controls",
      "model_module_version": "1.5.0",
      "model_name": "DescriptionStyleModel",
      "state": {
       "description_width": ""
      }
     },
     "37e1bf0f2515480e9bff264f878aa3b7": {
      "model_module": "@jupyter-widgets/controls",
      "model_module_version": "1.5.0",
      "model_name": "HTMLModel",
      "state": {
       "layout": "IPY_MODEL_24be9f933c074846b87c1a53256b351e",
       "style": "IPY_MODEL_8cc17d69df0543d785c5971f8fffb715"
      }
     },
     "3bd337804dd04c899a1534e347cc9e2c": {
      "model_module": "@jupyter-widgets/base",
      "model_module_version": "1.2.0",
      "model_name": "LayoutModel",
      "state": {
       "margin": "auto"
      }
     },
     "3e3c4d9d51e448c99735d9fa7ecb7aba": {
      "model_module": "@jupyter-widgets/controls",
      "model_module_version": "1.5.0",
      "model_name": "HBoxModel",
      "state": {
       "children": [
        "IPY_MODEL_68e0f61505e643a9b4c1f9606cfb1327",
        "IPY_MODEL_1202072744d44545a3add58b7748ab1f",
        "IPY_MODEL_1f6b4a676a9b4f928f3428ca99d19762"
       ],
       "layout": "IPY_MODEL_6ff469ba6ae54ea09f0638dd8070a922"
      }
     },
     "41652e5c56df41fe994dac391a7b0754": {
      "model_module": "@jupyter-widgets/controls",
      "model_module_version": "1.5.0",
      "model_name": "DescriptionStyleModel",
      "state": {
       "description_width": ""
      }
     },
     "4825146e9c884b76bd01fc26105bfa18": {
      "model_module": "@jupyter-widgets/controls",
      "model_module_version": "1.5.0",
      "model_name": "FloatProgressModel",
      "state": {
       "bar_style": "danger",
       "layout": "IPY_MODEL_1a948eb4bef548ecbb569164a6f6942e",
       "max": 1,
       "style": "IPY_MODEL_6efa89c405434de1a6338d180cc6dccd",
       "value": 1
      }
     },
     "4dedd7b40e044e6e827019661463d9ab": {
      "model_module": "bqplot",
      "model_module_version": "^0.5.18",
      "model_name": "FigureModel",
      "state": {
       "_model_module_version": "^0.5.18",
       "_view_module_version": "^0.5.18",
       "axes": [
        "IPY_MODEL_b6254158649c4810a1fa872740a231e8",
        "IPY_MODEL_9c0bd8feee6c43ba865bca29f8255dbc"
       ],
       "layout": "IPY_MODEL_1a4c70f01f1240ff912c2993193aa8bf",
       "marks": [
        "IPY_MODEL_ddbf932ce4cd45b1b2fa317b8f671693"
       ],
       "scale_x": "IPY_MODEL_e188054f60fa48c18d57bde8a0e45c63",
       "scale_y": "IPY_MODEL_52cb514fa4e74505b8de9d8a4632df7e",
       "title": "robot['laser'].get_reading()"
      }
     },
     "52a1b2cc8be8478a9f510e9fd193330d": {
      "model_module": "@jupyter-widgets/controls",
      "model_module_version": "1.5.0",
      "model_name": "DescriptionStyleModel",
      "state": {
       "description_width": ""
      }
     },
     "52cb514fa4e74505b8de9d8a4632df7e": {
      "model_module": "bqplot",
      "model_module_version": "^0.5.18",
      "model_name": "LinearScaleModel",
      "state": {
       "_model_module_version": "^0.5.18",
       "_view_module_version": "^0.5.18",
       "allow_padding": false,
       "max": 1,
       "min": 0,
       "stabilized": false
      }
     },
     "629c550596e14951b45cf7e2edb6cb8e": {
      "model_module": "@jupyter-widgets/base",
      "model_module_version": "1.2.0",
      "model_name": "LayoutModel",
      "state": {}
     },
     "68e0f61505e643a9b4c1f9606cfb1327": {
      "model_module": "@jupyter-widgets/controls",
      "model_module_version": "1.5.0",
      "model_name": "HTMLModel",
      "state": {
       "layout": "IPY_MODEL_629c550596e14951b45cf7e2edb6cb8e",
       "style": "IPY_MODEL_41652e5c56df41fe994dac391a7b0754"
      }
     },
     "6efa89c405434de1a6338d180cc6dccd": {
      "model_module": "@jupyter-widgets/controls",
      "model_module_version": "1.5.0",
      "model_name": "ProgressStyleModel",
      "state": {
       "description_width": ""
      }
     },
     "6ff469ba6ae54ea09f0638dd8070a922": {
      "model_module": "@jupyter-widgets/base",
      "model_module_version": "1.2.0",
      "model_name": "LayoutModel",
      "state": {}
     },
     "78cdae6e40c745058bd0db6599a9c2e2": {
      "model_module": "@jupyter-widgets/controls",
      "model_module_version": "1.5.0",
      "model_name": "HBoxModel",
      "state": {
       "children": [
        "IPY_MODEL_37e1bf0f2515480e9bff264f878aa3b7",
        "IPY_MODEL_4825146e9c884b76bd01fc26105bfa18",
        "IPY_MODEL_cf4252de664d49da92cecaf1c9085d6c"
       ],
       "layout": "IPY_MODEL_b069546ca0ab47d5acad14cff7812320"
      }
     },
     "7b863736b252463b984253d1f0cb8e3d": {
      "model_module": "bqplot",
      "model_module_version": "^0.5.18",
      "model_name": "AxisModel",
      "state": {
       "_model_module_version": "^0.5.18",
       "_view_module_version": "^0.5.18",
       "label": "time",
       "scale": "IPY_MODEL_d2c6415d15494adfbf078c2f76e52632",
       "side": "bottom",
       "tick_values": null
      }
     },
     "7db15a24ee7a479dbc0968b520313d16": {
      "buffers": [
       {
        "data": "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",
        "encoding": "base64",
        "path": [
         "value"
        ]
       }
      ],
      "model_module": "@jupyter-widgets/controls",
      "model_module_version": "1.5.0",
      "model_name": "ImageModel",
      "state": {
       "layout": "IPY_MODEL_3bd337804dd04c899a1534e347cc9e2c"
      }
     },
     "8379f4e50d894b80b8c0e867a597ddbf": {
      "model_module": "@jupyter-widgets/controls",
      "model_module_version": "1.5.0",
      "model_name": "ProgressStyleModel",
      "state": {
       "description_width": ""
      }
     },
     "8cc17d69df0543d785c5971f8fffb715": {
      "model_module": "@jupyter-widgets/controls",
      "model_module_version": "1.5.0",
      "model_name": "DescriptionStyleModel",
      "state": {
       "description_width": ""
      }
     },
     "94d01b80f72a4b84b3aff7a851c790a4": {
      "model_module": "@jupyter-widgets/base",
      "model_module_version": "1.2.0",
      "model_name": "LayoutModel",
      "state": {}
     },
     "9c0bd8feee6c43ba865bca29f8255dbc": {
      "model_module": "bqplot",
      "model_module_version": "^0.5.18",
      "model_name": "AxisModel",
      "state": {
       "_model_module_version": "^0.5.18",
       "_view_module_version": "^0.5.18",
       "label": "reading",
       "orientation": "vertical",
       "scale": "IPY_MODEL_0776c69e734a46448a271400af1fed6d",
       "side": "left",
       "tick_values": null
      }
     },
     "9cb9ba1a26b94933b76281f6e1c08bef": {
      "model_module": "@jupyter-widgets/base",
      "model_module_version": "1.2.0",
      "model_name": "LayoutModel",
      "state": {
       "width": "20px"
      }
     },
     "b069546ca0ab47d5acad14cff7812320": {
      "model_module": "@jupyter-widgets/base",
      "model_module_version": "1.2.0",
      "model_name": "LayoutModel",
      "state": {}
     },
     "b56e5c6020b04bfc8e396d99a3cf1075": {
      "buffers": [
       {
        "data": "ZmZmZmZmKECamZmZmZkoQM3MzMzMzChAAAAAAAAAKUAzMzMzMzMpQGZmZmZmZilAmpmZmZmZKUDNzMzMzMwpQAAAAAAAACpAMzMzMzMzKkBmZmZmZmYqQJqZmZmZmSpAzczMzMzMKkAAAAAAAAArQDMzMzMzMytAZmZmZmZmK0CamZmZmZkrQM3MzMzMzCtAAAAAAAAALEAzMzMzMzMsQGZmZmZmZixAmpmZmZmZLEDNzMzMzMwsQAAAAAAAAC1AMzMzMzMzLUBmZmZmZmYtQJqZmZmZmS1AzczMzMzMLUAAAAAAAAAuQDMzMzMzMy5AZmZmZmZmLkCamZmZmZkuQM3MzMzMzC5AAAAAAAAAL0AzMzMzMzMvQGZmZmZmZi9AmpmZmZmZL0DNzMzMzMwvQAAAAAAAADBAmpmZmZkZMEAzMzMzMzMwQM3MzMzMTDBAZmZmZmZmMEAAAAAAAIAwQJqZmZmZmTBAMzMzMzOzMEDNzMzMzMwwQGZmZmZm5jBAAAAAAAAAMUCamZmZmRkxQDMzMzMzMzFAzczMzMxMMUBmZmZmZmYxQAAAAAAAgDFAmpmZmZmZMUAzMzMzM7MxQM3MzMzMzDFAZmZmZmbmMUAAAAAAAAAyQJqZmZmZGTJAMzMzMzMzMkDNzMzMzEwyQGZmZmZmZjJAAAAAAACAMkCamZmZmZkyQDMzMzMzszJAzczMzMzMMkBmZmZmZuYyQAAAAAAAADNAmpmZmZkZM0AzMzMzMzMzQM3MzMzMTDNAZmZmZmZmM0AAAAAAAIAzQJqZmZmZmTNAMzMzMzOzM0DNzMzMzMwzQGZmZmZm5jNAAAAAAAAANECamZmZmRk0QDMzMzMzMzRAzczMzMxMNEBmZmZmZmY0QAAAAAAAgDRAmpmZmZmZNEAzMzMzM7M0QM3MzMzMzDRAZmZmZmbmNEAAAAAAAAA1QJqZmZmZGTVAMzMzMzMzNUDNzMzMzEw1QGZmZmZmZjVAAAAAAACANUCamZmZmZk1QDMzMzMzszVAzczMzMzMNUBmZmZmZuY1QAAAAAAAADZAmpmZmZkZNkAzMzMzMzM2QM3MzMzMTDZAZmZmZmZmNkAAAAAAAIA2QJqZmZmZmTZAMzMzMzOzNkDNzMzMzMw2QGZmZmZm5jZAAAAAAAAAN0CamZmZmRk3QDMzMzMzMzdAzczMzMxMN0BmZmZmZmY3QAAAAAAAgDdAmpmZmZmZN0AzMzMzM7M3QM3MzMzMzDdAZmZmZmbmN0AAAAAAAAA4QJqZmZmZGThAMzMzMzMzOEDNzMzMzEw4QGZmZmZmZjhAAAAAAACAOECamZmZmZk4QDMzMzMzszhAzczMzMzMOEBmZmZmZuY4QAAAAAAAADlAmpmZmZkZOUAzMzMzMzM5QM3MzMzMTDlAZmZmZmZmOUAAAAAAAIA5QJqZmZmZmTlAMzMzMzOzOUDNzMzMzMw5QGZmZmZm5jlAAAAAAAAAOkCamZmZmRk6QDMzMzMzMzpAzczMzMxMOkBmZmZmZmY6QAAAAAAAgDpAmpmZmZmZOkAzMzMzM7M6QM3MzMzMzDpAZmZmZmbmOkAAAAAAAAA7QJqZmZmZGTtAMzMzMzMzO0DNzMzMzEw7QGZmZmZmZjtAAAAAAACAO0CamZmZmZk7QDMzMzMzsztAzczMzMzMO0BmZmZmZuY7QAAAAAAAADxAmpmZmZkZPEAzMzMzMzM8QM3MzMzMTDxAZmZmZmZmPEAAAAAAAIA8QJqZmZmZmTxAMzMzMzOzPEDNzMzMzMw8QGZmZmZm5jxAAAAAAAAAPUCamZmZmRk9QDMzMzMzMz1AzczMzMxMPUBmZmZmZmY9QAAAAAAAgD1AmpmZmZmZPUA=",
        "encoding": "base64",
        "path": [
         "x",
         "value"
        ]
       },
       {
        "data": "AAAAAAAA8D8AAAAAAADwPwAAAAAAAPA/AAAAAAAA8D8AAAAAAADwPwAAAAAAAPA/AAAAAAAA8D8AAAAAAADwPwAAAAAAAPA/AAAAAAAA8D8AAAAAAADwPwAAAAAAAPA/AAAAAAAA8D8AAAAAAADwPwAAAAAAAPA/AAAAAAAA8D8AAAAAAADwPwAAAAAAAPA/AAAAAAAA8D8AAAAAAADwPwAAAAAAAPA/AAAAAAAA8D8AAAAAAADwPwAAAAAAAPA/AAAAAAAA8D8AAAAAAADwPwAAAAAAAPA/AAAAAAAA8D8AAAAAAADwPwAAAAAAAPA/AAAAAAAA8D8AAAAAAADwPwAAAAAAAPA/AAAAAAAA8D8AAAAAAADwPwAAAAAAAPA/AAAAAAAA8D8AAAAAAADwPwAAAAAAAPA/AAAAAAAA8D8AAAAAAADwPwAAAAAAAPA/AAAAAAAA8D8AAAAAAADwPwAAAAAAAPA/AAAAAAAA8D8AAAAAAADwPwAAAAAAAPA/AAAAAAAA8D8AAAAAAADwPwAAAAAAAPA/AAAAAAAA8D8AAAAAAADwPwAAAAAAAPA/AAAAAAAA8D8AAAAAAADwPwAAAAAAAPA/AAAAAAAA8D8AAAAAAADwPwAAAAAAAPA/AAAAAAAA8D8AAAAAAADwPwAAAAAAAPA/AAAAAAAA8D8AAAAAAADwPwAAAAAAAPA/AAAAAAAA8D8AAAAAAADwPwAAAAAAAPA/AAAAAAAA8D8AAAAAAADwPwAAAAAAAPA/AAAAAAAA8D8AAAAAAADwPwAAAAAAAPA/AAAAAAAA8D8AAAAAAADwPwAAAAAAAPA/AAAAAAAA8D/kR+F6FK7vP+id76fGS+8/7PP91Hjp7j/vSQwCK4fuP/OfGi/dJO4/9/UoXI/C7T/7SzeJQWDtP/+hRbbz/ew/A/hT46Wb7D8GTmIQWDnsPwqkcD0K1+s/Dvp+arx06z8SUI2XbhLrPxamm8QgsOo/Gvyp8dJN6j8dUrgehevpPyGoxks3iek/Jf7UeOkm6T8pVOOlm8ToPy2q8dJNYug/MQAAAAAA6D80Vg4tsp3nPzisHFpkO+c/PAIrhxbZ5j9AWDm0yHbmP0SuR+F6FOY/SARWDi2y5T9MWmQ730/lP0+wcmiR7eQ/UwaBlUOL5D9XXI/C9SjkP1uyne+nxuM/XwisHFpk4z9jXrpJDALjP2a0yHa+n+I/agrXo3A94j9uYOXQItvhP3K28/3UeOE/dgwCK4cW4T96YhBYObTgP324HoXrUeA/Ax1aZDvf3z8KyXa+nxrfPxJ1kxgEVt4/GiGwcmiR3T8hzczMzMzcP31cj8L1KNw/2utRuB6F2z82exSuR+HaP5IK16NwPdo/7pmZmZmZ2T9KKVyPwvXYP6a4HoXrUdg/A0jhehSu1z9f16NwPQrXP7tmZmZmZtY/F/YoXI/C1T9zhetRuB7VP88UrkfhetQ/LKRwPQrX0z+IMzMzMzPTP+TC9Shcj9I/QFK4HoXr0T+c4XoUrkfRP/hwPQrXo9A/VAAAAAAA0D9hH4XrUbjOPxo+CtejcM0/0lyPwvUozD+KexSuR+HKP0OamZmZmck/+7gehetRyD+z16NwPQrHP2z2KFyPwsU/JBWuR+F6xD/cMzMzMzPDP5RSuB6F68E/TXE9CtejwD8KIIXrUbi+P3tdj8L1KLw/7JqZmZmZuT9c2KNwPQq3P80VrkfherQ/PVO4HoXrsT9cIYXrUbiuPz2cmZmZmak/HxeuR+F6pD8AJIXrUbieP8MZrkfhepQ/Ch+uR+F6hD8fhetRuB71PB+F61G4HvU8AAAAAAAA8D8AAAAAAADwPwAAAAAAAPA/AAAAAAAA8D8=",
        "encoding": "base64",
        "path": [
         "y",
         "value"
        ]
       }
      ],
      "model_module": "bqplot",
      "model_module_version": "^0.5.18",
      "model_name": "LinesModel",
      "state": {
       "_model_module_version": "^0.5.18",
       "_view_module_version": "^0.5.18",
       "colors": [
        "red"
       ],
       "fill_colors": [],
       "labels": [
        "C1"
       ],
       "scales": {
        "x": "IPY_MODEL_d2c6415d15494adfbf078c2f76e52632",
        "y": "IPY_MODEL_0af8fb35d78c4637884e41ff7c2da864"
       },
       "stroke_width": 3,
       "x": {
        "dtype": "float64",
        "shape": [
         175
        ],
        "type": null
       },
       "y": {
        "dtype": "float64",
        "shape": [
         175
        ],
        "type": null
       }
      }
     },
     "b5a92dc920bb43e5a74dfcf4e96b529a": {
      "model_module": "bqplot",
      "model_module_version": "^0.5.18",
      "model_name": "AxisModel",
      "state": {
       "_model_module_version": "^0.5.18",
       "_view_module_version": "^0.5.18",
       "label": "reading",
       "orientation": "vertical",
       "scale": "IPY_MODEL_0af8fb35d78c4637884e41ff7c2da864",
       "side": "left",
       "tick_values": null
      }
     },
     "b6254158649c4810a1fa872740a231e8": {
      "model_module": "bqplot",
      "model_module_version": "^0.5.18",
      "model_name": "AxisModel",
      "state": {
       "_model_module_version": "^0.5.18",
       "_view_module_version": "^0.5.18",
       "label": "time",
       "scale": "IPY_MODEL_e4cfa7c0a778456c899f76ce2607bc08",
       "side": "bottom",
       "tick_values": null
      }
     },
     "cf4252de664d49da92cecaf1c9085d6c": {
      "model_module": "@jupyter-widgets/controls",
      "model_module_version": "1.5.0",
      "model_name": "HTMLModel",
      "state": {
       "layout": "IPY_MODEL_2037f019b617407aa0892b8f4fb348b1",
       "style": "IPY_MODEL_303d6ef4ea4d4218a6404802e21e63fd",
       "value": "175it [00:24,  7.15it/s]"
      }
     },
     "d2c6415d15494adfbf078c2f76e52632": {
      "model_module": "bqplot",
      "model_module_version": "^0.5.18",
      "model_name": "LinearScaleModel",
      "state": {
       "_model_module_version": "^0.5.18",
       "_view_module_version": "^0.5.18",
       "stabilized": false
      }
     },
     "ddbf932ce4cd45b1b2fa317b8f671693": {
      "buffers": [
       {
        "data": "ZmZmZmZmKECamZmZmZkoQM3MzMzMzChAAAAAAAAAKUAzMzMzMzMpQGZmZmZmZilAmpmZmZmZKUDNzMzMzMwpQAAAAAAAACpAMzMzMzMzKkBmZmZmZmYqQJqZmZmZmSpAzczMzMzMKkAAAAAAAAArQDMzMzMzMytAZmZmZmZmK0CamZmZmZkrQM3MzMzMzCtAAAAAAAAALEAzMzMzMzMsQGZmZmZmZixAmpmZmZmZLEDNzMzMzMwsQAAAAAAAAC1AMzMzMzMzLUBmZmZmZmYtQJqZmZmZmS1AzczMzMzMLUAAAAAAAAAuQDMzMzMzMy5AZmZmZmZmLkCamZmZmZkuQM3MzMzMzC5AAAAAAAAAL0AzMzMzMzMvQGZmZmZmZi9AmpmZmZmZL0DNzMzMzMwvQAAAAAAAADBAmpmZmZkZMEAzMzMzMzMwQM3MzMzMTDBAZmZmZmZmMEAAAAAAAIAwQJqZmZmZmTBAMzMzMzOzMEDNzMzMzMwwQGZmZmZm5jBAAAAAAAAAMUCamZmZmRkxQDMzMzMzMzFAzczMzMxMMUBmZmZmZmYxQAAAAAAAgDFAmpmZmZmZMUAzMzMzM7MxQM3MzMzMzDFAZmZmZmbmMUAAAAAAAAAyQJqZmZmZGTJAMzMzMzMzMkDNzMzMzEwyQGZmZmZmZjJAAAAAAACAMkCamZmZmZkyQDMzMzMzszJAzczMzMzMMkBmZmZmZuYyQAAAAAAAADNAmpmZmZkZM0AzMzMzMzMzQM3MzMzMTDNAZmZmZmZmM0AAAAAAAIAzQJqZmZmZmTNAMzMzMzOzM0DNzMzMzMwzQGZmZmZm5jNAAAAAAAAANECamZmZmRk0QDMzMzMzMzRAzczMzMxMNEBmZmZmZmY0QAAAAAAAgDRAmpmZmZmZNEAzMzMzM7M0QM3MzMzMzDRAZmZmZmbmNEAAAAAAAAA1QJqZmZmZGTVAMzMzMzMzNUDNzMzMzEw1QGZmZmZmZjVAAAAAAACANUCamZmZmZk1QDMzMzMzszVAzczMzMzMNUBmZmZmZuY1QAAAAAAAADZAmpmZmZkZNkAzMzMzMzM2QM3MzMzMTDZAZmZmZmZmNkAAAAAAAIA2QJqZmZmZmTZAMzMzMzOzNkDNzMzMzMw2QGZmZmZm5jZAAAAAAAAAN0CamZmZmRk3QDMzMzMzMzdAzczMzMxMN0BmZmZmZmY3QAAAAAAAgDdAmpmZmZmZN0AzMzMzM7M3QM3MzMzMzDdAZmZmZmbmN0AAAAAAAAA4QJqZmZmZGThAMzMzMzMzOEDNzMzMzEw4QGZmZmZmZjhAAAAAAACAOECamZmZmZk4QDMzMzMzszhAzczMzMzMOEBmZmZmZuY4QAAAAAAAADlAmpmZmZkZOUAzMzMzMzM5QM3MzMzMTDlAZmZmZmZmOUAAAAAAAIA5QJqZmZmZmTlAMzMzMzOzOUDNzMzMzMw5QGZmZmZm5jlAAAAAAAAAOkCamZmZmRk6QDMzMzMzMzpAzczMzMxMOkBmZmZmZmY6QAAAAAAAgDpAmpmZmZmZOkAzMzMzM7M6QM3MzMzMzDpAZmZmZmbmOkAAAAAAAAA7QJqZmZmZGTtAMzMzMzMzO0DNzMzMzEw7QGZmZmZmZjtAAAAAAACAO0CamZmZmZk7QDMzMzMzsztAzczMzMzMO0BmZmZmZuY7QAAAAAAAADxAmpmZmZkZPEAzMzMzMzM8QM3MzMzMTDxAZmZmZmZmPEAAAAAAAIA8QJqZmZmZmTxAMzMzMzOzPEDNzMzMzMw8QGZmZmZm5jxAAAAAAAAAPUCamZmZmRk9QDMzMzMzMz1AzczMzMxMPUBmZmZmZmY9QAAAAAAAgD1AmpmZmZmZPUA=",
        "encoding": "base64",
        "path": [
         "x",
         "value"
        ]
       },
       {
        "data": "AAAAAAAA8D8AAAAAAADwPwAAAAAAAPA/AAAAAAAA8D8AAAAAAADwPwAAAAAAAPA/AAAAAAAA8D8AAAAAAADwPwAAAAAAAPA/AAAAAAAA8D8AAAAAAADwPwAAAAAAAPA/AAAAAAAA8D8AAAAAAADwPwAAAAAAAPA/AAAAAAAA8D8AAAAAAADwPwAAAAAAAPA/AAAAAAAA8D8AAAAAAADwPwAAAAAAAPA/AAAAAAAA8D8AAAAAAADwPwAAAAAAAPA/AAAAAAAA8D8AAAAAAADwPwAAAAAAAPA/AAAAAAAA8D8AAAAAAADwPwAAAAAAAPA/AAAAAAAA8D8AAAAAAADwPwAAAAAAAPA/AAAAAAAA8D8AAAAAAADwPwAAAAAAAPA/AAAAAAAA8D8AAAAAAADwPwAAAAAAAPA/AAAAAAAA8D8AAAAAAADwPwAAAAAAAPA/AAAAAAAA8D8AAAAAAADwPwAAAAAAAPA/AAAAAAAA8D8AAAAAAADwPwAAAAAAAPA/AAAAAAAA8D8AAAAAAADwPwAAAAAAAPA/AAAAAAAA8D8AAAAAAADwPwAAAAAAAPA/AAAAAAAA8D8AAAAAAADwPwAAAAAAAPA/AAAAAAAA8D8AAAAAAADwPwAAAAAAAPA/AAAAAAAA8D8AAAAAAADwPwAAAAAAAPA/AAAAAAAA8D8AAAAAAADwPwAAAAAAAPA/AAAAAAAA8D8AAAAAAADwPwAAAAAAAPA/AAAAAAAA8D8AAAAAAADwPwAAAAAAAPA/AAAAAAAA8D8AAAAAAADwPwAAAAAAAPA/AAAAAAAA8D8AAAAAAADwPwAAAAAAAPA/AAAAAAAA8D/kR+F6FK7vP+id76fGS+8/7PP91Hjp7j/vSQwCK4fuP/OfGi/dJO4/9/UoXI/C7T/7SzeJQWDtP/+hRbbz/ew/A/hT46Wb7D8GTmIQWDnsPwqkcD0K1+s/Dvp+arx06z8SUI2XbhLrPxamm8QgsOo/Gvyp8dJN6j8dUrgehevpPyGoxks3iek/Jf7UeOkm6T8pVOOlm8ToPy2q8dJNYug/MQAAAAAA6D80Vg4tsp3nPzisHFpkO+c/PAIrhxbZ5j9AWDm0yHbmP0SuR+F6FOY/SARWDi2y5T9MWmQ730/lP0+wcmiR7eQ/UwaBlUOL5D9XXI/C9SjkP1uyne+nxuM/XwisHFpk4z9jXrpJDALjP2a0yHa+n+I/agrXo3A94j9uYOXQItvhP3K28/3UeOE/dgwCK4cW4T96YhBYObTgP324HoXrUeA/Ax1aZDvf3z8KyXa+nxrfPxJ1kxgEVt4/GiGwcmiR3T8hzczMzMzcP31cj8L1KNw/2utRuB6F2z82exSuR+HaP5IK16NwPdo/7pmZmZmZ2T9KKVyPwvXYP6a4HoXrUdg/A0jhehSu1z9f16NwPQrXP7tmZmZmZtY/F/YoXI/C1T9zhetRuB7VP88UrkfhetQ/LKRwPQrX0z+IMzMzMzPTP+TC9Shcj9I/QFK4HoXr0T+c4XoUrkfRP/hwPQrXo9A/VAAAAAAA0D9hH4XrUbjOPxo+CtejcM0/0lyPwvUozD+KexSuR+HKP0OamZmZmck/+7gehetRyD+z16NwPQrHP2z2KFyPwsU/JBWuR+F6xD/cMzMzMzPDP5RSuB6F68E/TXE9CtejwD8KIIXrUbi+P3tdj8L1KLw/7JqZmZmZuT9c2KNwPQq3P80VrkfherQ/PVO4HoXrsT9cIYXrUbiuPz2cmZmZmak/HxeuR+F6pD8AJIXrUbieP8MZrkfhepQ/Ch+uR+F6hD8fhetRuB71PB+F61G4HvU8AAAAAAAA8D8AAAAAAADwPwAAAAAAAPA/AAAAAAAA8D8=",
        "encoding": "base64",
        "path": [
         "y",
         "value"
        ]
       }
      ],
      "model_module": "bqplot",
      "model_module_version": "^0.5.18",
      "model_name": "LinesModel",
      "state": {
       "_model_module_version": "^0.5.18",
       "_view_module_version": "^0.5.18",
       "colors": [
        "red"
       ],
       "fill_colors": [],
       "labels": [
        "C1"
       ],
       "scales": {
        "x": "IPY_MODEL_e4cfa7c0a778456c899f76ce2607bc08",
        "y": "IPY_MODEL_0776c69e734a46448a271400af1fed6d"
       },
       "stroke_width": 3,
       "x": {
        "dtype": "float64",
        "shape": [
         175
        ],
        "type": null
       },
       "y": {
        "dtype": "float64",
        "shape": [
         175
        ],
        "type": null
       }
      }
     },
     "e188054f60fa48c18d57bde8a0e45c63": {
      "model_module": "bqplot",
      "model_module_version": "^0.5.18",
      "model_name": "LinearScaleModel",
      "state": {
       "_model_module_version": "^0.5.18",
       "_view_module_version": "^0.5.18",
       "allow_padding": false,
       "max": 1,
       "min": 0,
       "stabilized": false
      }
     },
     "e4cfa7c0a778456c899f76ce2607bc08": {
      "model_module": "bqplot",
      "model_module_version": "^0.5.18",
      "model_name": "LinearScaleModel",
      "state": {
       "_model_module_version": "^0.5.18",
       "_view_module_version": "^0.5.18",
       "stabilized": false
      }
     },
     "eddd0a3172cb40b5840d9828a59d7cb6": {
      "model_module": "bqplot",
      "model_module_version": "^0.5.18",
      "model_name": "FigureModel",
      "state": {
       "_model_module_version": "^0.5.18",
       "_view_module_version": "^0.5.18",
       "axes": [
        "IPY_MODEL_7b863736b252463b984253d1f0cb8e3d",
        "IPY_MODEL_b5a92dc920bb43e5a74dfcf4e96b529a"
       ],
       "layout": "IPY_MODEL_1b9d2b45108e4940b4701217d09ec058",
       "marks": [
        "IPY_MODEL_b56e5c6020b04bfc8e396d99a3cf1075"
       ],
       "scale_x": "IPY_MODEL_2790230490c045edba542e5271bc48f5",
       "scale_y": "IPY_MODEL_295935c1d6934cdb800c47f2036836a7",
       "title": "robot['laser'].get_reading()"
      }
     }
    },
    "version_major": 2,
    "version_minor": 0
   }
  }
 },
 "nbformat": 4,
 "nbformat_minor": 4
}
