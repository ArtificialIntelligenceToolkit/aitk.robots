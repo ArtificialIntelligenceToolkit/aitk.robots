{
 "cells": [
  {
   "cell_type": "markdown",
   "id": "american-video",
   "metadata": {},
   "source": [
    "# Overview of aitk.robots"
   ]
  },
  {
   "cell_type": "markdown",
   "id": "israeli-space",
   "metadata": {},
   "source": [
    "This is an overview of the Python package `aitk.robots`. It features the following:\n",
    "\n",
    "* Simulation of mobile robots\n",
    "* Written in pure-Python\n",
    "* Balance of speed and features, including 3D camera views\n",
    "* Designed for research, education, and exploration\n",
    "* Can be used with modern JupyterLab and Notebooks\n",
    "* Creates easily reproducible experiments for Machine Learning\n",
    "\n",
    "You can install bare `aitk.robots` package with the command-line:\n",
    "\n",
    "```shell\n",
    "pip install aitk.robots\n",
    "```\n",
    "\n",
    "Or, if using with Jupyter Lab 3.0:\n",
    "\n",
    "```shell\n",
    "pip install \"aitk.robots[jupyter]\"\n",
    "jupyter labextension install @jupyter-widgets/jupyterlab-manager ipycanvas\n",
    "```\n",
    "\n",
    "If you have installed `aitk.robots` before and want to install the latest version, add the flag `--upgrade` to the above `pip` commands."
   ]
  },
  {
   "cell_type": "markdown",
   "id": "restricted-supply",
   "metadata": {},
   "source": [
    "## What is aitk?\n",
    "\n",
    "`aitk` stands for Artificial Intelligence Toolkit. The package `robots` contains tools for running simulated mobile (wheeled) robots. You can install just the `robots` package (as described above), or install the entire suite of tools with:\n",
    "\n",
    "```shell\n",
    "pip install aitk\n",
    "```\n",
    "\n",
    "If you have installed `aitk` (or any `aitk` packages) before and want to install the latest versions, add the flag `--upgrade` to the above command.\n",
    "\n",
    "## Getting Started\n",
    "\n",
    "Whether you are in a Notebook (like this example) or in a Python script, you will need to import the `aitk.robots` library:"
   ]
  },
  {
   "cell_type": "code",
   "execution_count": 1,
   "id": "visible-legislation",
   "metadata": {},
   "outputs": [
    {
     "data": {
      "text/plain": [
       "'0.8.3'"
      ]
     },
     "execution_count": 1,
     "metadata": {},
     "output_type": "execute_result"
    }
   ],
   "source": [
    "import aitk.robots as bots\n",
    "bots.__version__"
   ]
  },
  {
   "cell_type": "markdown",
   "id": "moral-washington",
   "metadata": {},
   "source": [
    "A common first check is to print out the version of the library to make sure it is the appropriate version. The code in this notebook is written for aitk.robots version 1, so you should see a version that starts with \"1\"."
   ]
  },
  {
   "cell_type": "markdown",
   "id": "running-salem",
   "metadata": {},
   "source": [
    "<div class=\"alert alert-block alert-info\">\n",
    "\n",
    "<b>Troubleshooting:</b> if you aren't able to import `aitk.robots`, make sure you are installing with the correct `pip`. In a Notebook, you can use the `%pip` magic. At the shell you can use `python -m pip` instead.\n",
    "</div>\n",
    "\n",
    "## bots?\n",
    "\n",
    "Notice in the above cell that we imported `aitk.robots` as `bots`. That makes `bots` just a shorthand so that we don't have to write `aitk.robots`. We'll use this convention throughout these examples.\n",
    "\n",
    "Ok, let's simulate!"
   ]
  },
  {
   "cell_type": "markdown",
   "id": "imposed-utilization",
   "metadata": {},
   "source": [
    "## bots.World"
   ]
  },
  {
   "cell_type": "code",
   "execution_count": 2,
   "id": "seven-produce",
   "metadata": {},
   "outputs": [
    {
     "name": "stdout",
     "output_type": "stream",
     "text": [
      "Random seed set to: 6776326\n"
     ]
    }
   ],
   "source": [
    "world = bots.World(width=100, height=100)"
   ]
  },
  {
   "cell_type": "markdown",
   "id": "given-contrary",
   "metadata": {},
   "source": [
    "The above command created a world that is 100 cm by 100 cm. Also, it displayed a \"Random seed\". This is shown so that you can create reproducible simulations. If you do not manually set a seed, then it will generate one for you, and print it out.\n",
    "\n",
    "If you are in a Jupyter Notebook, then we can generate an image of the world, and display it right here:"
   ]
  },
  {
   "cell_type": "code",
   "execution_count": 3,
   "id": "veterinary-knife",
   "metadata": {},
   "outputs": [
    {
     "data": {
      "image/png": "[encoded data removed]",
      "text/plain": [
       "<PIL.Image.Image image mode=RGB size=300x300 at 0x7F69087046A0>"
      ]
     },
     "metadata": {},
     "output_type": "display_data"
    }
   ],
   "source": [
    "world.display()"
   ]
  },
  {
   "cell_type": "markdown",
   "id": "excessive-technical",
   "metadata": {},
   "source": [
    "If you are not in a Jupyter Notebook, you could still generate a Python Image Library image of the world and display it in the console with this command:\n",
    "\n",
    "```python\n",
    "world.get_image().show()\n",
    "```\n",
    "\n",
    "That would open up a window on your computer, like this:\n",
    "\n",
    "![](./images/world-show.png)"
   ]
  },
  {
   "cell_type": "markdown",
   "id": "applied-reader",
   "metadata": {},
   "source": [
    "The image of a World shows a 2D, top-down view of the world and everything in it. By default the \"ground\" is green, and there is a purple border around the whole world. The image if the world also shows the elapsed time in the simulation in \"HH:MM:SS.S\" (2 digits of hours, 2 digits of minutes, and 3 digits showing tenths of a second).\n",
    "\n",
    "We can add any of the following items to the world:\n",
    "\n",
    "* robots\n",
    "* walls\n",
    "* lights (called \"bulbs\")\n",
    "\n",
    "We'll add each of those in the following sections. Let's start by adding a robot."
   ]
  },
  {
   "cell_type": "markdown",
   "id": "sound-identification",
   "metadata": {},
   "source": [
    "## bots.Robot\n",
    "\n",
    "Although there is a `bots.Robot`, we'll use the subclass `Scribbler` because robots need a \"body\" and the base class `Robot` doesn't have one.\n",
    "\n",
    "The Scribbler is a robot manufactured by [Parallax, inc](https://en.wikipedia.org/wiki/Parallax,_Inc.) and looks like this in the real world with a Camera by the [Institute for Personal Robots in Education](https://en.wikipedia.org/wiki/Institute_for_Personal_Robots_in_Education):\n",
    "\n",
    "<img src=\"https://upload.wikimedia.org/wikipedia/commons/8/8e/Scribbler_robot.jpg\" width=\"400px\">"
   ]
  },
  {
   "cell_type": "markdown",
   "id": "classified-craft",
   "metadata": {},
   "source": [
    "We use the simulated Scribbler robot as it makes a fine base for many of the examples. However, you can easily create your own simulated robot by simply defining a body.\n",
    "\n",
    "We'll make a lightblue-colored Scribbler (to match the IRL version) and save it to a variable named `robot`:"
   ]
  },
  {
   "cell_type": "code",
   "execution_count": 4,
   "id": "neural-juice",
   "metadata": {},
   "outputs": [],
   "source": [
    "robot = bots.Scribbler(color=\"lightblue\")"
   ]
  },
  {
   "cell_type": "markdown",
   "id": "appropriate-awareness",
   "metadata": {},
   "source": [
    "Next, we'll add it to the world:"
   ]
  },
  {
   "cell_type": "code",
   "execution_count": 5,
   "id": "distinct-paint",
   "metadata": {},
   "outputs": [],
   "source": [
    "world.add_robot(robot)"
   ]
  },
  {
   "cell_type": "markdown",
   "id": "mathematical-lightning",
   "metadata": {},
   "source": [
    "<div class=\"alert alert-block alert-info\">\n",
    "\n",
    "<b>Troubleshooting:</b> if you try to add the same robot to the world more than once, you will get an error. However, you can add multiple robots as we'll see below.\n",
    "</div>\n"
   ]
  },
  {
   "cell_type": "markdown",
   "id": "bronze-topic",
   "metadata": {},
   "source": [
    "How do we know the world now has a robot in it? Well, one way is to display it again:"
   ]
  },
  {
   "cell_type": "code",
   "execution_count": 6,
   "id": "everyday-incidence",
   "metadata": {},
   "outputs": [
    {
     "data": {
      "image/png": "[encoded data removed]",
      "text/plain": [
       "<PIL.Image.Image image mode=RGB size=300x300 at 0x7F69087046A0>"
      ]
     },
     "metadata": {},
     "output_type": "display_data"
    }
   ],
   "source": [
    "world.display()"
   ]
  },
  {
   "cell_type": "markdown",
   "id": "advised-edgar",
   "metadata": {},
   "source": [
    "You should see a lightblue robot in the world somewhere, facing in a random direction. We could have added the robot to an exact place, facing a precise direction. \n",
    "\n",
    "The location and direction of a robot can be seen by using the `get_pose()` method:"
   ]
  },
  {
   "cell_type": "code",
   "execution_count": 7,
   "id": "connected-incidence",
   "metadata": {},
   "outputs": [
    {
     "data": {
      "text/plain": [
       "(64, 15, 286.1048702583763)"
      ]
     },
     "execution_count": 7,
     "metadata": {},
     "output_type": "execute_result"
    }
   ],
   "source": [
    "robot.get_pose()"
   ]
  },
  {
   "cell_type": "markdown",
   "id": "hazardous-polyester",
   "metadata": {},
   "source": [
    "That returns the robot's pose:\n",
    "\n",
    "* x, the distance in cm from left border of world\n",
    "* y, the distance in cm from the top border of the world\n",
    "* a, the angle in degrees, with 0 facing right, moving counter-clockwise as it increases\n",
    "\n",
    "You can also get this imformation from the robot's representation:"
   ]
  },
  {
   "cell_type": "code",
   "execution_count": 8,
   "id": "identical-wedding",
   "metadata": {},
   "outputs": [
    {
     "data": {
      "text/plain": [
       "<Robot(name='Scribbie', x=64, y=15, a=286.1)>"
      ]
     },
     "execution_count": 8,
     "metadata": {},
     "output_type": "execute_result"
    }
   ],
   "source": [
    "robot"
   ]
  },
  {
   "cell_type": "markdown",
   "id": "pregnant-filing",
   "metadata": {},
   "source": [
    "Because we did not specify a pose, the world put the robot into an unoccupied random location.\n",
    "\n",
    "## Hello, world!\n",
    "\n",
    "In summary (with something slightly new), here is an end-to-end example of \"Hello, world!\" in aitk.robots:"
   ]
  },
  {
   "cell_type": "code",
   "execution_count": 9,
   "id": "sticky-gilbert",
   "metadata": {},
   "outputs": [
    {
     "name": "stdout",
     "output_type": "stream",
     "text": [
      "Random seed set to: 3727096\n"
     ]
    },
    {
     "data": {
      "application/vnd.jupyter.widget-view+json": {
       "model_id": "52c014039215420ea6829eaa12128f4c",
       "version_major": 2,
       "version_minor": 0
      },
      "text/plain": [
       "Image(value=b'\\xff\\xd8\\xff\\xe0\\x00\\x10JFIF\\x00\\x01\\x01\\x00\\x00\\x01\\x00\\x01\\x00\\x00\\xff\\xdb\\x00C\\x00\\x08\\x06\\x0…"
      ]
     },
     "metadata": {},
     "output_type": "display_data"
    }
   ],
   "source": [
    "import aitk.robots as bots\n",
    "world = bots.World(150, 70) # width, height\n",
    "robot = bots.Scribbler(20, 25, 90) # x, y, a, default color is red\n",
    "world.add_robot(robot)\n",
    "robot.speak(\"Hello, World!\") # new command!\n",
    "world.watch()"
   ]
  },
  {
   "cell_type": "markdown",
   "id": "fourth-calcium",
   "metadata": {},
   "source": [
    "The Robot `speak()` method takes a short string (perhaps with newlines) and shows the robot speaking it in a speech bubble. This is useful for debugging robot behaviors, as we will see.  For now, we just say \"hi!\"\n",
    "\n",
    "Now, let's build a larger, more realistic world."
   ]
  },
  {
   "cell_type": "markdown",
   "id": "departmental-rouge",
   "metadata": {},
   "source": [
    "## Walls"
   ]
  },
  {
   "cell_type": "code",
   "execution_count": 10,
   "id": "jewish-sterling",
   "metadata": {},
   "outputs": [
    {
     "name": "stdout",
     "output_type": "stream",
     "text": [
      "Random seed set to: 2459629\n"
     ]
    }
   ],
   "source": [
    "world2 = bots.World(500, 200)"
   ]
  },
  {
   "cell_type": "code",
   "execution_count": 14,
   "id": "italic-journey",
   "metadata": {
    "tags": []
   },
   "outputs": [
    {
     "data": {
      "application/vnd.jupyter.widget-view+json": {
       "model_id": "03f043b6109b46469492f0d63f03dcf6",
       "version_major": 2,
       "version_minor": 0
      },
      "text/plain": [
       "Image(value=b'\\xff\\xd8\\xff\\xe0\\x00\\x10JFIF\\x00\\x01\\x01\\x00\\x00\\x01\\x00\\x01\\x00\\x00\\xff\\xdb\\x00C\\x00\\x08\\x06\\x0…"
      ]
     },
     "metadata": {},
     "output_type": "display_data"
    }
   ],
   "source": [
    "world2.watch(width=500)"
   ]
  },
  {
   "cell_type": "markdown",
   "id": "superior-greeting",
   "metadata": {},
   "source": [
    "If you right-click (or command-click) to the left of the world view above, and select \"New View for Output\":\n",
    "\n",
    "<img src=\"./images/new-view-for-output.png\">"
   ]
  },
  {
   "cell_type": "code",
   "execution_count": 15,
   "id": "congressional-brake",
   "metadata": {},
   "outputs": [],
   "source": [
    "world2.add_wall(\"blue\", 100, 0, 110, 150)"
   ]
  },
  {
   "cell_type": "code",
   "execution_count": 16,
   "id": "korean-charm",
   "metadata": {},
   "outputs": [],
   "source": [
    "world2.add_wall(\"red\", 200, 50, 210, 200)"
   ]
  },
  {
   "cell_type": "code",
   "execution_count": 17,
   "id": "tough-sheriff",
   "metadata": {},
   "outputs": [],
   "source": [
    "world2.add_wall(\"silver\", 300, 0, 310, 150)"
   ]
  },
  {
   "cell_type": "code",
   "execution_count": 18,
   "id": "appointed-firmware",
   "metadata": {},
   "outputs": [],
   "source": [
    "world2.add_wall(\"black\", 400, 50, 410, 200)"
   ]
  },
  {
   "cell_type": "code",
   "execution_count": 19,
   "id": "stunning-distribution",
   "metadata": {},
   "outputs": [],
   "source": [
    "world2.add_bulb(\"yellow\", 450, 100, 0, 3)"
   ]
  },
  {
   "cell_type": "code",
   "execution_count": 20,
   "id": "quarterly-spice",
   "metadata": {},
   "outputs": [],
   "source": [
    "robot2 = bots.Scribbler(50, 100, 0)"
   ]
  },
  {
   "cell_type": "code",
   "execution_count": 21,
   "id": "piano-annotation",
   "metadata": {},
   "outputs": [],
   "source": [
    "world2.add_robot(robot2)"
   ]
  },
  {
   "cell_type": "code",
   "execution_count": 22,
   "id": "through-reconstruction",
   "metadata": {},
   "outputs": [],
   "source": [
    "world2.draw()"
   ]
  },
  {
   "cell_type": "markdown",
   "id": "hollywood-hobby",
   "metadata": {},
   "source": [
    "## Devices"
   ]
  },
  {
   "cell_type": "markdown",
   "id": "noticed-taylor",
   "metadata": {},
   "source": [
    "Devices:\n",
    "\n",
    "* range sensors (like IR and Laser)\n",
    "* cameras (forward and ground-facing)\n",
    "* light sensors"
   ]
  },
  {
   "cell_type": "code",
   "execution_count": 23,
   "id": "religious-chinese",
   "metadata": {},
   "outputs": [],
   "source": [
    "robot2.add_device(bots.Camera())"
   ]
  },
  {
   "cell_type": "code",
   "execution_count": 24,
   "id": "republican-object",
   "metadata": {},
   "outputs": [
    {
     "data": {
      "application/vnd.jupyter.widget-view+json": {
       "model_id": "29d12cf36de5407b84168f6835d2fa2f",
       "version_major": 2,
       "version_minor": 0
      },
      "text/plain": [
       "HTML(value='<style>img.pixelated {image-rendering: pixelated;}</style>')"
      ]
     },
     "metadata": {},
     "output_type": "display_data"
    },
    {
     "data": {
      "application/vnd.jupyter.widget-view+json": {
       "model_id": "f51f1a5e69614017aa9db78f7a18c85e",
       "version_major": 2,
       "version_minor": 0
      },
      "text/plain": [
       "HTML(value='<style>img.pixelated {image-rendering: pixelated;}</style>')"
      ]
     },
     "metadata": {},
     "output_type": "display_data"
    },
    {
     "data": {
      "application/vnd.jupyter.widget-view+json": {
       "model_id": "78e35da15c344323b07bd4b9d93eec50",
       "version_major": 2,
       "version_minor": 0
      },
      "text/plain": [
       "HTML(value='<style>img.pixelated {image-rendering: pixelated;}</style>')"
      ]
     },
     "metadata": {},
     "output_type": "display_data"
    },
    {
     "data": {
      "application/vnd.jupyter.widget-view+json": {
       "model_id": "81b20b748e2a40749c220c9cb13d38eb",
       "version_major": 2,
       "version_minor": 0
      },
      "text/plain": [
       "Image(value=b'\\x89PNG\\r\\n\\x1a\\n\\x00\\x00\\x00\\rIHDR\\x00\\x00\\x00@\\x00\\x00\\x00 \\x08\\x06\\x00\\x00\\x00\\xa2\\x9d~\\x84\\x…"
      ]
     },
     "metadata": {},
     "output_type": "display_data"
    }
   ],
   "source": [
    "robot2[\"camera\"].watch()"
   ]
  },
  {
   "cell_type": "code",
   "execution_count": 25,
   "id": "dated-gravity",
   "metadata": {},
   "outputs": [],
   "source": [
    "import aitk.utils"
   ]
  },
  {
   "cell_type": "code",
   "execution_count": 26,
   "id": "affected-wallace",
   "metadata": {},
   "outputs": [],
   "source": [
    "joystick = aitk.utils.make_joystick(function=robot2.move)"
   ]
  },
  {
   "cell_type": "code",
   "execution_count": 27,
   "id": "biological-adult",
   "metadata": {},
   "outputs": [
    {
     "data": {
      "application/vnd.jupyter.widget-view+json": {
       "model_id": "4abe4b7ecd064caf95b47760bfadadb5",
       "version_major": 2,
       "version_minor": 0
      },
      "text/plain": [
       "Canvas(height=250, layout=Layout(max_height='250px', min_width='250px'), width=250)"
      ]
     },
     "metadata": {},
     "output_type": "display_data"
    }
   ],
   "source": [
    "joystick.watch()"
   ]
  },
  {
   "cell_type": "code",
   "execution_count": 39,
   "id": "honest-seating",
   "metadata": {},
   "outputs": [
    {
     "name": "stdout",
     "output_type": "stream",
     "text": [
      "Starting world.run() in background. Use world.stop()\n"
     ]
    }
   ],
   "source": [
    "world2.run(background=True)"
   ]
  },
  {
   "cell_type": "code",
   "execution_count": 28,
   "id": "opened-sacrifice",
   "metadata": {},
   "outputs": [],
   "source": [
    "world2.stop()"
   ]
  },
  {
   "cell_type": "code",
   "execution_count": null,
   "id": "healthy-orbit",
   "metadata": {},
   "outputs": [],
   "source": []
  }
 ],
 "metadata": {
  "kernelspec": {
   "display_name": "Python 3",
   "language": "python",
   "name": "python3"
  },
  "language_info": {
   "codemirror_mode": {
    "name": "ipython",
    "version": 3
   },
   "file_extension": ".py",
   "mimetype": "text/x-python",
   "name": "python",
   "nbconvert_exporter": "python",
   "pygments_lexer": "ipython3",
   "version": "3.8.5"
  },
  "widgets": {
   "application/vnd.jupyter.widget-state+json": {
    "state": {
     "03f043b6109b46469492f0d63f03dcf6": {
      "buffers": [
       {
        "data": "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",
        "encoding": "base64",
        "path": [
         "value"
        ]
       }
      ],
      "model_module": "@jupyter-widgets/controls",
      "model_module_version": "1.5.0",
      "model_name": "ImageModel",
      "state": {
       "layout": "IPY_MODEL_7ee8e2a7cba04a0d9055269abe3ad776"
      }
     },
     "29d12cf36de5407b84168f6835d2fa2f": {
      "model_module": "@jupyter-widgets/controls",
      "model_module_version": "1.5.0",
      "model_name": "HTMLModel",
      "state": {
       "layout": "IPY_MODEL_ef3243bad43849e283f9fbeb41c28018",
       "style": "IPY_MODEL_d6290276fc504bc4a9ddb1b0206aefe2",
       "value": "<style>img.pixelated {image-rendering: pixelated;}</style>"
      }
     },
     "32c2e76403f544d6a23165f822b6d9e9": {
      "model_module": "@jupyter-widgets/base",
      "model_module_version": "1.2.0",
      "model_name": "LayoutModel",
      "state": {
       "max_height": "250px",
       "min_width": "250px"
      }
     },
     "4abe4b7ecd064caf95b47760bfadadb5": {
      "model_module": "ipycanvas",
      "model_module_version": "^0.8.2",
      "model_name": "CanvasModel",
      "state": {
       "_model_module_version": "^0.8.2",
       "_view_module_version": "^0.8.2",
       "height": 250,
       "layout": "IPY_MODEL_32c2e76403f544d6a23165f822b6d9e9",
       "width": 250
      }
     },
     "52c014039215420ea6829eaa12128f4c": {
      "buffers": [
       {
        "data": "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",
        "encoding": "base64",
        "path": [
         "value"
        ]
       }
      ],
      "model_module": "@jupyter-widgets/controls",
      "model_module_version": "1.5.0",
      "model_name": "ImageModel",
      "state": {
       "layout": "IPY_MODEL_a2880943075e40c3ad88659ad491fb7b"
      }
     },
     "78e35da15c344323b07bd4b9d93eec50": {
      "model_module": "@jupyter-widgets/controls",
      "model_module_version": "1.5.0",
      "model_name": "HTMLModel",
      "state": {
       "layout": "IPY_MODEL_ed6ccd535201499585eff5384542c233",
       "style": "IPY_MODEL_edc84eea6c4c47d58e82b6e8f5bc3e38",
       "value": "<style>img.pixelated {image-rendering: pixelated;}</style>"
      }
     },
     "7ee8e2a7cba04a0d9055269abe3ad776": {
      "model_module": "@jupyter-widgets/base",
      "model_module_version": "1.2.0",
      "model_name": "LayoutModel",
      "state": {
       "margin": "auto",
       "width": "500px"
      }
     },
     "7fb83a5f7a734e5c9115be3fb2156f3a": {
      "model_module": "@jupyter-widgets/base",
      "model_module_version": "1.2.0",
      "model_name": "LayoutModel",
      "state": {
       "height": "auto",
       "max_width": "100%",
       "width": "500px"
      }
     },
     "81b20b748e2a40749c220c9cb13d38eb": {
      "buffers": [
       {
        "data": "iVBORw0KGgoAAAANSUhEUgAAAEAAAAAgCAYAAACinX6EAAAAZUlEQVR4nO3YMRHAQAwEMX+QP9ngSGCo8ArBzRYufGbuN4s9eoBWAD1AWx/gzLwdwc0KoAdoBdADtALoAVoB9ACtAHqAVgA9QCuAHqAVQA/QCqAHaAXQA7T1Ac7c6S2+WQH0AO0HSykFIGc77oYAAAAASUVORK5CYII=",
        "encoding": "base64",
        "path": [
         "value"
        ]
       }
      ],
      "model_module": "@jupyter-widgets/controls",
      "model_module_version": "1.5.0",
      "model_name": "ImageModel",
      "state": {
       "_dom_classes": [
        "pixelated"
       ],
       "layout": "IPY_MODEL_7fb83a5f7a734e5c9115be3fb2156f3a"
      }
     },
     "89efcbe17f594e7f9eb002cdec10cb9f": {
      "model_module": "@jupyter-widgets/controls",
      "model_module_version": "1.5.0",
      "model_name": "DescriptionStyleModel",
      "state": {
       "description_width": ""
      }
     },
     "92d0cc4ee7c34da9b0c42168e4e96f0c": {
      "model_module": "@jupyter-widgets/base",
      "model_module_version": "1.2.0",
      "model_name": "LayoutModel",
      "state": {}
     },
     "a2880943075e40c3ad88659ad491fb7b": {
      "model_module": "@jupyter-widgets/base",
      "model_module_version": "1.2.0",
      "model_name": "LayoutModel",
      "state": {
       "margin": "auto"
      }
     },
     "d6290276fc504bc4a9ddb1b0206aefe2": {
      "model_module": "@jupyter-widgets/controls",
      "model_module_version": "1.5.0",
      "model_name": "DescriptionStyleModel",
      "state": {
       "description_width": ""
      }
     },
     "ed6ccd535201499585eff5384542c233": {
      "model_module": "@jupyter-widgets/base",
      "model_module_version": "1.2.0",
      "model_name": "LayoutModel",
      "state": {}
     },
     "edc84eea6c4c47d58e82b6e8f5bc3e38": {
      "model_module": "@jupyter-widgets/controls",
      "model_module_version": "1.5.0",
      "model_name": "DescriptionStyleModel",
      "state": {
       "description_width": ""
      }
     },
     "ef3243bad43849e283f9fbeb41c28018": {
      "model_module": "@jupyter-widgets/base",
      "model_module_version": "1.2.0",
      "model_name": "LayoutModel",
      "state": {}
     },
     "f51f1a5e69614017aa9db78f7a18c85e": {
      "model_module": "@jupyter-widgets/controls",
      "model_module_version": "1.5.0",
      "model_name": "HTMLModel",
      "state": {
       "layout": "IPY_MODEL_92d0cc4ee7c34da9b0c42168e4e96f0c",
       "style": "IPY_MODEL_89efcbe17f594e7f9eb002cdec10cb9f",
       "value": "<style>img.pixelated {image-rendering: pixelated;}</style>"
      }
     }
    },
    "version_major": 2,
    "version_minor": 0
   }
  }
 },
 "nbformat": 4,
 "nbformat_minor": 5
}
