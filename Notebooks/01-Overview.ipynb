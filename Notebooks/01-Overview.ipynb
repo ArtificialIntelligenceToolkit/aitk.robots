{
 "cells": [
  {
   "cell_type": "markdown",
   "id": "banner-status",
   "metadata": {},
   "source": [
    "# Overview of aitk.robots"
   ]
  },
  {
   "cell_type": "markdown",
   "id": "nervous-exercise",
   "metadata": {},
   "source": [
    "This is an overview of the Python package `aitk.robots`. It features the following:\n",
    "\n",
    "* Simulation of mobile robots\n",
    "* Written in pure-Python\n",
    "* Balance of speed and features, including 3D camera views\n",
    "* Designed for research, education, and exploration\n",
    "* Can be used with modern JupyterLab and Notebooks\n",
    "* Creates easily reproducible experiments for Machine Learning\n",
    "\n",
    "You can install bare `aitk.robots` package with the command-line:\n",
    "\n",
    "```shell\n",
    "pip install aitk.robots\n",
    "```\n",
    "\n",
    "Or, if using with Jupyter Lab 3.0:\n",
    "\n",
    "```shell\n",
    "pip install \"aitk.robots[jupyter]\"\n",
    "jupyter labextension install @jupyter-widgets/jupyterlab-manager ipycanvas\n",
    "```\n",
    "\n",
    "If you have installed `aitk.robots` before and want to install the latest version, add the flag `--upgrade` to the above `pip` commands."
   ]
  },
  {
   "cell_type": "markdown",
   "id": "external-modification",
   "metadata": {},
   "source": [
    "## What is aitk?\n",
    "\n",
    "`aitk` stands for Artificial Intelligence Toolkit. The package `robots` contains tools for running simulated mobile (wheeled) robots. You can install just the `robots` package (as described above), or install the entire suite of tools with:\n",
    "\n",
    "```shell\n",
    "pip install aitk\n",
    "```\n",
    "\n",
    "If you have installed `aitk` (or any `aitk` packages) before and want to install the latest versions, add the flag `--upgrade` to the above command.\n",
    "\n",
    "## Getting Started\n",
    "\n",
    "Whether you are in a Notebook (like this example) or in a Python script, you will need to import the `aitk.robots` library:"
   ]
  },
  {
   "cell_type": "code",
   "execution_count": 1,
   "id": "cubic-henry",
   "metadata": {},
   "outputs": [
    {
     "data": {
      "text/plain": [
       "'0.8.11'"
      ]
     },
     "execution_count": 1,
     "metadata": {},
     "output_type": "execute_result"
    }
   ],
   "source": [
    "import aitk.robots as bots\n",
    "bots.__version__"
   ]
  },
  {
   "cell_type": "markdown",
   "id": "decimal-porcelain",
   "metadata": {},
   "source": [
    "A common first check is to print out the version of the library to make sure it is the appropriate version. The code in this notebook is written for aitk.robots version 1, so you should see a version that starts with \"1\"."
   ]
  },
  {
   "cell_type": "markdown",
   "id": "latter-immune",
   "metadata": {},
   "source": [
    "<div class=\"alert alert-block alert-info\">\n",
    "\n",
    "<b>Troubleshooting:</b> if you aren't able to import `aitk.robots`, make sure you are installing with the correct `pip`. In a Notebook, you can use the `%pip` magic. At the shell you can use `python -m pip` instead.\n",
    "</div>\n",
    "\n",
    "## bots?\n",
    "\n",
    "Notice in the above cell that we imported `aitk.robots` as `bots`. That makes `bots` just a shorthand so that we don't have to write `aitk.robots`. We'll use this convention throughout these examples.\n",
    "\n",
    "Ok, let's simulate!"
   ]
  },
  {
   "cell_type": "markdown",
   "id": "declared-poison",
   "metadata": {},
   "source": [
    "## bots.World"
   ]
  },
  {
   "cell_type": "code",
   "execution_count": 2,
   "id": "funny-closer",
   "metadata": {},
   "outputs": [
    {
     "name": "stdout",
     "output_type": "stream",
     "text": [
      "Random seed set to: 655508\n"
     ]
    }
   ],
   "source": [
    "world = bots.World(width=100, height=100)"
   ]
  },
  {
   "cell_type": "markdown",
   "id": "experimental-appointment",
   "metadata": {},
   "source": [
    "The above command created a world that is 100 cm by 100 cm. Also, it displayed a \"Random seed\". This is shown so that you can create reproducible simulations. If you do not manually set a seed, then it will generate one for you, and print it out.\n",
    "\n",
    "If you are in a Jupyter Notebook, then we can generate an image of the world, and display it right here:"
   ]
  },
  {
   "cell_type": "code",
   "execution_count": 3,
   "id": "superb-meeting",
   "metadata": {},
   "outputs": [
    {
     "data": {
      "image/png": "[encoded data removed]",
      "text/plain": [
       "<PIL.Image.Image image mode=RGB size=300x342 at 0x7F60D0370A60>"
      ]
     },
     "metadata": {},
     "output_type": "display_data"
    }
   ],
   "source": [
    "world.display()"
   ]
  },
  {
   "cell_type": "markdown",
   "id": "joint-trace",
   "metadata": {},
   "source": [
    "If you are not in a Jupyter Notebook, you could still generate a Python Image Library image of the world and display it in the console with this command:\n",
    "\n",
    "```python\n",
    "world.get_image().show()\n",
    "```\n",
    "\n",
    "That would open up a window on your computer, like this:\n",
    "\n",
    "![](./images/world-show.png)"
   ]
  },
  {
   "cell_type": "markdown",
   "id": "binary-picnic",
   "metadata": {},
   "source": [
    "The image of a World shows a 2D, top-down view of the world and everything in it. By default the \"ground\" is green, and there is a purple border around the whole world. The image if the world also shows the elapsed time in the simulation in \"HH:MM:SS.S\" (2 digits of hours, 2 digits of minutes, and 3 digits showing tenths of a second).\n",
    "\n",
    "We can add any of the following items to the world:\n",
    "\n",
    "* robots\n",
    "* walls\n",
    "* lights (called \"bulbs\")\n",
    "\n",
    "We'll add each of those in the following sections. Let's start by adding a robot."
   ]
  },
  {
   "cell_type": "markdown",
   "id": "native-congress",
   "metadata": {},
   "source": [
    "## bots.Robot\n",
    "\n",
    "Although there is a `bots.Robot`, we'll use the subclass `Scribbler` because robots need a \"body\" and the base class `Robot` doesn't have one.\n",
    "\n",
    "The Scribbler is a robot manufactured by [Parallax, inc](https://en.wikipedia.org/wiki/Parallax,_Inc.) and looks like this in the real world with a Camera by the [Institute for Personal Robots in Education](https://en.wikipedia.org/wiki/Institute_for_Personal_Robots_in_Education):\n",
    "\n",
    "<img src=\"https://upload.wikimedia.org/wikipedia/commons/8/8e/Scribbler_robot.jpg\" width=\"400px\">"
   ]
  },
  {
   "cell_type": "markdown",
   "id": "permanent-institute",
   "metadata": {},
   "source": [
    "We use the simulated Scribbler robot as it makes a fine base for many of the examples. However, you can easily create your own simulated robot by simply defining a body.\n",
    "\n",
    "We'll make a lightblue-colored Scribbler (to match the IRL version) and save it to a variable named `robot`:"
   ]
  },
  {
   "cell_type": "code",
   "execution_count": 4,
   "id": "smoking-binding",
   "metadata": {},
   "outputs": [],
   "source": [
    "robot = bots.Scribbler(color=\"lightblue\")"
   ]
  },
  {
   "cell_type": "markdown",
   "id": "coral-patient",
   "metadata": {},
   "source": [
    "Next, we'll add it to the world:"
   ]
  },
  {
   "cell_type": "code",
   "execution_count": 5,
   "id": "republican-julian",
   "metadata": {},
   "outputs": [],
   "source": [
    "world.add_robot(robot)"
   ]
  },
  {
   "cell_type": "markdown",
   "id": "coordinated-upper",
   "metadata": {},
   "source": [
    "<div class=\"alert alert-block alert-info\">\n",
    "\n",
    "<b>Troubleshooting:</b> if you try to add the same robot to the world more than once, you will get an error. However, you can add multiple robots as we'll see below.\n",
    "</div>\n"
   ]
  },
  {
   "cell_type": "markdown",
   "id": "actual-stupid",
   "metadata": {},
   "source": [
    "How do we know the world now has a robot in it? Well, one way is to display it again:"
   ]
  },
  {
   "cell_type": "code",
   "execution_count": 6,
   "id": "smooth-asthma",
   "metadata": {},
   "outputs": [
    {
     "data": {
      "image/png": "[encoded data removed]",
      "text/plain": [
       "<PIL.Image.Image image mode=RGB size=300x342 at 0x7F60D0370A60>"
      ]
     },
     "metadata": {},
     "output_type": "display_data"
    }
   ],
   "source": [
    "world.display()"
   ]
  },
  {
   "cell_type": "markdown",
   "id": "wrapped-eight",
   "metadata": {},
   "source": [
    "You should see a lightblue robot in the world somewhere, facing in a random direction. We could have added the robot to an exact place, facing a precise direction. \n",
    "\n",
    "The location and direction of a robot can be seen by using the `get_pose()` method:"
   ]
  },
  {
   "cell_type": "code",
   "execution_count": 7,
   "id": "immediate-coral",
   "metadata": {},
   "outputs": [
    {
     "data": {
      "text/plain": [
       "(68, 70, 127.61629615561935)"
      ]
     },
     "execution_count": 7,
     "metadata": {},
     "output_type": "execute_result"
    }
   ],
   "source": [
    "robot.get_pose()"
   ]
  },
  {
   "cell_type": "markdown",
   "id": "laughing-protest",
   "metadata": {},
   "source": [
    "That returns the robot's pose:\n",
    "\n",
    "* x, the distance in cm from left border of world\n",
    "* y, the distance in cm from the top border of the world\n",
    "* a, the angle in degrees, with 0 facing right, moving counter-clockwise as it increases\n",
    "\n",
    "You can also get this imformation from the robot's representation:"
   ]
  },
  {
   "cell_type": "code",
   "execution_count": 8,
   "id": "european-texas",
   "metadata": {},
   "outputs": [
    {
     "data": {
      "text/plain": [
       "<Robot(name='Scribbie', x=68, y=70, a=127.62)>"
      ]
     },
     "execution_count": 8,
     "metadata": {},
     "output_type": "execute_result"
    }
   ],
   "source": [
    "robot"
   ]
  },
  {
   "cell_type": "markdown",
   "id": "amber-blame",
   "metadata": {},
   "source": [
    "Because we did not specify a pose, the world put the robot into an unoccupied random location.\n",
    "\n",
    "## Hello, world!\n",
    "\n",
    "In summary (with something slightly new), here is an end-to-end example of \"Hello, world!\" in aitk.robots:"
   ]
  },
  {
   "cell_type": "code",
   "execution_count": 9,
   "id": "sunrise-oxygen",
   "metadata": {},
   "outputs": [
    {
     "name": "stdout",
     "output_type": "stream",
     "text": [
      "Random seed set to: 4582826\n"
     ]
    },
    {
     "data": {
      "application/vnd.jupyter.widget-view+json": {
       "model_id": "478053b16b4d45198bdfe33d188cd9a1",
       "version_major": 2,
       "version_minor": 0
      },
      "text/plain": [
       "Image(value=b'\\xff\\xd8\\xff\\xe0\\x00\\x10JFIF\\x00\\x01\\x01\\x00\\x00\\x01\\x00\\x01\\x00\\x00\\xff\\xdb\\x00C\\x00\\x08\\x06\\x0…"
      ]
     },
     "metadata": {},
     "output_type": "display_data"
    }
   ],
   "source": [
    "import aitk.robots as bots\n",
    "world = bots.World(150, 40) # width, height\n",
    "robot = bots.Scribbler(20, 25, 90) # x, y, a, default color is red\n",
    "world.add_robot(robot)\n",
    "robot.speak(\"Hello, World!\") # new command!\n",
    "world.watch()"
   ]
  },
  {
   "cell_type": "markdown",
   "id": "tutorial-romance",
   "metadata": {},
   "source": [
    "The Robot `speak()` method takes a short string (perhaps with newlines) and shows the robot speaking it in a speech bubble. This is useful for debugging robot behaviors, as we will see.  For now, we just say \"hi!\"\n",
    "\n",
    "Now, let's build a larger, more realistic world."
   ]
  },
  {
   "cell_type": "markdown",
   "id": "velvet-football",
   "metadata": {},
   "source": [
    "## Walls"
   ]
  },
  {
   "cell_type": "code",
   "execution_count": 10,
   "id": "therapeutic-officer",
   "metadata": {},
   "outputs": [
    {
     "name": "stdout",
     "output_type": "stream",
     "text": [
      "Random seed set to: 8041646\n"
     ]
    }
   ],
   "source": [
    "world2 = bots.World(500, 200)"
   ]
  },
  {
   "cell_type": "code",
   "execution_count": 11,
   "id": "urban-indonesia",
   "metadata": {
    "tags": []
   },
   "outputs": [
    {
     "data": {
      "application/vnd.jupyter.widget-view+json": {
       "model_id": "043b6f0245304d0880cd78f0c5d3d32f",
       "version_major": 2,
       "version_minor": 0
      },
      "text/plain": [
       "Image(value=b'\\xff\\xd8\\xff\\xe0\\x00\\x10JFIF\\x00\\x01\\x01\\x00\\x00\\x01\\x00\\x01\\x00\\x00\\xff\\xdb\\x00C\\x00\\x08\\x06\\x0…"
      ]
     },
     "metadata": {},
     "output_type": "display_data"
    }
   ],
   "source": [
    "world2.watch(width=\"100%\")"
   ]
  },
  {
   "cell_type": "markdown",
   "id": "opposed-prairie",
   "metadata": {},
   "source": [
    "If you right-click (or command-click) to the left of the world view above, and select \"New View for Output\":\n",
    "\n",
    "<img src=\"./images/new-view-for-output.png\">"
   ]
  },
  {
   "cell_type": "code",
   "execution_count": 12,
   "id": "daily-puzzle",
   "metadata": {},
   "outputs": [],
   "source": [
    "world2.add_wall(\"blue\", 100, 0, 110, 150)"
   ]
  },
  {
   "cell_type": "code",
   "execution_count": 13,
   "id": "advanced-treasury",
   "metadata": {},
   "outputs": [],
   "source": [
    "world2.add_wall(\"red\", 200, 50, 210, 200)"
   ]
  },
  {
   "cell_type": "code",
   "execution_count": 14,
   "id": "adult-president",
   "metadata": {},
   "outputs": [],
   "source": [
    "world2.add_wall(\"silver\", 300, 0, 310, 150)"
   ]
  },
  {
   "cell_type": "code",
   "execution_count": 15,
   "id": "certain-batman",
   "metadata": {},
   "outputs": [],
   "source": [
    "world2.add_wall(\"black\", 400, 50, 410, 200)"
   ]
  },
  {
   "cell_type": "code",
   "execution_count": 16,
   "id": "unusual-irrigation",
   "metadata": {},
   "outputs": [],
   "source": [
    "world2.add_bulb(\"yellow\", 450, 100, 0, 3)"
   ]
  },
  {
   "cell_type": "code",
   "execution_count": 17,
   "id": "biblical-equity",
   "metadata": {},
   "outputs": [],
   "source": [
    "robot2 = bots.Scribbler(50, 100, 0)"
   ]
  },
  {
   "cell_type": "code",
   "execution_count": 18,
   "id": "ancient-geometry",
   "metadata": {},
   "outputs": [],
   "source": [
    "world2.add_robot(robot2)"
   ]
  },
  {
   "cell_type": "code",
   "execution_count": 19,
   "id": "recreational-chemical",
   "metadata": {},
   "outputs": [],
   "source": [
    "world2.draw()"
   ]
  },
  {
   "cell_type": "markdown",
   "id": "economic-merchandise",
   "metadata": {},
   "source": [
    "## Devices"
   ]
  },
  {
   "cell_type": "markdown",
   "id": "large-workplace",
   "metadata": {},
   "source": [
    "Devices:\n",
    "\n",
    "* range sensors (like IR and Laser)\n",
    "* cameras (forward and ground-facing)\n",
    "* light sensors"
   ]
  },
  {
   "cell_type": "code",
   "execution_count": 20,
   "id": "superb-horse",
   "metadata": {},
   "outputs": [],
   "source": [
    "robot2.add_device(bots.Camera())"
   ]
  },
  {
   "cell_type": "code",
   "execution_count": 21,
   "id": "narrow-julian",
   "metadata": {},
   "outputs": [
    {
     "data": {
      "application/vnd.jupyter.widget-view+json": {
       "model_id": "27b943e0f3bd45f483ab7acfa386e2f4",
       "version_major": 2,
       "version_minor": 0
      },
      "text/plain": [
       "HTML(value='<style>img.pixelated {image-rendering: pixelated;}</style>')"
      ]
     },
     "metadata": {},
     "output_type": "display_data"
    },
    {
     "data": {
      "application/vnd.jupyter.widget-view+json": {
       "model_id": "42b776cf500449eea21e2bb57c0120d7",
       "version_major": 2,
       "version_minor": 0
      },
      "text/plain": [
       "HTML(value='<style>img.pixelated {image-rendering: pixelated;}</style>')"
      ]
     },
     "metadata": {},
     "output_type": "display_data"
    },
    {
     "data": {
      "application/vnd.jupyter.widget-view+json": {
       "model_id": "2aaefab73b104b16a53d8db71c79ff66",
       "version_major": 2,
       "version_minor": 0
      },
      "text/plain": [
       "HTML(value='<style>img.pixelated {image-rendering: pixelated;}</style>')"
      ]
     },
     "metadata": {},
     "output_type": "display_data"
    },
    {
     "data": {
      "application/vnd.jupyter.widget-view+json": {
       "model_id": "61b68a62fb704d428a4f63fb09f020d5",
       "version_major": 2,
       "version_minor": 0
      },
      "text/plain": [
       "Image(value=b'\\x89PNG\\r\\n\\x1a\\n\\x00\\x00\\x00\\rIHDR\\x00\\x00\\x00@\\x00\\x00\\x00 \\x08\\x06\\x00\\x00\\x00\\xa2\\x9d~\\x84\\x…"
      ]
     },
     "metadata": {},
     "output_type": "display_data"
    }
   ],
   "source": [
    "robot2[\"camera\"].watch()"
   ]
  },
  {
   "cell_type": "code",
   "execution_count": 22,
   "id": "thorough-rings",
   "metadata": {},
   "outputs": [],
   "source": [
    "import aitk.utils"
   ]
  },
  {
   "cell_type": "code",
   "execution_count": 23,
   "id": "metallic-spoke",
   "metadata": {},
   "outputs": [
    {
     "name": "stdout",
     "output_type": "stream",
     "text": [
      "This world is not running\n"
     ]
    }
   ],
   "source": [
    "joystick = aitk.utils.make_joystick(function=robot2.move)"
   ]
  },
  {
   "cell_type": "code",
   "execution_count": 24,
   "id": "crucial-assets",
   "metadata": {},
   "outputs": [
    {
     "data": {
      "application/vnd.jupyter.widget-view+json": {
       "model_id": "417049b9167e495da84e83065168097a",
       "version_major": 2,
       "version_minor": 0
      },
      "text/plain": [
       "Canvas(height=250, layout=Layout(max_height='250px', min_width='250px'), width=250)"
      ]
     },
     "metadata": {},
     "output_type": "display_data"
    }
   ],
   "source": [
    "joystick.watch()"
   ]
  },
  {
   "cell_type": "code",
   "execution_count": 25,
   "id": "functioning-iceland",
   "metadata": {},
   "outputs": [
    {
     "name": "stdout",
     "output_type": "stream",
     "text": [
      "Starting world.run() in background. Use world.stop()\n"
     ]
    }
   ],
   "source": [
    "world2.run(background=True)"
   ]
  },
  {
   "cell_type": "code",
   "execution_count": 26,
   "id": "known-packaging",
   "metadata": {},
   "outputs": [
    {
     "name": "stdout",
     "output_type": "stream",
     "text": [
      "Stopping thread...\n"
     ]
    }
   ],
   "source": [
    "world2.stop()"
   ]
  },
  {
   "cell_type": "code",
   "execution_count": 27,
   "id": "cardiovascular-softball",
   "metadata": {},
   "outputs": [],
   "source": [
    "world2.save()"
   ]
  },
  {
   "cell_type": "code",
   "execution_count": 29,
   "id": "suspended-telescope",
   "metadata": {},
   "outputs": [
    {
     "name": "stdout",
     "output_type": "stream",
     "text": [
      "Using random seed: 8041646\n"
     ]
    }
   ],
   "source": [
    "world2.reset()"
   ]
  },
  {
   "cell_type": "code",
   "execution_count": null,
   "id": "computational-exception",
   "metadata": {},
   "outputs": [],
   "source": []
  }
 ],
 "metadata": {
  "kernelspec": {
   "display_name": "Python 3",
   "language": "python",
   "name": "python3"
  },
  "language_info": {
   "codemirror_mode": {
    "name": "ipython",
    "version": 3
   },
   "file_extension": ".py",
   "mimetype": "text/x-python",
   "name": "python",
   "nbconvert_exporter": "python",
   "pygments_lexer": "ipython3",
   "version": "3.8.5"
  },
  "widgets": {
   "application/vnd.jupyter.widget-state+json": {
    "state": {
     "043b6f0245304d0880cd78f0c5d3d32f": {
      "buffers": [
       {
        "data": "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",
        "encoding": "base64",
        "path": [
         "value"
        ]
       }
      ],
      "model_module": "@jupyter-widgets/controls",
      "model_module_version": "1.5.0",
      "model_name": "ImageModel",
      "state": {
       "layout": "IPY_MODEL_487053d933d34804b3e9a4215a5e48c7"
      }
     },
     "1e4b9425421248b6aa5156406f02e572": {
      "model_module": "@jupyter-widgets/base",
      "model_module_version": "1.2.0",
      "model_name": "LayoutModel",
      "state": {}
     },
     "27b943e0f3bd45f483ab7acfa386e2f4": {
      "model_module": "@jupyter-widgets/controls",
      "model_module_version": "1.5.0",
      "model_name": "HTMLModel",
      "state": {
       "layout": "IPY_MODEL_aa966a82a1ef421d8aaacb811f258f7a",
       "style": "IPY_MODEL_60c304748d4a40bb9e31edc8c88e4477",
       "value": "<style>img.pixelated {image-rendering: pixelated;}</style>"
      }
     },
     "2aaefab73b104b16a53d8db71c79ff66": {
      "model_module": "@jupyter-widgets/controls",
      "model_module_version": "1.5.0",
      "model_name": "HTMLModel",
      "state": {
       "layout": "IPY_MODEL_e186e388c0184ab39c856913bb816512",
       "style": "IPY_MODEL_920f31563a134653a0b2a19a0a124332",
       "value": "<style>img.pixelated {image-rendering: pixelated;}</style>"
      }
     },
     "417049b9167e495da84e83065168097a": {
      "model_module": "ipycanvas",
      "model_module_version": "^0.8.2",
      "model_name": "CanvasModel",
      "state": {
       "_model_module_version": "^0.8.2",
       "_view_module_version": "^0.8.2",
       "height": 250,
       "layout": "IPY_MODEL_dce87b6ed3be4f768ffab38ab9d9470d",
       "width": 250
      }
     },
     "42b776cf500449eea21e2bb57c0120d7": {
      "model_module": "@jupyter-widgets/controls",
      "model_module_version": "1.5.0",
      "model_name": "HTMLModel",
      "state": {
       "layout": "IPY_MODEL_1e4b9425421248b6aa5156406f02e572",
       "style": "IPY_MODEL_da28b65ed5d54c34b681f10e874bd70e",
       "value": "<style>img.pixelated {image-rendering: pixelated;}</style>"
      }
     },
     "478053b16b4d45198bdfe33d188cd9a1": {
      "buffers": [
       {
        "data": "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",
        "encoding": "base64",
        "path": [
         "value"
        ]
       }
      ],
      "model_module": "@jupyter-widgets/controls",
      "model_module_version": "1.5.0",
      "model_name": "ImageModel",
      "state": {
       "layout": "IPY_MODEL_bbc96cfed333491ca11e1d38c3123fd4"
      }
     },
     "487053d933d34804b3e9a4215a5e48c7": {
      "model_module": "@jupyter-widgets/base",
      "model_module_version": "1.2.0",
      "model_name": "LayoutModel",
      "state": {
       "margin": "auto",
       "width": "100%"
      }
     },
     "60c304748d4a40bb9e31edc8c88e4477": {
      "model_module": "@jupyter-widgets/controls",
      "model_module_version": "1.5.0",
      "model_name": "DescriptionStyleModel",
      "state": {
       "description_width": ""
      }
     },
     "61b68a62fb704d428a4f63fb09f020d5": {
      "buffers": [
       {
        "data": "iVBORw0KGgoAAAANSUhEUgAAAEAAAAAgCAYAAACinX6EAAAAkklEQVR4nO2ZwQqAIBAF34bfHB796uhWH+ASBcGA++bWIjgM6MFCGpcKs9ECNA5AC9C0bNh1TrNQPH7/PcvWZFyar7Avs7brSDZ7t/kKlD8CDkAL0DgALUDjALQAjQPQAjQOQAvQOAAtQOMAtACNA9ACNA5AC9A4AC1AUz5AaMwP5n30ZOGa/wXSAJUofwTKB7gBsNcZGoyAUkcAAAAASUVORK5CYII=",
        "encoding": "base64",
        "path": [
         "value"
        ]
       }
      ],
      "model_module": "@jupyter-widgets/controls",
      "model_module_version": "1.5.0",
      "model_name": "ImageModel",
      "state": {
       "_dom_classes": [
        "pixelated"
       ],
       "layout": "IPY_MODEL_655797436585454d87f2ee10901076a2"
      }
     },
     "655797436585454d87f2ee10901076a2": {
      "model_module": "@jupyter-widgets/base",
      "model_module_version": "1.2.0",
      "model_name": "LayoutModel",
      "state": {
       "height": "auto",
       "max_width": "100%",
       "width": "500px"
      }
     },
     "920f31563a134653a0b2a19a0a124332": {
      "model_module": "@jupyter-widgets/controls",
      "model_module_version": "1.5.0",
      "model_name": "DescriptionStyleModel",
      "state": {
       "description_width": ""
      }
     },
     "aa966a82a1ef421d8aaacb811f258f7a": {
      "model_module": "@jupyter-widgets/base",
      "model_module_version": "1.2.0",
      "model_name": "LayoutModel",
      "state": {}
     },
     "bbc96cfed333491ca11e1d38c3123fd4": {
      "model_module": "@jupyter-widgets/base",
      "model_module_version": "1.2.0",
      "model_name": "LayoutModel",
      "state": {
       "margin": "auto"
      }
     },
     "da28b65ed5d54c34b681f10e874bd70e": {
      "model_module": "@jupyter-widgets/controls",
      "model_module_version": "1.5.0",
      "model_name": "DescriptionStyleModel",
      "state": {
       "description_width": ""
      }
     },
     "dce87b6ed3be4f768ffab38ab9d9470d": {
      "model_module": "@jupyter-widgets/base",
      "model_module_version": "1.2.0",
      "model_name": "LayoutModel",
      "state": {
       "max_height": "250px",
       "min_width": "250px"
      }
     },
     "e186e388c0184ab39c856913bb816512": {
      "model_module": "@jupyter-widgets/base",
      "model_module_version": "1.2.0",
      "model_name": "LayoutModel",
      "state": {}
     }
    },
    "version_major": 2,
    "version_minor": 0
   }
  }
 },
 "nbformat": 4,
 "nbformat_minor": 5
}
