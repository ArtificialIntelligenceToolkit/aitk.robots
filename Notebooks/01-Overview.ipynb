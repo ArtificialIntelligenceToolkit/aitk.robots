{
 "cells": [
  {
   "cell_type": "markdown",
   "metadata": {},
   "source": [
    "# Overview of aitk.robots"
   ]
  },
  {
   "cell_type": "markdown",
   "metadata": {},
   "source": [
    "This is an overview of the Python package `aitk.robots`. It features the following:\n",
    "\n",
    "* Simulation of mobile robots\n",
    "* Written in pure-Python\n",
    "* Balance of speed and features, including 3D camera views\n",
    "* Designed for research, education, and exploration\n",
    "* Can be used with modern JupyterLab and Notebooks\n",
    "* Creates easily reproducible experiments for Machine Learning\n",
    "\n",
    "You can install bare `aitk.robots` package with the command-line:\n",
    "\n",
    "```shell\n",
    "pip install aitk.robots\n",
    "```\n",
    "\n",
    "Or, if using with JupyterLab 3.0:\n",
    "\n",
    "```shell\n",
    "pip install \"aitk.robots\"\n",
    "jupyter labextension install @jupyter-widgets/jupyterlab-manager\n",
    "```\n",
    "\n",
    "If you have installed `aitk.robots` before and want to install the latest version, add the flag `--upgrade` to the above `pip` commands."
   ]
  },
  {
   "cell_type": "markdown",
   "metadata": {},
   "source": [
    "## What is aitk?\n",
    "\n",
    "`aitk` stands for Artificial Intelligence Toolkit. The package `robots` contains tools for running simulated mobile (wheeled) robots. You can install just the `robots` package (as described above), or install the entire suite of tools with:\n",
    "\n",
    "```shell\n",
    "pip install aitk\n",
    "```\n",
    "\n",
    "If you have installed `aitk` (or any `aitk` packages) before and want to install the latest versions, add the flag `--upgrade` to the above command.\n",
    "\n",
    "## Getting Started\n",
    "\n",
    "Whether you are in a Notebook (like this example) or in a Python script, you will need to import the `aitk.robots` library:"
   ]
  },
  {
   "cell_type": "code",
   "execution_count": 1,
   "metadata": {},
   "outputs": [
    {
     "data": {
      "text/plain": [
       "'0.9.15'"
      ]
     },
     "execution_count": 1,
     "metadata": {},
     "output_type": "execute_result"
    }
   ],
   "source": [
    "import aitk.robots as bots\n",
    "bots.__version__"
   ]
  },
  {
   "cell_type": "markdown",
   "metadata": {},
   "source": [
    "A common first check is to print out the version of the library to make sure it is the appropriate version. The code in this notebook is written for aitk.robots version 1, so you should see a version that starts with \"1\"."
   ]
  },
  {
   "cell_type": "markdown",
   "metadata": {},
   "source": [
    "<div class=\"alert alert-block alert-info\">\n",
    "\n",
    "<b>Troubleshooting:</b> if you aren't able to import `aitk.robots`, make sure you are installing with the correct `pip`. In a Notebook, you can use the `%pip` magic. At the shell you can use `python -m pip` instead.\n",
    "</div>\n",
    "\n",
    "## bots?\n",
    "\n",
    "Notice in the above cell that we imported `aitk.robots` as `bots`. That makes `bots` just a shorthand so that we don't have to write `aitk.robots`. We'll use this convention throughout these examples.\n",
    "\n",
    "Ok, let's simulate!"
   ]
  },
  {
   "cell_type": "markdown",
   "metadata": {},
   "source": [
    "## bots.World"
   ]
  },
  {
   "cell_type": "code",
   "execution_count": 2,
   "metadata": {},
   "outputs": [
    {
     "name": "stdout",
     "output_type": "stream",
     "text": [
      "Random seed set to: 9412521\n"
     ]
    }
   ],
   "source": [
    "world = bots.World(width=100, height=100)"
   ]
  },
  {
   "cell_type": "markdown",
   "metadata": {},
   "source": [
    "The above command created a world that is 100 cm by 100 cm. Also, it displayed a \"Random seed\". This is shown so that you can create reproducible simulations. If you do not manually set a seed, then it will generate one for you, and print it out.\n",
    "\n",
    "If you are in a Jupyter Notebook, then we can generate an image of the world, and display it right here:"
   ]
  },
  {
   "cell_type": "code",
   "execution_count": 3,
   "metadata": {},
   "outputs": [
    {
     "data": {
      "image/png": "[encoded data removed]",
      "text/plain": [
       "<PIL.Image.Image image mode=RGB size=300x342 at 0x7F5AA8450C10>"
      ]
     },
     "metadata": {},
     "output_type": "display_data"
    }
   ],
   "source": [
    "world.display()"
   ]
  },
  {
   "cell_type": "markdown",
   "metadata": {},
   "source": [
    "If you are not in a Jupyter Notebook, you could still generate a Python Image Library image of the world and display it in the console with this command:\n",
    "\n",
    "```python\n",
    "world.get_image().show()\n",
    "```\n",
    "\n",
    "That would open up a window on your computer, like this:\n",
    "\n",
    "![](./images/world-show.png)"
   ]
  },
  {
   "cell_type": "markdown",
   "metadata": {},
   "source": [
    "The image of a World shows a 2D, top-down view of the world and everything in it. By default the \"ground\" is green, and there is a purple border around the whole world. The image if the world also shows the elapsed time in the simulation in \"HH:MM:SS.S\" (2 digits of hours, 2 digits of minutes, and 3 digits showing tenths of a second).\n",
    "\n",
    "We can add any of the following items to the world:\n",
    "\n",
    "* robots\n",
    "* walls\n",
    "* lights (called \"bulbs\")\n",
    "\n",
    "We'll add each of those in the following sections. Let's start by adding a robot."
   ]
  },
  {
   "cell_type": "markdown",
   "metadata": {},
   "source": [
    "## bots.Robot\n",
    "\n",
    "Although there is a `bots.Robot`, we'll use the subclass `Scribbler` because robots need a \"body\" and the base class `Robot` doesn't have one.\n",
    "\n",
    "The Scribbler is a robot manufactured by [Parallax, inc](https://en.wikipedia.org/wiki/Parallax,_Inc.) and looks like this in the real world with a Camera by the [Institute for Personal Robots in Education](https://en.wikipedia.org/wiki/Institute_for_Personal_Robots_in_Education):\n",
    "\n",
    "<img src=\"https://upload.wikimedia.org/wikipedia/commons/8/8e/Scribbler_robot.jpg\" width=\"400px\">"
   ]
  },
  {
   "cell_type": "markdown",
   "metadata": {},
   "source": [
    "We use the simulated Scribbler robot as it makes a fine base for many of the examples. However, you can easily create your own simulated robot by simply defining a body.\n",
    "\n",
    "We'll make a lightblue-colored Scribbler (to match the IRL version) and save it to a variable named `robot`:"
   ]
  },
  {
   "cell_type": "code",
   "execution_count": 4,
   "metadata": {},
   "outputs": [],
   "source": [
    "robot = bots.Scribbler(color=\"lightblue\")"
   ]
  },
  {
   "cell_type": "markdown",
   "metadata": {},
   "source": [
    "Next, we'll add it to the world:"
   ]
  },
  {
   "cell_type": "code",
   "execution_count": 5,
   "metadata": {},
   "outputs": [],
   "source": [
    "world.add_robot(robot)"
   ]
  },
  {
   "cell_type": "markdown",
   "metadata": {},
   "source": [
    "<div class=\"alert alert-block alert-info\">\n",
    "\n",
    "<b>Troubleshooting:</b> if you try to add the same robot to the world more than once, you will get an error. However, you can add multiple robots as we'll see below.\n",
    "</div>\n"
   ]
  },
  {
   "cell_type": "markdown",
   "metadata": {},
   "source": [
    "How do we know the world now has a robot in it? Well, one way is to display it again:"
   ]
  },
  {
   "cell_type": "code",
   "execution_count": 6,
   "metadata": {},
   "outputs": [
    {
     "data": {
      "image/png": "[encoded data removed]",
      "text/plain": [
       "<PIL.Image.Image image mode=RGB size=300x342 at 0x7F5AA8450C10>"
      ]
     },
     "metadata": {},
     "output_type": "display_data"
    }
   ],
   "source": [
    "world.display()"
   ]
  },
  {
   "cell_type": "markdown",
   "metadata": {},
   "source": [
    "You should see a lightblue robot in the world somewhere, facing in a random direction. We could have added the robot to an exact place, facing a precise direction. \n",
    "\n",
    "The location and direction of a robot can be seen by using the `get_pose()` method:"
   ]
  },
  {
   "cell_type": "code",
   "execution_count": 7,
   "metadata": {},
   "outputs": [
    {
     "data": {
      "text/plain": [
       "(35, 62, 286.54016978750263)"
      ]
     },
     "execution_count": 7,
     "metadata": {},
     "output_type": "execute_result"
    }
   ],
   "source": [
    "robot.get_pose()"
   ]
  },
  {
   "cell_type": "markdown",
   "metadata": {},
   "source": [
    "That returns the robot's pose:\n",
    "\n",
    "* x, the distance in cm from left border of world\n",
    "* y, the distance in cm from the top border of the world\n",
    "* a, the angle in degrees, with 0 facing right, moving counter-clockwise as it increases\n",
    "\n",
    "You can also get this imformation from the robot's representation:"
   ]
  },
  {
   "cell_type": "code",
   "execution_count": 8,
   "metadata": {},
   "outputs": [
    {
     "data": {
      "text/plain": [
       "<Robot(name='Scribbie', x=35, y=62, a=286.54)>"
      ]
     },
     "execution_count": 8,
     "metadata": {},
     "output_type": "execute_result"
    }
   ],
   "source": [
    "robot"
   ]
  },
  {
   "cell_type": "markdown",
   "metadata": {},
   "source": [
    "Because we did not specify a pose, the world put the robot into an unoccupied random location.\n",
    "\n",
    "## Hello, world!\n",
    "\n",
    "In summary (with something slightly new), here is an end-to-end example of \"Hello, world!\" in aitk.robots:"
   ]
  },
  {
   "cell_type": "code",
   "execution_count": 9,
   "metadata": {},
   "outputs": [
    {
     "name": "stdout",
     "output_type": "stream",
     "text": [
      "Random seed set to: 4891312\n"
     ]
    },
    {
     "data": {
      "application/vnd.jupyter.widget-view+json": {
       "model_id": "c058d9d24faf46d8a1a867b9cad90010",
       "version_major": 2,
       "version_minor": 0
      },
      "text/plain": [
       "Image(value=b'\\xff\\xd8\\xff\\xe0\\x00\\x10JFIF\\x00\\x01\\x01\\x00\\x00\\x01\\x00\\x01\\x00\\x00\\xff\\xdb\\x00C\\x00\\x08\\x06\\x0…"
      ]
     },
     "metadata": {},
     "output_type": "display_data"
    }
   ],
   "source": [
    "import aitk.robots as bots\n",
    "world = bots.World(150, 40) # width, height\n",
    "robot = bots.Scribbler(20, 25, 90) # x, y, a, default color is red\n",
    "world.add_robot(robot)\n",
    "robot.speak(\"Hello, World!\") # new command!\n",
    "world.watch()"
   ]
  },
  {
   "cell_type": "markdown",
   "metadata": {},
   "source": [
    "The Robot `speak()` method takes a short string (perhaps with newlines) and shows the robot speaking it in a speech bubble. This is useful for debugging robot behaviors, as we will see.  For now, we just say \"hi!\"\n",
    "\n",
    "Now, let's build a larger, more realistic world."
   ]
  },
  {
   "cell_type": "markdown",
   "metadata": {},
   "source": [
    "## Walls"
   ]
  },
  {
   "cell_type": "code",
   "execution_count": 10,
   "metadata": {},
   "outputs": [
    {
     "name": "stdout",
     "output_type": "stream",
     "text": [
      "Random seed set to: 7173651\n"
     ]
    }
   ],
   "source": [
    "world2 = bots.World(500, 200)"
   ]
  },
  {
   "cell_type": "code",
   "execution_count": 11,
   "metadata": {
    "tags": []
   },
   "outputs": [
    {
     "data": {
      "application/vnd.jupyter.widget-view+json": {
       "model_id": "4891f830667849fa9f46716e6b1826f5",
       "version_major": 2,
       "version_minor": 0
      },
      "text/plain": [
       "Image(value=b'\\xff\\xd8\\xff\\xe0\\x00\\x10JFIF\\x00\\x01\\x01\\x00\\x00\\x01\\x00\\x01\\x00\\x00\\xff\\xdb\\x00C\\x00\\x08\\x06\\x0…"
      ]
     },
     "metadata": {},
     "output_type": "display_data"
    }
   ],
   "source": [
    "world2.watch(width=\"100%\")"
   ]
  },
  {
   "cell_type": "markdown",
   "metadata": {},
   "source": [
    "If you right-click (or command-click) to the left of the world view above, and select \"New View for Output\":\n",
    "\n",
    "<img src=\"./images/new-view-for-output.png\">"
   ]
  },
  {
   "cell_type": "code",
   "execution_count": 12,
   "metadata": {},
   "outputs": [],
   "source": [
    "world2.add_wall(\"blue\", 100, 0, 110, 150)"
   ]
  },
  {
   "cell_type": "code",
   "execution_count": 13,
   "metadata": {},
   "outputs": [],
   "source": [
    "world2.add_wall(\"red\", 200, 50, 210, 200)"
   ]
  },
  {
   "cell_type": "code",
   "execution_count": 14,
   "metadata": {},
   "outputs": [],
   "source": [
    "world2.add_wall(\"silver\", 300, 0, 310, 150)"
   ]
  },
  {
   "cell_type": "code",
   "execution_count": 15,
   "metadata": {},
   "outputs": [],
   "source": [
    "world2.add_wall(\"black\", 400, 50, 410, 200)"
   ]
  },
  {
   "cell_type": "code",
   "execution_count": 18,
   "metadata": {},
   "outputs": [],
   "source": [
    "world2.add_bulb(\"yellow\", 450, 100, 0, 150)"
   ]
  },
  {
   "cell_type": "code",
   "execution_count": 19,
   "metadata": {},
   "outputs": [],
   "source": [
    "robot2 = bots.Scribbler(50, 100, 0)"
   ]
  },
  {
   "cell_type": "code",
   "execution_count": 20,
   "metadata": {},
   "outputs": [],
   "source": [
    "world2.add_robot(robot2)"
   ]
  },
  {
   "cell_type": "code",
   "execution_count": 21,
   "metadata": {},
   "outputs": [],
   "source": [
    "world2.draw()"
   ]
  },
  {
   "cell_type": "markdown",
   "metadata": {},
   "source": [
    "## Devices"
   ]
  },
  {
   "cell_type": "markdown",
   "metadata": {},
   "source": [
    "Devices:\n",
    "\n",
    "* range sensors (like IR and Laser)\n",
    "* cameras (forward and ground-facing)\n",
    "* light sensors"
   ]
  },
  {
   "cell_type": "code",
   "execution_count": 22,
   "metadata": {},
   "outputs": [],
   "source": [
    "robot2.add_device(bots.Camera())"
   ]
  },
  {
   "cell_type": "code",
   "execution_count": 23,
   "metadata": {},
   "outputs": [
    {
     "data": {
      "application/vnd.jupyter.widget-view+json": {
       "model_id": "7e0a682442f949c79c9a5d38d3e441df",
       "version_major": 2,
       "version_minor": 0
      },
      "text/plain": [
       "HTML(value='<style>img.pixelated {image-rendering: pixelated;}</style>')"
      ]
     },
     "metadata": {},
     "output_type": "display_data"
    },
    {
     "data": {
      "application/vnd.jupyter.widget-view+json": {
       "model_id": "49bb939d8fec4fb59a3c49e5e7b343f3",
       "version_major": 2,
       "version_minor": 0
      },
      "text/plain": [
       "HTML(value='<style>img.pixelated {image-rendering: pixelated;}</style>')"
      ]
     },
     "metadata": {},
     "output_type": "display_data"
    },
    {
     "data": {
      "application/vnd.jupyter.widget-view+json": {
       "model_id": "a56f1d14f1734910afc364b59f812fea",
       "version_major": 2,
       "version_minor": 0
      },
      "text/plain": [
       "HTML(value='<style>img.pixelated {image-rendering: pixelated;}</style>')"
      ]
     },
     "metadata": {},
     "output_type": "display_data"
    },
    {
     "data": {
      "application/vnd.jupyter.widget-view+json": {
       "model_id": "68414b3953c94abda5767a01e12d4c96",
       "version_major": 2,
       "version_minor": 0
      },
      "text/plain": [
       "Image(value=b'\\x89PNG\\r\\n\\x1a\\n\\x00\\x00\\x00\\rIHDR\\x00\\x00\\x00@\\x00\\x00\\x00 \\x08\\x06\\x00\\x00\\x00\\xa2\\x9d~\\x84\\x…"
      ]
     },
     "metadata": {},
     "output_type": "display_data"
    }
   ],
   "source": [
    "robot2[\"camera\"].watch()"
   ]
  },
  {
   "cell_type": "code",
   "execution_count": null,
   "metadata": {},
   "outputs": [],
   "source": []
  }
 ],
 "metadata": {
  "kernelspec": {
   "display_name": "Python 3",
   "language": "python",
   "name": "python3"
  },
  "language_info": {
   "codemirror_mode": {
    "name": "ipython",
    "version": 3
   },
   "file_extension": ".py",
   "mimetype": "text/x-python",
   "name": "python",
   "nbconvert_exporter": "python",
   "pygments_lexer": "ipython3",
   "version": "3.8.5"
  },
  "widgets": {
   "application/vnd.jupyter.widget-state+json": {
    "state": {
     "21a8f1f105f3414e91245d89e2e075de": {
      "model_module": "@jupyter-widgets/base",
      "model_module_version": "1.2.0",
      "model_name": "LayoutModel",
      "state": {
       "border": "10px solid rgb(0 177 255)",
       "margin": "auto",
       "width": "100%"
      }
     },
     "23fad713991c4a4aabe04339eb08068f": {
      "model_module": "@jupyter-widgets/base",
      "model_module_version": "1.2.0",
      "model_name": "LayoutModel",
      "state": {}
     },
     "38e7dbb78a2241119ad44bb5e05fe2ae": {
      "model_module": "@jupyter-widgets/controls",
      "model_module_version": "1.5.0",
      "model_name": "DescriptionStyleModel",
      "state": {
       "description_width": ""
      }
     },
     "39656ac2d44f4266b9ae0320e0ecdc0c": {
      "model_module": "@jupyter-widgets/controls",
      "model_module_version": "1.5.0",
      "model_name": "DescriptionStyleModel",
      "state": {
       "description_width": ""
      }
     },
     "4891f830667849fa9f46716e6b1826f5": {
      "buffers": [
       {
        "data": "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",
        "encoding": "base64",
        "path": [
         "value"
        ]
       }
      ],
      "model_module": "@jupyter-widgets/controls",
      "model_module_version": "1.5.0",
      "model_name": "ImageModel",
      "state": {
       "layout": "IPY_MODEL_21a8f1f105f3414e91245d89e2e075de"
      }
     },
     "49bb939d8fec4fb59a3c49e5e7b343f3": {
      "model_module": "@jupyter-widgets/controls",
      "model_module_version": "1.5.0",
      "model_name": "HTMLModel",
      "state": {
       "layout": "IPY_MODEL_9865d934f94e43f08d0f571d35da7152",
       "style": "IPY_MODEL_38e7dbb78a2241119ad44bb5e05fe2ae",
       "value": "<style>img.pixelated {image-rendering: pixelated;}</style>"
      }
     },
     "68414b3953c94abda5767a01e12d4c96": {
      "buffers": [
       {
        "data": "iVBORw0KGgoAAAANSUhEUgAAAEAAAAAgCAYAAACinX6EAAAAZUlEQVR4nO3YMRHAQAwEMX+QP9ngSGCo8ArBzRYufGbuN4s9eoBWAD1AWx/gzLwdwc0KoAdoBdADtALoAVoB9ACtAHqAVgA9QCuAHqAVQA/QCqAHaAXQA7T1Ac7c6S2+WQH0AO0HSykFIGc77oYAAAAASUVORK5CYII=",
        "encoding": "base64",
        "path": [
         "value"
        ]
       }
      ],
      "model_module": "@jupyter-widgets/controls",
      "model_module_version": "1.5.0",
      "model_name": "ImageModel",
      "state": {
       "_dom_classes": [
        "pixelated"
       ],
       "layout": "IPY_MODEL_aa70d95a1347494197e859ed0bea51db"
      }
     },
     "7365cc5a6fe7491ea8e848638564be83": {
      "model_module": "@jupyter-widgets/base",
      "model_module_version": "1.2.0",
      "model_name": "LayoutModel",
      "state": {
       "border": "10px solid rgb(0 177 255)",
       "margin": "auto"
      }
     },
     "7e0a682442f949c79c9a5d38d3e441df": {
      "model_module": "@jupyter-widgets/controls",
      "model_module_version": "1.5.0",
      "model_name": "HTMLModel",
      "state": {
       "layout": "IPY_MODEL_23fad713991c4a4aabe04339eb08068f",
       "style": "IPY_MODEL_39656ac2d44f4266b9ae0320e0ecdc0c",
       "value": "<style>img.pixelated {image-rendering: pixelated;}</style>"
      }
     },
     "985cab7e6b4d4c5ebe70b53b4b41a9a4": {
      "model_module": "@jupyter-widgets/controls",
      "model_module_version": "1.5.0",
      "model_name": "DescriptionStyleModel",
      "state": {
       "description_width": ""
      }
     },
     "9865d934f94e43f08d0f571d35da7152": {
      "model_module": "@jupyter-widgets/base",
      "model_module_version": "1.2.0",
      "model_name": "LayoutModel",
      "state": {}
     },
     "a56f1d14f1734910afc364b59f812fea": {
      "model_module": "@jupyter-widgets/controls",
      "model_module_version": "1.5.0",
      "model_name": "HTMLModel",
      "state": {
       "layout": "IPY_MODEL_db2808f5fd2e4a9f9f612158d7da6411",
       "style": "IPY_MODEL_985cab7e6b4d4c5ebe70b53b4b41a9a4",
       "value": "<style>img.pixelated {image-rendering: pixelated;}</style>"
      }
     },
     "aa70d95a1347494197e859ed0bea51db": {
      "model_module": "@jupyter-widgets/base",
      "model_module_version": "1.2.0",
      "model_name": "LayoutModel",
      "state": {
       "border": "10px solid rgb(0 177 255)",
       "height": "auto",
       "max_width": "100%",
       "width": "500px"
      }
     },
     "c058d9d24faf46d8a1a867b9cad90010": {
      "buffers": [
       {
        "data": "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",
        "encoding": "base64",
        "path": [
         "value"
        ]
       }
      ],
      "model_module": "@jupyter-widgets/controls",
      "model_module_version": "1.5.0",
      "model_name": "ImageModel",
      "state": {
       "layout": "IPY_MODEL_7365cc5a6fe7491ea8e848638564be83"
      }
     },
     "db2808f5fd2e4a9f9f612158d7da6411": {
      "model_module": "@jupyter-widgets/base",
      "model_module_version": "1.2.0",
      "model_name": "LayoutModel",
      "state": {}
     }
    },
    "version_major": 2,
    "version_minor": 0
   }
  }
 },
 "nbformat": 4,
 "nbformat_minor": 5
}
