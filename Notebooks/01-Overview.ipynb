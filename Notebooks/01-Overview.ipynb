{
 "cells": [
  {
   "cell_type": "markdown",
   "metadata": {},
   "source": [
    "# Overview of aitk.robots"
   ]
  },
  {
   "cell_type": "markdown",
   "metadata": {},
   "source": [
    "This is an overview of the Python package `aitk.robots`. It features the following:\n",
    "\n",
    "* Simulation of mobile robots\n",
    "* Written in pure-Python\n",
    "* Balance of speed and features, including 3D camera views\n",
    "* Designed for research, education, and exploration\n",
    "* Can be used with modern JupyterLab and Notebooks\n",
    "* Creates easily reproducible experiments for Machine Learning\n",
    "\n",
    "You can install bare `aitk.robots` package with the command-line:\n",
    "\n",
    "```shell\n",
    "pip install aitk.robots\n",
    "```\n",
    "\n",
    "Or, if using with JupyterLab 3.0:\n",
    "\n",
    "```shell\n",
    "pip install \"aitk.robots\"\n",
    "jupyter labextension install @jupyter-widgets/jupyterlab-manager\n",
    "```\n",
    "\n",
    "If you have installed `aitk.robots` before and want to install the latest version, add the flag `--upgrade` to the above `pip` commands."
   ]
  },
  {
   "cell_type": "markdown",
   "metadata": {},
   "source": [
    "## What is aitk?\n",
    "\n",
    "`aitk` stands for Artificial Intelligence Toolkit. The package `robots` contains tools for running simulated mobile (wheeled) robots. You can install just the `robots` package (as described above), or install the entire suite of tools with:\n",
    "\n",
    "```shell\n",
    "pip install aitk\n",
    "```\n",
    "\n",
    "If you have installed `aitk` (or any `aitk` packages) before and want to install the latest versions, add the flag `--upgrade` to the above command.\n",
    "\n",
    "## Getting Started\n",
    "\n",
    "Whether you are in a Notebook (like this example) or in a Python script, you will need to import the `aitk.robots` library:"
   ]
  },
  {
   "cell_type": "code",
   "execution_count": 1,
   "metadata": {},
   "outputs": [
    {
     "data": {
      "text/plain": [
       "'0.9.14'"
      ]
     },
     "execution_count": 1,
     "metadata": {},
     "output_type": "execute_result"
    }
   ],
   "source": [
    "import aitk.robots as bots\n",
    "bots.__version__"
   ]
  },
  {
   "cell_type": "markdown",
   "metadata": {},
   "source": [
    "A common first check is to print out the version of the library to make sure it is the appropriate version. The code in this notebook is written for aitk.robots version 1, so you should see a version that starts with \"1\"."
   ]
  },
  {
   "cell_type": "markdown",
   "metadata": {},
   "source": [
    "<div class=\"alert alert-block alert-info\">\n",
    "\n",
    "<b>Troubleshooting:</b> if you aren't able to import `aitk.robots`, make sure you are installing with the correct `pip`. In a Notebook, you can use the `%pip` magic. At the shell you can use `python -m pip` instead.\n",
    "</div>\n",
    "\n",
    "## bots?\n",
    "\n",
    "Notice in the above cell that we imported `aitk.robots` as `bots`. That makes `bots` just a shorthand so that we don't have to write `aitk.robots`. We'll use this convention throughout these examples.\n",
    "\n",
    "Ok, let's simulate!"
   ]
  },
  {
   "cell_type": "markdown",
   "metadata": {},
   "source": [
    "## bots.World"
   ]
  },
  {
   "cell_type": "code",
   "execution_count": 2,
   "metadata": {},
   "outputs": [
    {
     "name": "stdout",
     "output_type": "stream",
     "text": [
      "Random seed set to: 3524447\n"
     ]
    }
   ],
   "source": [
    "world = bots.World(width=100, height=100)"
   ]
  },
  {
   "cell_type": "markdown",
   "metadata": {},
   "source": [
    "The above command created a world that is 100 cm by 100 cm. Also, it displayed a \"Random seed\". This is shown so that you can create reproducible simulations. If you do not manually set a seed, then it will generate one for you, and print it out.\n",
    "\n",
    "If you are in a Jupyter Notebook, then we can generate an image of the world, and display it right here:"
   ]
  },
  {
   "cell_type": "code",
   "execution_count": 3,
   "metadata": {},
   "outputs": [
    {
     "data": {
      "image/png": "[encoded data removed]",
      "text/plain": [
       "<PIL.Image.Image image mode=RGB size=300x342 at 0x7FEA04CAE8E0>"
      ]
     },
     "metadata": {},
     "output_type": "display_data"
    }
   ],
   "source": [
    "world.display()"
   ]
  },
  {
   "cell_type": "markdown",
   "metadata": {},
   "source": [
    "If you are not in a Jupyter Notebook, you could still generate a Python Image Library image of the world and display it in the console with this command:\n",
    "\n",
    "```python\n",
    "world.get_image().show()\n",
    "```\n",
    "\n",
    "That would open up a window on your computer, like this:\n",
    "\n",
    "![](./images/world-show.png)"
   ]
  },
  {
   "cell_type": "markdown",
   "metadata": {},
   "source": [
    "The image of a World shows a 2D, top-down view of the world and everything in it. By default the \"ground\" is green, and there is a purple border around the whole world. The image if the world also shows the elapsed time in the simulation in \"HH:MM:SS.S\" (2 digits of hours, 2 digits of minutes, and 3 digits showing tenths of a second).\n",
    "\n",
    "We can add any of the following items to the world:\n",
    "\n",
    "* robots\n",
    "* walls\n",
    "* lights (called \"bulbs\")\n",
    "\n",
    "We'll add each of those in the following sections. Let's start by adding a robot."
   ]
  },
  {
   "cell_type": "markdown",
   "metadata": {},
   "source": [
    "## bots.Robot\n",
    "\n",
    "Although there is a `bots.Robot`, we'll use the subclass `Scribbler` because robots need a \"body\" and the base class `Robot` doesn't have one.\n",
    "\n",
    "The Scribbler is a robot manufactured by [Parallax, inc](https://en.wikipedia.org/wiki/Parallax,_Inc.) and looks like this in the real world with a Camera by the [Institute for Personal Robots in Education](https://en.wikipedia.org/wiki/Institute_for_Personal_Robots_in_Education):\n",
    "\n",
    "<img src=\"https://upload.wikimedia.org/wikipedia/commons/8/8e/Scribbler_robot.jpg\" width=\"400px\">"
   ]
  },
  {
   "cell_type": "markdown",
   "metadata": {},
   "source": [
    "We use the simulated Scribbler robot as it makes a fine base for many of the examples. However, you can easily create your own simulated robot by simply defining a body.\n",
    "\n",
    "We'll make a lightblue-colored Scribbler (to match the IRL version) and save it to a variable named `robot`:"
   ]
  },
  {
   "cell_type": "code",
   "execution_count": 4,
   "metadata": {},
   "outputs": [],
   "source": [
    "robot = bots.Scribbler(color=\"lightblue\")"
   ]
  },
  {
   "cell_type": "markdown",
   "metadata": {},
   "source": [
    "Next, we'll add it to the world:"
   ]
  },
  {
   "cell_type": "code",
   "execution_count": 5,
   "metadata": {},
   "outputs": [],
   "source": [
    "world.add_robot(robot)"
   ]
  },
  {
   "cell_type": "markdown",
   "metadata": {},
   "source": [
    "<div class=\"alert alert-block alert-info\">\n",
    "\n",
    "<b>Troubleshooting:</b> if you try to add the same robot to the world more than once, you will get an error. However, you can add multiple robots as we'll see below.\n",
    "</div>\n"
   ]
  },
  {
   "cell_type": "markdown",
   "metadata": {},
   "source": [
    "How do we know the world now has a robot in it? Well, one way is to display it again:"
   ]
  },
  {
   "cell_type": "code",
   "execution_count": 6,
   "metadata": {},
   "outputs": [
    {
     "data": {
      "image/png": "[encoded data removed]",
      "text/plain": [
       "<PIL.Image.Image image mode=RGB size=300x342 at 0x7FEA04CAE8E0>"
      ]
     },
     "metadata": {},
     "output_type": "display_data"
    }
   ],
   "source": [
    "world.display()"
   ]
  },
  {
   "cell_type": "markdown",
   "metadata": {},
   "source": [
    "You should see a lightblue robot in the world somewhere, facing in a random direction. We could have added the robot to an exact place, facing a precise direction. \n",
    "\n",
    "The location and direction of a robot can be seen by using the `get_pose()` method:"
   ]
  },
  {
   "cell_type": "code",
   "execution_count": 7,
   "metadata": {},
   "outputs": [
    {
     "data": {
      "text/plain": [
       "(26, 89, 222.0537472523572)"
      ]
     },
     "execution_count": 7,
     "metadata": {},
     "output_type": "execute_result"
    }
   ],
   "source": [
    "robot.get_pose()"
   ]
  },
  {
   "cell_type": "markdown",
   "metadata": {},
   "source": [
    "That returns the robot's pose:\n",
    "\n",
    "* x, the distance in cm from left border of world\n",
    "* y, the distance in cm from the top border of the world\n",
    "* a, the angle in degrees, with 0 facing right, moving counter-clockwise as it increases\n",
    "\n",
    "You can also get this imformation from the robot's representation:"
   ]
  },
  {
   "cell_type": "code",
   "execution_count": 8,
   "metadata": {},
   "outputs": [
    {
     "data": {
      "text/plain": [
       "<Robot(name='Scribbie', x=26, y=89, a=222.05)>"
      ]
     },
     "execution_count": 8,
     "metadata": {},
     "output_type": "execute_result"
    }
   ],
   "source": [
    "robot"
   ]
  },
  {
   "cell_type": "markdown",
   "metadata": {},
   "source": [
    "Because we did not specify a pose, the world put the robot into an unoccupied random location.\n",
    "\n",
    "## Hello, world!\n",
    "\n",
    "In summary (with something slightly new), here is an end-to-end example of \"Hello, world!\" in aitk.robots:"
   ]
  },
  {
   "cell_type": "code",
   "execution_count": 9,
   "metadata": {},
   "outputs": [
    {
     "name": "stdout",
     "output_type": "stream",
     "text": [
      "Random seed set to: 2248933\n"
     ]
    },
    {
     "data": {
      "application/vnd.jupyter.widget-view+json": {
       "model_id": "3d3b2bc100144e30b511260dcdd8b303",
       "version_major": 2,
       "version_minor": 0
      },
      "text/plain": [
       "Image(value=b'\\xff\\xd8\\xff\\xe0\\x00\\x10JFIF\\x00\\x01\\x01\\x00\\x00\\x01\\x00\\x01\\x00\\x00\\xff\\xdb\\x00C\\x00\\x08\\x06\\x0…"
      ]
     },
     "metadata": {},
     "output_type": "display_data"
    }
   ],
   "source": [
    "import aitk.robots as bots\n",
    "world = bots.World(150, 40) # width, height\n",
    "robot = bots.Scribbler(20, 25, 90) # x, y, a, default color is red\n",
    "world.add_robot(robot)\n",
    "robot.speak(\"Hello, World!\") # new command!\n",
    "world.watch()"
   ]
  },
  {
   "cell_type": "markdown",
   "metadata": {},
   "source": [
    "The Robot `speak()` method takes a short string (perhaps with newlines) and shows the robot speaking it in a speech bubble. This is useful for debugging robot behaviors, as we will see.  For now, we just say \"hi!\"\n",
    "\n",
    "Now, let's build a larger, more realistic world."
   ]
  },
  {
   "cell_type": "markdown",
   "metadata": {},
   "source": [
    "## Walls"
   ]
  },
  {
   "cell_type": "code",
   "execution_count": 10,
   "metadata": {},
   "outputs": [
    {
     "name": "stdout",
     "output_type": "stream",
     "text": [
      "Random seed set to: 121819\n"
     ]
    }
   ],
   "source": [
    "world2 = bots.World(500, 200)"
   ]
  },
  {
   "cell_type": "code",
   "execution_count": 11,
   "metadata": {
    "tags": []
   },
   "outputs": [
    {
     "data": {
      "application/vnd.jupyter.widget-view+json": {
       "model_id": "a18d432c59a645a19ece0ae208ec0957",
       "version_major": 2,
       "version_minor": 0
      },
      "text/plain": [
       "Image(value=b'\\xff\\xd8\\xff\\xe0\\x00\\x10JFIF\\x00\\x01\\x01\\x00\\x00\\x01\\x00\\x01\\x00\\x00\\xff\\xdb\\x00C\\x00\\x08\\x06\\x0…"
      ]
     },
     "metadata": {},
     "output_type": "display_data"
    }
   ],
   "source": [
    "world2.watch(width=\"100%\")"
   ]
  },
  {
   "cell_type": "markdown",
   "metadata": {},
   "source": [
    "If you right-click (or command-click) to the left of the world view above, and select \"New View for Output\":\n",
    "\n",
    "<img src=\"./images/new-view-for-output.png\">"
   ]
  },
  {
   "cell_type": "code",
   "execution_count": 12,
   "metadata": {},
   "outputs": [],
   "source": [
    "world2.add_wall(\"blue\", 100, 0, 110, 150)"
   ]
  },
  {
   "cell_type": "code",
   "execution_count": 13,
   "metadata": {},
   "outputs": [],
   "source": [
    "world2.add_wall(\"red\", 200, 50, 210, 200)"
   ]
  },
  {
   "cell_type": "code",
   "execution_count": 14,
   "metadata": {},
   "outputs": [],
   "source": [
    "world2.add_wall(\"silver\", 300, 0, 310, 150)"
   ]
  },
  {
   "cell_type": "code",
   "execution_count": 15,
   "metadata": {},
   "outputs": [],
   "source": [
    "world2.add_wall(\"black\", 400, 50, 410, 200)"
   ]
  },
  {
   "cell_type": "code",
   "execution_count": 16,
   "metadata": {},
   "outputs": [],
   "source": [
    "world2.add_bulb(\"yellow\", 450, 100, 0, 3)"
   ]
  },
  {
   "cell_type": "code",
   "execution_count": 17,
   "metadata": {},
   "outputs": [],
   "source": [
    "robot2 = bots.Scribbler(50, 100, 0)"
   ]
  },
  {
   "cell_type": "code",
   "execution_count": 18,
   "metadata": {},
   "outputs": [],
   "source": [
    "world2.add_robot(robot2)"
   ]
  },
  {
   "cell_type": "code",
   "execution_count": 19,
   "metadata": {},
   "outputs": [],
   "source": [
    "world2.draw()"
   ]
  },
  {
   "cell_type": "markdown",
   "metadata": {},
   "source": [
    "## Devices"
   ]
  },
  {
   "cell_type": "markdown",
   "metadata": {},
   "source": [
    "Devices:\n",
    "\n",
    "* range sensors (like IR and Laser)\n",
    "* cameras (forward and ground-facing)\n",
    "* light sensors"
   ]
  },
  {
   "cell_type": "code",
   "execution_count": 20,
   "metadata": {},
   "outputs": [],
   "source": [
    "robot2.add_device(bots.Camera())"
   ]
  },
  {
   "cell_type": "code",
   "execution_count": 21,
   "metadata": {},
   "outputs": [
    {
     "data": {
      "application/vnd.jupyter.widget-view+json": {
       "model_id": "7277462b83644ab7bbfb09a983491332",
       "version_major": 2,
       "version_minor": 0
      },
      "text/plain": [
       "HTML(value='<style>img.pixelated {image-rendering: pixelated;}</style>')"
      ]
     },
     "metadata": {},
     "output_type": "display_data"
    },
    {
     "data": {
      "application/vnd.jupyter.widget-view+json": {
       "model_id": "86b96c24bbe24db8994f3dbefe987231",
       "version_major": 2,
       "version_minor": 0
      },
      "text/plain": [
       "HTML(value='<style>img.pixelated {image-rendering: pixelated;}</style>')"
      ]
     },
     "metadata": {},
     "output_type": "display_data"
    },
    {
     "data": {
      "application/vnd.jupyter.widget-view+json": {
       "model_id": "7836ba53713e4c4c9f98faeb1cf48e4b",
       "version_major": 2,
       "version_minor": 0
      },
      "text/plain": [
       "HTML(value='<style>img.pixelated {image-rendering: pixelated;}</style>')"
      ]
     },
     "metadata": {},
     "output_type": "display_data"
    },
    {
     "data": {
      "application/vnd.jupyter.widget-view+json": {
       "model_id": "9f0828907a164202ac7ce447634bd07d",
       "version_major": 2,
       "version_minor": 0
      },
      "text/plain": [
       "Image(value=b'\\x89PNG\\r\\n\\x1a\\n\\x00\\x00\\x00\\rIHDR\\x00\\x00\\x00@\\x00\\x00\\x00 \\x08\\x06\\x00\\x00\\x00\\xa2\\x9d~\\x84\\x…"
      ]
     },
     "metadata": {},
     "output_type": "display_data"
    }
   ],
   "source": [
    "robot2[\"camera\"].watch()"
   ]
  },
  {
   "cell_type": "code",
   "execution_count": null,
   "metadata": {},
   "outputs": [],
   "source": []
  }
 ],
 "metadata": {
  "kernelspec": {
   "display_name": "Python 3",
   "language": "python",
   "name": "python3"
  },
  "language_info": {
   "codemirror_mode": {
    "name": "ipython",
    "version": 3
   },
   "file_extension": ".py",
   "mimetype": "text/x-python",
   "name": "python",
   "nbconvert_exporter": "python",
   "pygments_lexer": "ipython3",
   "version": "3.8.5"
  },
  "widgets": {
   "application/vnd.jupyter.widget-state+json": {
    "state": {
     "19e54fcb838d48c2b6d59bc23821a6a0": {
      "model_module": "@jupyter-widgets/controls",
      "model_module_version": "1.5.0",
      "model_name": "DescriptionStyleModel",
      "state": {
       "description_width": ""
      }
     },
     "3d3b2bc100144e30b511260dcdd8b303": {
      "buffers": [
       {
        "data": "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",
        "encoding": "base64",
        "path": [
         "value"
        ]
       }
      ],
      "model_module": "@jupyter-widgets/controls",
      "model_module_version": "1.5.0",
      "model_name": "ImageModel",
      "state": {
       "layout": "IPY_MODEL_c925dbc3c2d848e88afd99766eec4b91"
      }
     },
     "4e2e3e84eeb54df3ba92a1b08ee5a126": {
      "model_module": "@jupyter-widgets/base",
      "model_module_version": "1.2.0",
      "model_name": "LayoutModel",
      "state": {
       "max_height": "250px",
       "min_width": "250px"
      }
     },
     "7277462b83644ab7bbfb09a983491332": {
      "model_module": "@jupyter-widgets/controls",
      "model_module_version": "1.5.0",
      "model_name": "HTMLModel",
      "state": {
       "layout": "IPY_MODEL_b82647c2f910409980aadb0d76408a02",
       "style": "IPY_MODEL_7bdfc5fb0f5c47e0ad83829208500614",
       "value": "<style>img.pixelated {image-rendering: pixelated;}</style>"
      }
     },
     "7318bfebb289437ab687fe1bc730c24b": {
      "model_module": "@jupyter-widgets/base",
      "model_module_version": "1.2.0",
      "model_name": "LayoutModel",
      "state": {
       "border": "10px solid rgb(0 177 255)",
       "height": "auto",
       "max_width": "100%",
       "width": "500px"
      }
     },
     "7836ba53713e4c4c9f98faeb1cf48e4b": {
      "model_module": "@jupyter-widgets/controls",
      "model_module_version": "1.5.0",
      "model_name": "HTMLModel",
      "state": {
       "layout": "IPY_MODEL_7cebae3fc3ee4022ade3d8295f9594db",
       "style": "IPY_MODEL_a3ac650a9e5c4222b3c2f557a75c8da3",
       "value": "<style>img.pixelated {image-rendering: pixelated;}</style>"
      }
     },
     "7bdfc5fb0f5c47e0ad83829208500614": {
      "model_module": "@jupyter-widgets/controls",
      "model_module_version": "1.5.0",
      "model_name": "DescriptionStyleModel",
      "state": {
       "description_width": ""
      }
     },
     "7cebae3fc3ee4022ade3d8295f9594db": {
      "model_module": "@jupyter-widgets/base",
      "model_module_version": "1.2.0",
      "model_name": "LayoutModel",
      "state": {}
     },
     "86b96c24bbe24db8994f3dbefe987231": {
      "model_module": "@jupyter-widgets/controls",
      "model_module_version": "1.5.0",
      "model_name": "HTMLModel",
      "state": {
       "layout": "IPY_MODEL_f0604ca4a15f4844b1f3971e7f883789",
       "style": "IPY_MODEL_19e54fcb838d48c2b6d59bc23821a6a0",
       "value": "<style>img.pixelated {image-rendering: pixelated;}</style>"
      }
     },
     "8e6e99c2b49641198f5a6cd8c0bee39a": {
      "model_module": "ipycanvas",
      "model_module_version": "^0.8.0",
      "model_name": "CanvasModel",
      "state": {
       "_model_module_version": "^0.8.0",
       "_view_module_version": "^0.8.0",
       "height": 250,
       "layout": "IPY_MODEL_4e2e3e84eeb54df3ba92a1b08ee5a126",
       "width": 250
      }
     },
     "9f0828907a164202ac7ce447634bd07d": {
      "buffers": [
       {
        "data": "iVBORw0KGgoAAAANSUhEUgAAAEAAAAAgCAYAAACinX6EAAAAZUlEQVR4nO3YMRHAQAwEMX+QP9ngSGCo8ArBzRYufGbuN4s9eoBWAD1AWx/gzLwdwc0KoAdoBdADtALoAVoB9ACtAHqAVgA9QCuAHqAVQA/QCqAHaAXQA7T1Ac7c6S2+WQH0AO0HSykFIGc77oYAAAAASUVORK5CYII=",
        "encoding": "base64",
        "path": [
         "value"
        ]
       }
      ],
      "model_module": "@jupyter-widgets/controls",
      "model_module_version": "1.5.0",
      "model_name": "ImageModel",
      "state": {
       "_dom_classes": [
        "pixelated"
       ],
       "layout": "IPY_MODEL_7318bfebb289437ab687fe1bc730c24b"
      }
     },
     "a18d432c59a645a19ece0ae208ec0957": {
      "buffers": [
       {
        "data": "/9j/4AAQSkZJRgABAQAAAQABAAD/2wBDAAgGBgcGBQgHBwcJCQgKDBQNDAsLDBkSEw8UHRofHh0aHBwgJC4nICIsIxwcKDcpLDAxNDQ0Hyc5PTgyPC4zNDL/2wBDAQkJCQwLDBgNDRgyIRwhMjIyMjIyMjIyMjIyMjIyMjIyMjIyMjIyMjIyMjIyMjIyMjIyMjIyMjIyMjIyMjIyMjL/wAARCAKCBdwDASIAAhEBAxEB/8QAHwAAAQUBAQEBAQEAAAAAAAAAAAECAwQFBgcICQoL/8QAtRAAAgEDAwIEAwUFBAQAAAF9AQIDAAQRBRIhMUEGE1FhByJxFDKBkaEII0KxwRVS0fAkM2JyggkKFhcYGRolJicoKSo0NTY3ODk6Q0RFRkdISUpTVFVWV1hZWmNkZWZnaGlqc3R1dnd4eXqDhIWGh4iJipKTlJWWl5iZmqKjpKWmp6ipqrKztLW2t7i5usLDxMXGx8jJytLT1NXW19jZ2uHi4+Tl5ufo6erx8vP09fb3+Pn6/8QAHwEAAwEBAQEBAQEBAQAAAAAAAAECAwQFBgcICQoL/8QAtREAAgECBAQDBAcFBAQAAQJ3AAECAxEEBSExBhJBUQdhcRMiMoEIFEKRobHBCSMzUvAVYnLRChYkNOEl8RcYGRomJygpKjU2Nzg5OkNERUZHSElKU1RVVldYWVpjZGVmZ2hpanN0dXZ3eHl6goOEhYaHiImKkpOUlZaXmJmaoqOkpaanqKmqsrO0tba3uLm6wsPExcbHyMnK0tPU1dbX2Nna4uPk5ebn6Onq8vP09fb3+Pn6/9oADAMBAAIRAxEAPwDzeKJpWKqQDjPNS/Y5P7y/nRZ/64/7tXqrM8zxGGxDp02rWXQvOc5xWExTpUmrWT1V9yj9jk/vL+dH2OT+8v51eorz/wC3MZ3X3f8ABPK/1kx/df8AgK/zKP2OT+8v50fY5P7y/nV6ij+3MZ3X3f8ABD/WTH91/wCAr/Mo/Y5P7y/nR9jk/vL+dXqKP7cxndfd/wAEP9ZMf3X/AICv8yj9jk/vL+dH2OT+8v51eoo/tzGd193/AAQ/1kx/df8AgK/zKP2OT+8v50fY5P7y/nV6ij+3MZ3X3f8ABD/WTH91/wCAr/Mo/Y5P7y/nR9jk/vL+dXqKP7cxndfd/wAEP9ZMf3X/AICv8yj9jk/vL+dH2OT+8v51eoo/tzGd193/AAQ/1kx/df8AgK/zKP2OT+8v50fY5P7y/nV6ij+3MZ3X3f8ABD/WTH91/wCAr/Mo/Y5P7y/nR9jk/vL+dXqKP7cxndfd/wAEP9ZMf3X/AICv8yj9jk/vL+dH2OT+8v51eoo/tzGd193/AAQ/1kx/df8AgK/zKP2OT+8v50fY5P7y/nV6ij+3MZ3X3f8ABD/WTH91/wCAr/Mo/Y5P7y/nR9jk/vL+dXqKP7cxndfd/wAEP9ZMf3X/AICv8yj9jk/vL+dH2OT+8v51eoo/tzGd193/AAQ/1kx/df8AgK/zKP2OT+8v50fY5P7y/nV6ij+3MZ3X3f8ABD/WTH91/wCAr/Mo/Y5P7y/nR9jk/vL+dXqKP7cxndfd/wAEP9ZMf3X/AICv8yj9jk/vL+dH2OT+8v51eoo/tzGd193/AAQ/1kx/df8AgK/zKP2OT+8v50fY5P7y/nV6ij+3MZ3X3f8ABD/WTH91/wCAr/Mo/Y5P7y/nWfqcLQ+VuIOc9PwrerI1z/lh/wAC/pX0HC+a4mvm1KnNqz5un91h/beLxP7mo1Z+VvPuZFFFFfr4grU023eW3ZlKgbyOfoKy63dF/wCPN/8Arof5Cvl+MMTUw2VupT35o/mx/W6uE/e0t9tddx/2OT+8v50fY5P7y/nV6ivyj+3MZ3X3f8EP9ZMf3X/gK/zKP2OT+8v50fY5P7y/nV6ij+3MZ3X3f8EP9ZMf3X/gK/zKP2OT+8v50fY5P7y/nV6ij+3MZ3X3f8EP9ZMf3X/gK/zKP2OT+8v50fY5P7y/nV6ij+3MZ3X3f8EP9ZMf3X/gK/zKP2OT+8v50fY5P7y/nV6ij+3MZ3X3f8EP9ZMf3X/gK/zKP2OT+8v50fY5P7y/nV6ij+3MZ3X3f8EP9ZMf3X/gK/zKP2OT+8v50fY5P7y/nV6ij+3MZ3X3f8EP9ZMf3X/gK/zKP2OT+8v50fY5P7y/nV6ij+3MZ3X3f8EP9ZMf3X/gK/zKP2OT+8v50fY5P7y/nV6ij+3MZ3X3f8EP9ZMf3X/gK/zKP2OT+8v50fY5P7y/nV6ij+3MZ3X3f8EP9ZMf3X/gK/zKP2OT+8v50fY5P7y/nV6ij+3MZ3X3f8EP9ZMf3X/gK/zKP2OT+8v50fY5P7y/nV6ij+3MZ3X3f8EP9ZMf3X/gK/zKP2OT+8v50fY5P7y/nV6ij+3MZ3X3f8EP9ZMf3X/gK/zKP2OT+8v50fY5P7y/nV6ij+3MZ3X3f8EP9ZMf3X/gK/zKP2OT+8v50fY5P7y/nV6ij+3MZ3X3f8EP9ZMf3X/gK/zKP2OT+8v50fY5P7y/nV6ij+3MZ3X3f8EP9ZMf3X/gK/zKP2OT+8v50fY5P7y/nV6ij+3MZ3X3f8EP9ZMf3X/gK/zKP2OT+8v50fY5P7y/nV6ij+3MZ3X3f8EP9ZMf3X/gK/zKP2OT+8v50fY5P7y/nV6ij+3MZ3X3f8EP9ZMf3X/gK/zKP2OT+8v50fY5P7y/nV6ij+3MZ3X3f8EP9ZMf3X/gK/zKP2OT+8v50fY5P7y/nV6ij+3MZ3X3f8EP9ZMf3X/gK/zKP2OT+8v50fY5P7y/nV6ij+3MZ3X3f8EP9ZMf3X/gK/zKP2OT+8v50fY5P7y/nV6ij+3MZ3X3f8EP9ZMf3X/gK/zKP2OT+8v50fY5P7y/nV6ij+3MZ3X3f8EP9ZMf3X/gK/zKP2OT+8v50fY5P7y/nV6ij+3MZ3X3f8EP9ZMf3X/gK/zKP2OT+8v50fY5P7y/nV6ij+3MZ3X3f8EP9ZMf3X/gK/zKP2OT+8v50fY5P7y/nV6ij+3MZ3X3f8EP9ZMf3X/gK/zKP2OT+8v50fY5P7y/nV6ij+3MZ3X3f8EP9ZMf3X/gK/zKP2OT+8v50fY5P7y/nV6ij+3MZ3X3f8EP9ZMf3X/gK/zKP2OT+8v50fY5P7y/nV6ij+3MZ3X3f8EP9ZMf3X/gK/zKP2OT+8v50fY5P7y/nV6ij+3MZ3X3f8EP9ZMf3X/gK/zKP2OT+8v50fY5P7y/nV6ij+3MZ3X3f8EP9ZMf3X/gK/zKP2OT+8v50fY5P7y/nV6ij+3MZ3X3f8EP9ZMf3X/gK/zKP2OT+8v50fY5P7y/nV6ij+3MZ3X3f8EP9ZMf3X/gK/zKP2OT+8v50fY5P7y/nV6ij+3MZ3X3f8EP9ZMf3X/gK/zO0+GELQ/2ruIOfJ6f8Dr0GuF+HH/MT/7Zf+z13VdVOvOvFVJ7s7aOJqYmCrVN38vIKKKK0NTy34k27y+IrdlKgfZFHP8AvvXHfY5P7y/nXdfEH/kPwf8AXqv/AKE9cnXJUzfFUZOnBqy8jgq57jKE3Sg1ZaLT/glH7HJ/eX86Pscn95fzq9RUf25jO6+7/gkf6yY/uv8AwFf5lH7HJ/eX86Pscn95fzq9RR/bmM7r7v8Agh/rJj+6/wDAV/mUfscn95fzo+xyf3l/Or1FH9uYzuvu/wCCH+smP7r/AMBX+ZR+xyf3l/Oj7HJ/eX86vUUf25jO6+7/AIIf6yY/uv8AwFf5lH7HJ/eX86Pscn95fzq9RR/bmM7r7v8Agh/rJj+6/wDAV/mUfscn95fzo+xyf3l/Or1FH9uYzuvu/wCCH+smP7r/AMBX+ZR+xyf3l/Oj7HJ/eX86vUUf25jO6+7/AIIf6yY/uv8AwFf5lH7HJ/eX86Pscn95fzq9RR/bmM7r7v8Agh/rJj+6/wDAV/mUfscn95fzo+xyf3l/Or1FH9uYzuvu/wCCH+smP7r/AMBX+ZR+xyf3l/Oj7HJ/eX86vUUf25jO6+7/AIIf6yY/uv8AwFf5lH7HJ/eX86Pscn95fzq9RR/bmM7r7v8Agh/rJj+6/wDAV/mUfscn95fzo+xyf3l/Or1FH9uYzuvu/wCCH+smP7r/AMBX+ZR+xyf3l/Oj7HJ/eX86vUUf25jO6+7/AIIf6yY/uv8AwFf5lH7HJ/eX86Pscn95fzq9RR/bmM7r7v8Agh/rJj+6/wDAV/mUfscn95fzo+xyf3l/Or1FH9uYzuvu/wCCH+smP7r/AMBX+ZR+xyf3l/Oj7HJ/eX86vUUf25jO6+7/AIIf6yY/uv8AwFf5lH7HJ/eX86Pscn95fzq9RR/bmM7r7v8Agh/rJj+6/wDAV/mUfscn95fzo+xyf3l/Or1FH9uYzuvu/wCCH+smP7r/AMBX+ZR+xyf3l/Oj7HJ/eX86vUUf25jO6+7/AIIf6yY/uv8AwFf5lH7HJ/eX86Pscn95fzq9RR/bmM7r7v8Agh/rJj+6/wDAV/mUfscn95fzo+xyf3l/Or1FH9uYzuvu/wCCH+smP7r/AMBX+ZR+xyf3l/Oj7HJ/eX86vUUf25jO6+7/AIIf6yY/uv8AwFf5lH7HJ/eX86Pscn95fzq9RR/bmM7r7v8Agh/rJj+6/wDAV/mUfscn95fzo+xyf3l/Or1FH9uYzuvu/wCCH+smP7r/AMBX+ZR+xyf3l/Oj7HJ/eX86vUUf25jO6+7/AIIf6yY/uv8AwFf5lH7HJ/eX86Pscn95fzq9RR/bmM7r7v8Agh/rJj+6/wDAV/mUfscn95fzo+xyf3l/Or1FH9uYzuvu/wCCH+smP7r/AMBX+ZR+xyf3l/Oj7HJ/eX86vUUf25jO6+7/AIIf6yY/uv8AwFf5lH7HJ/eX86Pscn95fzq9RR/bmM7r7v8Agh/rJj+6/wDAV/mUfscn95fzo+xyf3l/Or1FH9uYzuvu/wCCH+smP7r/AMBX+ZR+xyf3l/Oj7HJ/eX86vUUf25jO6+7/AIIf6yY/uv8AwFf5lH7HJ/eX86Pscn95fzq9RR/bmM7r7v8Agh/rJj+6/wDAV/mUfscn95fzo+xyf3l/Or1FH9uYzuvu/wCCH+smP7r/AMBX+ZR+xyf3l/Oj7HJ/eX86vUUf25jO6+7/AIIf6yY/uv8AwFf5lH7HJ/eX86r1rVk17WUY6tiuf2ttLdLdz6HIcyxGN9p7ZrS1rK29yxZ/64/7tXqo2f8Arj/u1erxc8/3x+i/U+e4k/39+kfyYUUUV5B4IUUUUAFFFFABRRRQAUUUUAFFFFABRRRQAUUUUAFFFFABRRRQAUUUUAFFFFABRRRQAUUUUAFFFFABRRRQAUUUUAFZGuf8sP8AgX9K16yNc/5Yf8C/pX0vB/8AyOqP/b3/AKSzfDfxUZFFFFfuJ6wVu6L/AMeb/wDXQ/yFYVbui/8AHm//AF0P8hXyHHH/ACJ5f4o/mzmxf8I0aKKK/GDywooooAKKKKACiiigAooooAKKKKACiiigAooooAKKKKACiiigAooooAKKKKACiiigAooooAKKKKACiiigAooooAKKKKACiiigAooooAKKKKACiiigAooooAKKKKACiiigAooooAKKKKACiiigAooooAKKKKACiiigAooooAKKKKACiiigAooooA7v4cf8xP8A7Zf+z13VcL8OP+Yn/wBsv/Z67qvcwf8ABj/XU+kwH+7x+f5hRRRXSdh5t8Qf+Q/B/wBeq/8AoT1yddZ8Qf8AkPwf9eq/+hPXJ14OJ/jS9T5jGf7xP1/yCiiisDmCiiigAooooAKKKKACiiigAooooAKKKKACiiigAooooAKKKKACiiigAooooAKKKKACiiigAooooAKKKKACiiigAooooAKKKKACiiigAooooAKKKKACiiigAooooAKKKKACiiigAooooAKKKKACiiigAooooAKKKKACiiigAooooAKKKKACsmtasmvpeHf+Xny/U+w4U/5e/wDbv6liz/1x/wB2r1UbP/XH/dq9XDnn++P0X6nm8Sf7+/SP5MKKKK8g8EKKKKACiiigAooooAKKKKACiiigAooooAKKKKACiiigAooooAKKKKACiiigAooooAKKKKACiiigAooooAKKKKACsjXP+WH/AAL+la9ZGuf8sP8AgX9K+l4P/wCR1R/7e/8ASWb4b+KjIooor9xPWCt3Rf8Ajzf/AK6H+QrCrd0X/jzf/rof5CvkOOP+RPL/ABR/NnNi/wCEaNFFFfjB5YUUUUAFFFFABRRRQAUUUUAFFFFABRRRQAUUUUAFFFFABRRRQAUUUUAFFFFABRRRQAUUUUAFFFFABRRRQAUUUUAFFFFABRRRQAUUUUAFFFFABRRRQAUUUUAFFFFABRRRQAUUUUAFFFFABRRRQAUUUUAFFFFABRRRQAUUUUAFFFFABRRRQAUUUUAd38OP+Yn/ANsv/Z67quF+HH/MT/7Zf+z13Ve5g/4Mf66n0mA/3ePz/MKKKK6TsPNviD/yH4P+vVf/AEJ65Ous+IP/ACH4P+vVf/Qnrk68HE/xpep8xjP94n6/5BRRRWBzBRRRQAUUUUAFFFFABRRRQAUUUUAFFFFABRRRQAUUUUAFFFFABRRRQAUUUUAFFFFABRRRQAUUUUAFFFFABRRRQAUUUUAFFFFABRRRQAUUUUAFFFFABRRRQAUUUUAFFFFABRRRQAUUUUAFFFFABRRRQAUUUUAFFFFABRRRQAUUUUAFFFFABWTWtWTX0vDv/Lz5fqfYcKf8vf8At39SxZ/64/7tXqo2f+uP+7V6uHPP98fov1PN4k/39+kfyYUUUV5B4IUUUUAFFFFABRRRQAUUUUAFFFFABRRRQAUUUUAFFFFABRRRQAUUUUAFFFFABRRRQAUUUUAFFFFABRRRQAUUUUAFZGuf8sP+Bf0rXrI1z/lh/wAC/pX0vB//ACOqP/b3/pLN8N/FRkUUUV+4nrBW7ov/AB5v/wBdD/IVhVu6L/x5v/10P8hXyHHH/Inl/ij+bObF/wAI0aKKK/GDywooooAKKKKACiiigAooooAKKKKACiiigAooooAKKKKACiiigAooooAKKKKACiiigAooooAKKKKACiiigAooooAKKKKACiiigAooooAKKKKACiiigAooooAKKKKACiiigAooooAKKKKACiiigAooooAKKKKACiiigAooooAKKKKACiiigAooooA7v4cf8xP/ALZf+z13VcL8OP8AmJ/9sv8A2eu6r3MH/Bj/AF1PpMB/u8fn+YUUUV0nYebfEH/kPwf9eq/+hPXJ11nxB/5D8H/Xqv8A6E9cnXg4n+NL1PmMZ/vE/X/IKKKKwOYKKKKACiiigAooooAKKKKACiiigAooooAKKKKACiiigAooooAKKKKACiiigAooooAKKKKACiiigAooooAKKKKACiiigAooooAKKKKACiiigAooooAKKKKACiiigAooooAKKKKACiiigAooooAKKKKACiiigAooooAKKKKACiiigAooooAKya1qya+l4d/5efL9T7DhT/l7/wBu/qWLP/XH/dq9VGz/ANcf92r1cOef74/RfqebxJ/v79I/kwoooryDwQooooAKKKKACiiigAooooAKKKKACiiigAooooAKKKKACiiigAooooAKKKKACiiigAooooAKKKKACiiigAooooAKyNc/5Yf8C/pWvWRrn/LD/gX9K+l4P/5HVH/t7/0lm+G/ioyKKKK/cT1grd0X/jzf/rof5CsKt3Rf+PN/+uh/kK+Q44/5E8v8UfzZzYv+EaNFFFfjB5YUUUUAFFFFABRRRQAUUUUAFFFFABRRRQAUUUUAFFFFABRRRQAUUUUAFFFFABRRRQAUUUUAFFFFABRRRQAUUUUAFFFFABRRRQAUUUUAFFFFABRRRQAUUUUAFFFFABRRRQAUUUUAFFFFABRRRQAUUUUAFFFFABRRRQAUUUUAFFFFABRRRQAUUUUAd38OP+Yn/wBsv/Z67quF+HH/ADE/+2X/ALPXdV7mD/gx/rqfSYD/AHePz/MKKKK6TsPNviD/AMh+D/r1X/0J65Ous+IP/Ifg/wCvVf8A0J65OvBxP8aXqfMYz/eJ+v8AkFFFFYHMFFFFABRRRQAUUUUAFFFFABRRRQAUUUUAFFFFABRRRQAUUUUAFFFFABRRRQAUUUUAFFFFABRRRQAUUUUAFFFFABRRRQAUUUUAFFFFABRRRQAUUUUAFFFFABRRRQAUUUUAFFFFABRRRQAUUUUAFFFFABRRRQAUUUUAFFFFABRRRQAUUUUAFZNa1ZNfS8O/8vPl+p9hwp/y9/7d/UsWf+uP+7V6qNn/AK4/7tXq4c8/3x+i/U83iT/f36R/JhRRRXkHghRRRQAUUUUAFFFFABRRRQAUUUUAFFFFABRRRQAUUUUAFFFFABRRRQAUUUUAFFFFABRRRQAUUUUAFFFFABRRRQAVka5/yw/4F/StesjXP+WH/Av6V9Lwf/yOqP8A29/6SzfDfxUZFFFFfuJ6wVu6L/x5v/10P8hWFW7ov/Hm/wD10P8AIV8hxx/yJ5f4o/mzmxf8I0aKKK/GDywooooAKKKKACiiigAooooAKKKKACiiigAooooAKKKKACiiigAooooAKKKKACiiigAooooAKKKKACiiigAooooAKKKKACiiigAooooAKKKKACiiigAooooAKKKKACiiigAooooAKKKKACiiigAooooAKKKKACiiigAooooAKKKKACiiigAooooA7v4cf8xP/tl/7PXdVwvw4/5if/bL/wBnruq9zB/wY/11PpMB/u8fn+YUUUV0nYebfEH/AJD8H/Xqv/oT1yddZ8Qf+Q/B/wBeq/8AoT1ydeDif40vU+Yxn+8T9f8AIKKKKwOYKKKKACiiigAooooAKKKKACiiigAooooAKKKKACiiigAooooAKKKKACiiigAooooAKKKKACiiigAooooAKKKKACiiigAooooAKKKKACiiigAooooAKKKKACiiigAooooAKKKKACiiigAooooAKKKKACiiigAooooAKKKKACiiigAooooAKya1qya+l4d/5efL9T7DhT/l7/27+pYs/wDXH/dq9VGz/wBcf92r1cOef74/RfqebxJ/v79I/kwoooryDwQooooAKKKKACiiigAooooAKKKKACiiigAooooAKKKKACiiigAooooAKKKKACiiigAooooAKKKKACiiigAooooAKyNc/wCWH/Av6Vr1ka5/yw/4F/SvpeD/APkdUf8At7/0lm+G/ioyKKKK/cT1grd0X/jzf/rof5CsKt3Rf+PN/wDrof5CvkOOP+RPL/FH82c2L/hGjRRRX4weWFFFFABRRRQAUUUUAFFFFABRRRQAUUUUAFFFFABRRRQAUUUUAFFFFABRRRQAUUUUAFFFFABRRRQAUUUUAFFFFABRRRQAUUUUAFFFFABRRRQAUUUUAFFFFABRRRQAUUUUAFFFFABRRRQAUUUUAFFFFABRRRQAUUUUAFFFFABRRRQAUUUUAFFFFAHd/Dj/AJif/bL/ANnruq4X4cf8xP8A7Zf+z13Ve5g/4Mf66n0mA/3ePz/MKKKK6TsPNviD/wAh+D/r1X/0J65Ous+IP/Ifg/69V/8AQnrk68HE/wAaXqfMYz/eJ+v+QUUUVgcwUUUUAFFFFABRRRQAUUUUAFFFFABRRRQAUUUUAFFFFABRRRQAUUUUAFFFFABRRRQAUUUUAFFFFABRRRQAUUUUAFFFFABRRRQAUUUUAFFFFABRRRQAUUUUAFFFFABRRRQAUUUUAFFFFABRRRQAUUUUAFFFFABRRRQAUUUUAFFFFABRRRQAVk1rVk19Lw7/AMvPl+p9hwp/y9/7d/UsWf8Arj/u1eqjZ/64/wC7V6uHPP8AfH6L9TzeJP8Af36R/JhRRRXkHghRRRQAUUUUAFFFFABRRRQAUUUUAFFFFABRRRQAUUUUAFFFFABRRRQAUUUUAFFFFABRRRQAUUUUAFFFFABRRRQAVka5/wAsP+Bf0rXrI1z/AJYf8C/pX0vB/wDyOqP/AG9/6SzfDfxUZFFFFfuJ6wVu6L/x5v8A9dD/ACFYVbui/wDHm/8A10P8hXyHHH/Inl/ij+bObF/wjRooor8YPLCiiigAooooAKKKKACiiigAooooAKKKKACiiigAooooAKKKKACiiigAooooAKKKKACiiigAooooAKKKKACiiigAooooAKKKKACiiigAooooAKKKKACiiigAooooAKKKKACiiigAooooAKKKKACiiigAooooAKKKKACiiigAooooAKKKKACiiigDu/hx/wAxP/tl/wCz13VcL8OP+Yn/ANsv/Z67qvcwf8GP9dT6TAf7vH5/mFFFFdJ2Hm3xB/5D8H/Xqv8A6E9cnXWfEH/kPwf9eq/+hPXJ14OJ/jS9T5jGf7xP1/yCiiisDmCiiigAooooAKKKKACiiigAooooAKKKKACiiigAooooAKKKKACiiigAooooAKKKKACiiigAooooAKKKKACiiigAooooAKKKKACiiigAooooAKKKKACiiigAooooAKKKKACiiigAooooAKKKKACiiigAooooAKKKKACiiigAooooAKKKKACsmtasmvpeHf8Al58v1PsOFP8Al7/27+pYs/8AXH/dq9VGz/1x/wB2r1cOef74/RfqebxJ/v79I/kwoooryDwQooooAKKKKACiiigAooooAKKKKACiiigAooooAKKKKACiiigAooooAKKKKACiiigAooooAKKKKACiiigAooooAKyNc/5Yf8C/pWvWRrn/ACw/4F/SvpeD/wDkdUf+3v8A0lm+G/ioyKKKK/cT1grd0X/jzf8A66H+QrCrd0X/AI83/wCuh/kK+Q44/wCRPL/FH82c2L/hGjRRRX4weWFFFFABRRRQAUUUUAFFFFABRRRQAUUUUAFFFFABRRRQAUUUUAFFFFABRRRQAUUUUAFFFFABRRRQAUUUUAFFFFABRRRQAUUUUAFFFFABRRRQAUUUUAFFFFABRRRQAUUUUAFFFFABRRRQAUUUUAFFFFABRRRQAUUUUAFFFFABRRRQAUUUUAFFFFAHd/Dj/mJ/9sv/AGeu6rhfhx/zE/8Atl/7PXdV7mD/AIMf66n0mA/3ePz/ADCiiiuk7Dzb4g/8h+D/AK9V/wDQnrk66z4g/wDIfg/69V/9CeuTrwcT/Gl6nzGM/wB4n6/5BRRRWBzBRRRQAUUUUAFFFFABRRRQAUUUUAFFFFABRRRQAUUUUAFFFFABRRRQAUUUUAFFFFABRRRQAUUUUAFFFFABRRRQAUUUUAFFFFABRRRQAUUUUAFFFFABRRRQAUUUUAFFFFABRRRQAUUUUAFFFFABRRRQAUUUUAFFFFABRRRQAUUUUAFFFFABWTWtWTX0vDv/AC8+X6n2HCn/AC9/7d/UsWf+uP8Au1eqjZ/64/7tXq4c8/3x+i/U83iT/f36R/JhRRRXkHghRRRQAUUUUAFFFFABRRRQAUUUUAFFFFABRRRQAUUUUAFFFFABRRRQAUUUUAFFFFABRRRQAUUUUAFFFFABRRRQAVka5/yw/wCBf0rXrI1z/lh/wL+lfS8H/wDI6o/9vf8ApLN8N/FRkUUUV+4nrBW7ov8Ax5v/ANdD/IVhVu6L/wAeb/8AXQ/yFfIccf8AInl/ij+bObF/wjRooor8YPLCiiigAooooAKKKKACiiigAooooAKKKKACiiigAooooAKKKKACiiigAooooAKKKKACiiigAooooAKKKKACiilpH2XCXDuFzn231iUlyctuVrrfe6fYSilooPs/+IeZZ/z8n98f/kRKKWkoPhuLMiw+T16VPDybUk2726O3RIKKKKZ8mFFFFABRRRQAUUUUAFFFFABRRRQAUUUUAFFFFABRRRQAUUUUAFFFFABRRRQAUUUUAFFFFABRRRQAUUUUAd38OP8AmJ/9sv8A2eu6rhfhx/zE/wDtl/7PXdV7mD/gx/rqfSYD/d4/P8wooorpOw82+IP/ACH4P+vVf/Qnrk66z4g/8h+D/r1X/wBCeuTrwcT/ABpep8xjP94n6/5BRRRWBzBRRRQAUUUUAFFFFABRRRQAUUUUAFFFFABRRRQAUUUUAFFFFABRRRQAUUUUAFFFFABRRRQAUUUUAFFFFAGZ/wAJBpf/AD9f+Q2/wo/4SDS/+fr/AMht/hXD0V6/9n0+7Pe/suj3f9fI7j/hINL/AOfr/wAht/hT49c06aVI0uMu7BVGxuSfwrhKs6d/yFLT/rsn/oQpSwFNRbuyZ5ZSUW7v+vkehUUUV5J4YUUUUAFFFFABRRRQAUUUUAFFFFABRRRQAUUUUAFFFFABRRRQAUUUUAFFFFABRRRQAUUUUAFFFFABRRRQAVk1rVk19Lw7/wAvPl+p9hwp/wAvf+3f1LFn/rj/ALtXqo2f+uP+7V6uHPP98fov1PN4k/39+kfyYUUUV5B4IUUUUAFFFFABRRRQAUUUUAFFFFABRRRQAUUUUAFFFFABRRRQAUUUUAFFFFABRRRQAUUUUAFFFFABRRRQAUUUUAFZGuf8sP8AgX9K16yNc/5Yf8C/pX0vB/8AyOqP/b3/AKSzfDfxUZFFFFfuJ6wVu6L/AMeb/wDXQ/yFYVbui/8AHm//AF0P8hXyHHH/ACJ5f4o/mzmxf8I0aKKK/GDywooooAKKKKACiiigAooooAKKKKACiiigAooooAKKKKACiiigAooooAKKKKACiiigAooooAKKKKACiiigApaSlpH6h4bf8xP/AG5/7cFFFFB+ohSUtJQfkniP/vWH/wAMv/Sgooopn5yFFFFABRRRQAUUUUAFFFFABRRRQAUUUUAFFFFABRRRQAUUUUAFFFFABRRRQAUUUUAFFFFABRRRQAUUUUAd38OP+Yn/ANsv/Z67quF+HH/MT/7Zf+z13Ve5g/4Mf66n0mA/3ePz/MKKKK6TsPNviD/yH4P+vVf/AEJ65Ous+IP/ACH4P+vVf/Qnrk68HE/xpep8xjP94n6/5BRRRWBzBRRRQAUUUUAFFFFABRRRQAUUUUAFFFFABRRRQAUUUUAFFFFABRRRQAUUUUAFFFFABRRRQAUUUUAFFFFAHmlFFFfSn2AVZ07/AJClp/12T/0IVWqzp3/IUtP+uyf+hCpn8L9GRU+CXo/yZ6FRRRXzh8kFFFFABRRRQAUUUUAFFFFABRRRQAUUUUAFFFFABRRRQAUUUUAFFFFABRRRQAUUUUAFFFFABRRRQAUUUUAFZNa1ZNfS8O/8vPl+p9hwp/y9/wC3f1LFn/rj/u1eqjZ/64/7tXq4c8/3x+i/U83iT/f36R/JhRRRXkHghRRRQAUUUUAFFFFABRRRQAUUUUAFFFFABRRRQAUUUUAFFFFABRRRQAUUUUAFFFFABRRRQAUUUUAFFFFABRRRQAVka5/yw/4F/StesjXP+WH/AAL+lfS8H/8AI6o/9vf+ks3w38VGRRRRX7iesFbui/8AHm//AF0P8hWFW7ov/Hm//XQ/yFfIccf8ieX+KP5s5sX/AAjRooor8YPLCiiigAooooAKKKKACiiigAooooAKKKKACiiigAooooAKKKKACiiigAooooAKKKKACiiigAooooAKKKKAClpKWkfqHht/zE/9uf8AtwUUUUH6iFJS0lB+SeI/+9Yf/DL/ANKCiiimfnIUUUUAFFFFABRRRQAUUUUAFFFFABRRRQAUUUUAFFFFABRRRQAUUUUAFFFFABRRRQAUUUUAFFFFABRRRQB3fw4/5if/AGy/9nruq4X4cf8AMT/7Zf8As9d1XuYP+DH+up9JgP8Ad4/P8wooorpOw82+IP8AyH4P+vVf/Qnrk66z4g/8h+D/AK9V/wDQnrk68HE/xpep8xjP94n6/wCQUUUVgcwUUUUAFFFFABRRRQAUUUUAFFFFABRRRQAUUUUAFFFFABRRRQAUUUUAFFFFABRRRQAUUUUAFFFFABRRRQB5pRRRX0p9gFWdO/5Clp/12T/0IVWqzp3/ACFLT/rsn/oQqZ/C/RkVPgl6P8mehUUUV84fJBRRRQAUUUUAFFFFABRRRQAUUUUAFFFFABRRRQAUUUUAFFFFABRRRQAUUUUAFFFFABRRRQAUUUUAFFFFABWTWtWTX0vDv/Lz5fqfYcKf8vf+3f1LFn/rj/u1eqjZ/wCuP+7V6uHPP98fov1PN4k/39+kfyYUUUV5B4IUUUUAFFFFABRRRQAUUUUAFFFFABRRRQAUUUUAFFFFABRRRQAUUUUAFFFFABRRRQAUUUUAFFFFABRRRQAUUUUAFZGuf8sP+Bf0rXrI1z/lh/wL+lfS8H/8jqj/ANvf+ks3w38VGRRRRX7iesFbui/8eb/9dD/IVhVu6L/x5v8A9dD/ACFfIccf8ieX+KP5s5sX/CNGiiivxg8sKKKKACiiigAooooAKKKKACiiigAooooAKKKKACiiigAooooAKKKKACiiigAooooAKKKKACiiigAooooAKWkpaR+oeG3/ADE/9uf+3BRRRQfqIUlLSUH5J4j/AO9Yf/DL/wBKCiiimfnIUUUUAFFFFABRRRQAUUUUAFFFFABRRRQAUUUUAFFFFABRRRQAUUUUAFFFFABRRRQAUUUUAFFFFABRRRQB3fw4/wCYn/2y/wDZ67quF+HH/MT/AO2X/s9d1XuYP+DH+up9JgP93j8/zCiiiuk7Dzb4g/8AIfg/69V/9CeuTrrPiD/yH4P+vVf/AEJ65OvBxP8AGl6nzGM/3ifr/kFFFFYHMFFFFABRRRQAUUUUAFFFFABRRRQAUUUUAFFFFABRRRQAUUUUAFFFFABRRRQAUUUUAFFFFABRRRQAUUUUAeaUUUV9KfYBVnTv+Qpaf9dk/wDQhVarOnf8hS0/67J/6EKmfwv0ZFT4Jej/ACZ6FRRRXzh8kFFFFABRRRQAUUUUAFFFFABRRRQAUUUUAFFFFABRRRQAUUUUAFFFFABRRRQAUUUUAFFFFABRRRQAUUUUAFZNa1ZNfS8O/wDLz5fqfYcKf8vf+3f1LFn/AK4/7tXqo2f+uP8Au1erhzz/AHx+i/U83iT/AH9+kfyYUUUV5B4IUUUUAFFFFABRRRQAUUUUAFFFFABRRRQAUUUUAFFFFABRRRQAUUUUAFFFFABRRRQAUUUUAFFFFABRRRQAUUUUAFZGuf8ALD/gX9K16yNc/wCWH/Av6V9Lwf8A8jqj/wBvf+ks3w38VGRRRRX7iesFbui/8eb/APXQ/wAhWFW7ov8Ax5v/ANdD/IV8hxx/yJ5f4o/mzmxf8I0aKKK/GDywooooAKKKKACiiigAooooAKKKKACiiigAooooAKKKKACiiigAooooAKKKKACiiigAooooAKKKKACiiigApaSlpH6h4bf8xP8A25/7cFFFFB+ohSUtJQfkniP/AL1h/wDDL/0oKKKKZ+chRRRQAUUUUAFFFFABRRRQAUUUUAFFFFABRRRQAUUUUAFFFFABRRRQAUUUUAFFFFABRRRQAUUUUAFFFFAHd/Dj/mJ/9sv/AGeu6rhfhx/zE/8Atl/7PXdV7mD/AIMf66n0mA/3ePz/ADCiiiuk7Dzb4g/8h+D/AK9V/wDQnrk66z4g/wDIfg/69V/9CeuTrwcT/Gl6nzGM/wB4n6/5BRRRWBzBRRRQAUUUUAFFFFABRRRQAUUUUAFFFFABRRRQAUUUUAFFFFABRRRQAUUUUAFFFFABRRRQAUUUUAFFFFAHmlFFFfSn2AVZ07/kKWn/AF2T/wBCFVqs6d/yFLT/AK7J/wChCpn8L9GRU+CXo/yZ6FRRRXzh8kFFFFABRRRQAUUUUAFFFFABRRRQAUUUUAFFFFABRRRQAUUUUAFFFFABRRRQAUUUUAFFFFABRRRQAUUUUAFZNa1ZNfS8O/8ALz5fqfYcKf8AL3/t39SxZ/64/wC7V6qNn/rj/u1erhzz/fH6L9TzeJP9/fpH8mFFFFeQeCFFFFABRRRQAUUUUAFFFFABRRRQAUUUUAFFFFABRRRQAUUUUAFFFFABRRRQAUUUUAFFFFABRRRQAUUUUAFFFFABWRrn/LD/AIF/StesjXP+WH/Av6V9Lwf/AMjqj/29/wCks3w38VGRRRRX7iesFbui/wDHm/8A10P8hWFW7ov/AB5v/wBdD/IV8hxx/wAieX+KP5s5sX/CNGiiivxg8sKKKKACiiigAooooAKKKKACiiigAooooAKKKKACiiigAooooAKKKKACiiigAooooAKKKKACiiigAooooAKWkpaR+oeG3/MT/wBuf+3BRRRQfqIUlLSUH5J4j/71h/8ADL/0oKKKKZ+chRRRQAUUUUAFFFFABRRRQAUUUUAFFFFABRRRQAUUUUAFFFFABRRRQAUUUUAFFFFABRRRQAUUUUAFFFFAHd/Dj/mJ/wDbL/2eu6rhfhx/zE/+2X/s9d1XuYP+DH+up9JgP93j8/zCiiiuk7Dzb4g/8h+D/r1X/wBCeuTrrPiD/wAh+D/r1X/0J65OvBxP8aXqfMYz/eJ+v+QUUUVgcwUUUUAFFFFABRRRQAUUUUAFFFFABRRRQAUUUUAFFFFABRRRQAUUUUAFFFFABRRRQAUUUUAFFFFABRRRQB5pRRRX0p9gFWdO/wCQpaf9dk/9CFVqs6d/yFLT/rsn/oQqZ/C/RkVPgl6P8mehUUUV84fJBRRRQAUUUUAFFFFABRRRQAUUUUAFFFFABRRRQAUUUUAFFFFABRRRQAUUUUAFFFFABRRRQAUUUUAFFFFABWTWtWTX0vDv/Lz5fqfYcKf8vf8At39SxZ/64/7tXqo2f+uP+7V6uHPP98fov1PN4k/39+kfyYUUUV5B4IUUUUAFFFFABRRRQAUUUUAFFFFABRRRQAUUUUAFFFFABRRRQAUUUUAFFFFABRRRQAUUUUAFFFFABRRRQAUUUUAFZGuf8sP+Bf0rXrI1z/lh/wAC/pX0vB//ACOqP/b3/pLN8N/FRkUUUV+4nrBW7ov/AB5v/wBdD/IVhVu6L/x5v/10P8hXyHHH/Inl/ij+bObF/wAI0aKKK/GDywooooAKKKKACiiigAooooAKKKKACiiigAooooAKKKKACiiigAooooAKKKKACiiigAooooAKKKKACiiigApaSlpH6h4bf8xP/bn/ALcFFFFB+ohSUtJQfkniP/vWH/wy/wDSgooopn5yFFFFABRRRQAUUUUAFFFFABRRRQAUUUUAFFFFABRRRQAUUUUAFFFFABRRRQAUUUUAFFFFABRRRQAUUUUAd38OP+Yn/wBsv/Z67quF+HH/ADE/+2X/ALPXdV7mD/gx/rqfSYD/AHePz/MKKKK6TsPNviD/AMh+D/r1X/0J65Ous+IP/Ifg/wCvVf8A0J65OvBxP8aXqfMYz/eJ+v8AkFFFFYHMFFFFABRRRQAUUUUAFFFFABRRRQAUUUUAFFFFABRRRQAUUUUAFFFFABRRRQAUUUUAFFFFABRRRQAUUUUAeaUUUV9KfYBVnTv+Qpaf9dk/9CFVqs6d/wAhS0/67J/6EKmfwv0ZFT4Jej/JnoVFFFfOHyQUUUUAFFFFABRRRQAUUUUAFFFFABRRRQAUUUUAFFFFABRRRQAUUUUAFFFFABRRRQAUUUUAFFFFABRRRQAVk1rVk19Lw7/y8+X6n2HCn/L3/t39SxZ/64/7tXqo2f8Arj/u1erhzz/fH6L9TzeJP9/fpH8mFFFFeQeCFFFFABRRRQAUUUUAFFFFABRRRQAUUUUAFFFFABRRRQAUUUUAFFFFABRRRQAUUUUAFFFFABRRSMyopZmCqoySTgAUALRVb7dE3+pWScnoY0JU/Rj8v6/rRuvJfuRxwL2Mnzt9CoIA+u4/4VyProX7N9dCzUU1zBb486aOPd03sBn86j+yM/8ArrqZ++1T5YB9tuDj2JNSQ20Fvu8mGOPd12KBn8qLRXULQW7v/XmR/a2f/U2sz9tzDywD77sHHuAazNWNwTCZliQfNhUJb05yQPyx+NblZGuf8sP+Bf0r6XhBp5zRSX83/pLN8PJe0SSMiiiiv289MK3dF/483/66H+QrCrd0X/jzf/rof5CvkOOP+RPL/FH82c2L/hGjRRRX4weWFFFFABRRRQAUUUUAFFFFABRRRQAUUUUAFFFFABRRRQAUUUUAFFFFABRRRQAUUUUAFFFFABRRRQAUUUUAFLSUtI/UPDb/AJif+3P/AG4KKKKD9RCkpaSg/JPEf/esP/hl/wClBRRRTPzkKKKKACiiigAooooAKKKKACiiigAooooAKKKKACiiigAooooAKKKKACiiigAooooAKKKKACiiigAooooA7v4cf8xP/tl/7PXdVwvw4/5if/bL/wBnruq9zB/wY/11PpMB/u8fn+YUUUV0nYebfEH/AJD8H/Xqv/oT1yddZ8Qf+Q/B/wBeq/8AoT1ydeDif40vU+Yxn+8T9f8AIKKKKwOYKKKKACiiigAooooAKKKKACiiigAooooAKKKKACiiigAooooAKKKKACiiigAooooAKKKKACiiigAooooA80ooor6U+wCrOnf8hS0/67J/6EKrVZ07/kKWn/XZP/QhUz+F+jIqfBL0f5M9Cooor5w+SCiiigAooooAKKKKACiiigAooooAKKKKACiiigAooooAKKKKACiiigAooooAKKKKACiiigAooooAKKKKACsmtasmvpeHf+Xny/U+w4U/5e/9u/qWLP8A1x/3avVRs/8AXH/dq9XDnn++P0X6nm8Sf7+/SP5MKKKK8g8EKKKKACiiigAooooAKKKKACiiigAoopGZUUszBVUZJJwAKAFrL1XWV00QlYhMJCwyHxgrgHsfX9Kt+Wbv5pgyw/wxnILe7e3+yfx54GXcaWtxEkMtpchYZJCnktGF2sxI6n0xW9GNPm98+sXCePpYeniatNy538KTckrXTdtr9t+/Yrf8Jb/04/8AkX/7Gj/hLf8Apx/8i/8A2NL/AMI/b/8APrqP/fyH/Gj/AIR+3/59dR/7+Q/4112wnb+vvD+wqv8A0C1P/AZf5nSBlYsAwJU4IB6Hr/UUtZv2WSRLy5WBorpm3QksA3CKACQcEZHQnHrVqO6LziF7eWJmUsC5UggEA9CfUVwOHY4sx4cxuBoU8ROLcZRu9H7utrS7PsWKKKKg8AKKimuYLfHnTRx7um9gM/nUf2svxBbzOfVkMYH13YOPoDTUW9SlCTV7Fmiq229k6vDCOhCgufqCcAH8D+PSj7DE3+uaScnqJHJU/VR8v6frT5Ut2PlS3YrX1srFBKHdTgpEC7D6hckUnn3EnMNrhfWZ9mR7AAn8wKsKqooVVCqowABgAUtF4rZBeK2X3lbyLiTia6wvpCmzI9yST+RFKtjbKwcxB3U5Dykuw+hbJFWKKOeQe0l00/AKKKKkgKKKKACsjXP+WH/Av6Vr1ka5/wAsP+Bf0r6Xg/8A5HVH/t7/ANJZvhv4qMiiiiv3E9YK3dF/483/AOuh/kKwq3dF/wCPN/8Arof5CvkOOP8AkTy/xR/NnNi/4Ro0UUV+MHlhRRRQAUUUUAFFFFABRRRQAUUUUAFFFFABRRRQAUUUUAFFFFABRRRQAUUUUAFFFFABRRRQAUUUUAFFFFABS0lLSP1Dw2/5if8Atz/24KKKKD9RCkpaSg/JPEf/AHrD/wCGX/pQUUUUz85CiiigAooooAKKKKACiiigAooooAKKKKACiiigAooooAKKKKACiiigAooooAKKKKACiiigAooooAKKKKAO7+HH/MT/AO2X/s9d1XC/Dj/mJ/8AbL/2eu6r3MH/AAY/11PpMB/u8fn+YUUUV0nYebfEH/kPwf8AXqv/AKE9cnXWfEH/AJD8H/Xqv/oT1ydeDif40vU+Yxn+8T9f8gooorA5gooooAKKKKACiiigAooooAKKKKACiiigAooooAKKKKACiiigAooooAKKKKACiiigAooooAKKKKACiiigDzSiiivpT7AKs6d/yFLT/rsn/oQqtVnTv+Qpaf8AXZP/AEIVM/hfoyKnwS9H+TPQqKKK+cPkgooooAKKKKACiiigAooooAKKKKACiiigAooooAKKKKACiiigAooooAKKKKACiiigAooooAKKKKACiiigArJrWrJr6Xh3/l58v1PsOFP+Xv8A27+pYs/9cf8Adq9VGz/1x/3avVw55/vj9F+p5vEn+/v0j+TCiiivIPBCiiigAooooAKKKKACiiigAooooAKraj/yC7v/AK4v/wCgmrNVtR/5Bd3/ANcX/wDQTVQ+JeqLp/HH1X5otUUUVB/TxHFNHOpaJwwBwfUH0I7H2NSVz+vmO3nintpXj1ByAFiGTIuf4h+H49Oe0trc6m6r9vEtuu0bWgi3Mx/2htbH6fQ9uj2F4Kaej77/APBPIWaqNeWGqQblHrHWOvd/Zfk7+W6Ler3EtvBE0Upi3SYZgAeNrHuPaq8F+JpbGRd1xKbZt4jA+8dhIzwAevGfT1FQ6gti8cDW8kcziYAv5nmMBtYgZJJAyM4q3Y/8wz/ryP8A7Tq+WMaa0118j5HiTE1alPGxcrwVOm7J3Ws+ltL9yzvvJPuQxwqejSNuYfVRx/49/hR9kZ/9ddTP32qfLAPttwcexJqzRXPzvpofk3O1toRQ28MG7yo1Ut95gOW9yepP1qWiipbb1ZLbbuwooooEFFFFABRRRQAUUUUAFFFFABWRrn/LD/gX9K16yNc/5Yf8C/pX0vB//I6o/wDb3/pLN8N/FRkUUUV+4nrBW7ov/Hm//XQ/yFYVbui/8eb/APXQ/wAhXyHHH/Inl/ij+bObF/wjRooor8YPLCiiigAooooAKKKKACiiigAooooAKKKKACiiigAooooAKKKKACiiigAooooAKKKKACiiigAooooAKKKKAClpKWkfqHht/wAxP/bn/twUUUUH6iFJS0lB+SeI/wDvWH/wy/8ASgooopn5yFFFFABRRRQAUUUUAFFFFABRRRQAUUUUAFFFFABRRRQAUUUUAFFFFABRRRQAUUUUAFFFFABRRRQAUUUUAd38OP8AmJ/9sv8A2eu6rhfhx/zE/wDtl/7PXdV7mD/gx/rqfSYD/d4/P8wooorpOw82+IP/ACH4P+vVf/Qnrk66z4g/8h+D/r1X/wBCeuTrwcT/ABpep8xjP94n6/5BRRRWBzBRRRQAUUUUAFFFFABRRRQAUUUUAFFFFABRRRQAUUUUAFFFFABRRRQAUUUUAFFFFABRRRQAUUUUAFFFFAHmlFFFfSn2AVZ07/kKWn/XZP8A0IVWqzp3/IUtP+uyf+hCpn8L9GRU+CXo/wAmehUUUV84fJBRRRQAUUUUAFFFFABRRRQAUUUUAFFFFACgE5wCcc0lel+ABoZ0aUXggM+4lvMxnGP8/wCc1wmufZf7auvsRBg3nbjGPwxXHRxftK86PK1y9e51VcN7OjGrzJ83Qz6KKK7DlCiiigAooooAKKKKACiiigAooooAKKKKACiiigArJrWrJr6Xh3/l58v1PsOFP+Xv/bv6liz/ANcf92r1UbP/AFx/3avVw55/vj9F+p5vEn+/v0j+TCiiivIPBCiiigAooooAKKKKACiiigAooooAKraj/wAgu7/64v8A+gmrNIyq6lWUMrDBBGQRTi7NMqL5ZJjqKqLK9ogS4y0SjCzcsf8Agfp9enBJxwKpSaqY41lkvLeOOR3Ef7hnyFYjOQ30/OqjSlLY/fHxXlaw0MTz3UnayV2na9mlqvyfQ0YLOGCRpVXdM/35W5Zunf04HA49qnrC/t2H/oJW/wD4CSf/ABVH9uw/9BK3/wDAST/4qtHh6r1a/P8AyOaHF2UU1yw5kv8ABIt6xaPdRQGODzXSTPBAIG09CSO+PyqGCzlglsY1mkjkFs25SQ4DDZkc9vYEdOMVOL6VRcwM0cl3G22NEQ/NlQQSMnAycZzip44J/tSzTTRvtRkASMr1IPdj/dpqUox5Xtr+J8/xNmWVTwtStSm3UrwjZW6KXVdG1f4t1YN15F9+OOde5j+RvoFJIP13D/E+3RL/AK5ZICOpkQhR9WHy/r+tWaKx5k90flvMnuhsckcyB43V0PRlOQadUElnBI5kMe2Q9XjJRj7EjBIpv2eeP/VXbHsFmQOAPwwc+5JotF7MLRez+8s0VW866j4ktfN9Ghcc+5DEY+gJo/tC1H+sl8r085THn6bgM/hRyS6ah7OXTX0LNFFFSQFFFFABRRRQAUUUUAFZGuf8sP8AgX9K16yNc/5Yf8C/pX0vB/8AyOqP/b3/AKSzfDfxUZFFFFfuJ6wVu6L/AMeb/wDXQ/yFYVbui/8AHm//AF0P8hXyHHH/ACJ5f4o/mzmxf8I0aKKK/GDywooooAKKKKACiiigAooooAKKKKACiiigAooooAKKKKACiiigAooooAKKKKACiiigAooooAKKKKACiiigApaSlpH6h4bf8xP/AG5/7cFFFFB+ohSUtJQfkniP/vWH/wAMv/Sgooopn5yFFFFABRRRQAUUUUAFFFFABRRRQAUUUUAFFFFABRRRQAUUUUAFFFFABRRRQAUUUUAFFFFABRRRQAUUUUAd38OP+Yn/ANsv/Z67quF+HH/MT/7Zf+z13Ve5g/4Mf66n0mA/3ePz/MKKKK6TsPNviD/yH4P+vVf/AEJ65Ous+IP/ACH4P+vVf/Qnrk68HE/xpep8xjP94n6/5BRRRWBzBRRRQAUUUUAFFFFABRRRQAUUUUAFFFFABRRRQAUUUUAFFFFABRRRQAUUUUAFFFFABRRRQAUUUUAFFFFAHmlFFFfSn2AVZ07/AJClp/12T/0IVWqzp3/IUtP+uyf+hCpn8L9GRU+CXo/yZ6FRRRXzh8kFFFFABRRRQAUUUUAFFFFABRRRQAUUUUAKCRnBIzxSUUUAFFFFABRRRQAUUUUAFFFFABRRRQAUUUUAFFFFABRRRQAVk1rVk19Lw7/y8+X6n2HCn/L3/t39SxZ/64/7tXqo2f8Arj/u1erhzz/fH6L9TzeJP9/fpH8mFFFFeQeCFFFFABRRRQAUUUUAFFFFABRRRQAUUUUAFZeq6MupCELKIRGWOAmclsE9x6frWpRVQnKD5o7l06kqcuaL1OZ/4RL/AKfv/IX/ANlR/wAIl/0/f+Qv/sq6ait/rlb+b8jp+v4j+b8EIFVSxCgFjkkDqen9BS0UVzHGFFFFABRRRQAUUUUAVvsEC/6oNB6eSxQZ9do4J+oNHlXcf3LlZB1xMnJ9srgAfgfx6VZoqud9dS/aS66+pW+0yx/661kAHV4yHX8MfMf++f05p0d5byuI1mUSH/lm3yv/AN8nmp6bJHHMhSRFdD1VhkGi8XugvF7r+vmOoqt9iVP9TLND/uvkAegVsgD6Cjbex9HhmHQBgUP1JGQT+A/DpRyp7MOVPZ/oWaKrfbNv+ttriP0+Tfn/AL4zj8akhuYLjd5M0cm3rsYHH5UnFrWwnCSV7EtZGuf8sP8AgX9K16yNc/5Yf8C/pX0nB/8AyOqP/b3/AKSzXDfxUZFFFFfuJ6wVu6L/AMeb/wDXQ/yFYVbui/8AHm//AF0P8hXyHHH/ACJ5f4o/mzmxf8I0aKKK/GDywooooAKKKKACiiigAooooAKKKKACiiigAooooAKKKKACiiigAooooAKKKKACiiigAooooAKKKKACiiigApaSlpH6h4bf8xP/AG5/7cFFFFB+ohSUtJQfkniP/vWH/wAMv/Sgooopn5yFFFFABRRRQAUUUUAFFFFABRRRQAUUUUAFFFFABRRRQAUUUUAFFFFABRRRQAUUUUAFFFFABRRRQAUUUUAd38OP+Yn/ANsv/Z67quF+HH/MT/7Zf+z13Ve5g/4Mf66n0mA/3ePz/MKKKK6TsPNviD/yH4P+vVf/AEJ65Ous+IP/ACH4P+vVf/Qnrk68HE/xpep8xjP94n6/5BRRRWBzBRRRQAUUUUAFFFFABRRRQAUUUUAFFFFABRRRQAUUUUAFFFFABRRRQAUUUUAFFFFABRRRQAUUUUAFFFFAHmlFFFfSn2AVZ07/AJClp/12T/0IVWqzp3/IUtP+uyf+hCpn8L9GRU+CXo/yZ6FRRRXzh8kFFFFABRRRQAUUUUAFFFFABRRRQAUUUUAFFFFABRRRQAUUUUAFFFFABRRRQAUUUUAFFFFABRRRQAUUUUAFZNa1ZNfS8O/8vPl+p9hwp/y9/wC3f1LFn/rj/u1eqjZ/64/7tXq4c8/3x+i/U83iT/f36R/JhRRRXkHghRRRQAUUUUAFFFFABRRRQAUUUUAFFFFABRRRQAUUUUAFFFFABRRRQAUUUUAFFFFABRRRQAUUUUAFFFFABUU1vDPjzY1Yr91iOV9weoP0qWihNrVDTad0VvsjJ/qbqZO+1j5gJ992Tj2BFZmrC4BhEzROPmwyAr6cYJP55/CtysjXP+WH/Av6V9PwhJvOaN/73/pLOnDzbqK5kUUUV+3nphW7ov8Ax5v/ANdD/IVhVu6L/wAeb/8AXQ/yFfIccf8AInl/ij+bObF/wjRooor8YPLCiiigAooooAKKKKACiiigAooooAKKKKACiiigAooooAKKKKACiiigAooooAKKKKACiiigAooooAKKKKAClpKWkfqHht/zE/8Abn/twUUUUH6iFJS0lB+SeI/+9Yf/AAy/9KCiiimfnIUUUUAFFFFABRRRQAUUUUAFFFFABRRRQAUUUUAFFFFABRRRQAUUUUAFFFFABRRRQAUUUUAFFFFABRRRQB3fw4/5if8A2y/9nruq4X4cf8xP/tl/7PXdV7mD/gx/rqfSYD/d4/P8wooorpOw82+IP/Ifg/69V/8AQnrk66z4g/8AIfg/69V/9CeuTrwcT/Gl6nzGM/3ifr/kFFFFYHMFFFFABRRRQAUUUUAFFFFABRRRQAUUUUAFFFFABRRRQAUUUUAFFFFABRRRQAUUUUAFFFFABRRRQAUUUUAeaUUUV9KfYBVnTv8AkKWn/XZP/QhVarOnf8hS0/67J/6EKmfwv0ZFT4Jej/JnoVFFFfOHyQUUUUAFFFFABRRRQAUUUUAFFFFABRRRQAUUUUAFFFFABRRRQAUUUUAFFFFABRRRQAUUUUAFFFFABRRRQAVk1rVk19Lw7/y8+X6n2HCn/L3/ALd/UsWf+uP+7V6qNn/rj/u1erhzz/fH6L9TzeJP9/fpH8mFFFFeQeCFFFFABRRRQAUUUUAFFFFABRRRQAUUUUAFFFFABRRRQAUUUUAFFFFABRRRQAUUUUAFFFFABRRRQAUUUUAFFFFABWRrn/LD/gX9K16yNc/5Yf8AAv6V9Lwf/wAjqj/29/6SzfDfxUZFFFFfuJ6wVu6L/wAeb/8AXQ/yFYVbui/8eb/9dD/IV8hxx/yJ5f4o/mzmxf8ACNGiiivxg8sKKKKACiiigAooooAKKKKACiiigAooooAKKKKACiiigAooooAKKKKACiiigAooooAKKKKACiiigAooooAKWkpaR+oeG3/MT/25/wC3BRRRQfqIUlLSUH5J4j/71h/8Mv8A0oKKKKZ+chRRRQAUUUUAFFFFABRRRQAUUUUAFFFFABRRRQAUUUUAFFFFABRRRQAUUUUAFFFFABRRRQAUUUUAFFFFAHd/Dj/mJ/8AbL/2eu6rhfhx/wAxP/tl/wCz13Ve5g/4Mf66n0mA/wB3j8/zCiiiuk7Dzb4g/wDIfg/69V/9CeuTrrPiD/yH4P8Ar1X/ANCeuTrwcT/Gl6nzGM/3ifr/AJBRRRWBzBRRRQAUUUUAFFFFABRRRQAUUUUAFFFFABRRRQAUUUUAFFFFABRRRQAUUUUAFFFFABRRRQAUUUUAFFFFAHmlFFFfSn2AVZ07/kKWn/XZP/QhVarOnf8AIUtP+uyf+hCpn8L9GRU+CXo/yZ6FRRRXzh8kFFFFABRRRQAUUUUAFFFFABRRRQAUUUUAFFFFABRRRQAUUUUAFFFFABRRRQAUUUUAFFFFABRRRQAUUUUAFZNa1ZNfS8O/8vPl+p9hwp/y9/7d/UsWf+uP+7V6qNn/AK4/7tXq4c8/3x+i/U83iT/f36R/JhRRRXkHghRRRQAUUUUAFFFFABRRRQAUUUUAFFFFABRRRQAUUUUAFFFFABRRRQAUUUUAFFFFABRRRQAUUUUAFFFFABRRRQAVka5/yw/4F/StesjXP+WH/Av6V9Lwf/yOqP8A29/6SzfDfxUZFFFFfuJ6wVu6L/x5v/10P8hWFW7ov/Hm/wD10P8AIV8hxx/yJ5f4o/mzmxf8I0aKKK/GDywooooAKKKKACiiigAooooAKKKKACiiigAooooAKKKKACiiigAooooAKKKKACiiigAooooAKKKKACiiigApaSlpH6h4bf8AMT/25/7cFFFFB+ohSUtJQfkniP8A71h/8Mv/AEoKKKKZ+chRRRQAUUUUAFFFFABRRRQAUUUUAFFFFABRRRQAUUUUAFFFFABRRRQAUUUUAFFFFABRRRQAUUUUAFFFFAHd/Dj/AJif/bL/ANnruq4X4cf8xP8A7Zf+z13Ve5g/4Mf66n0mA/3ePz/MKKKK6TsPNviD/wAh+D/r1X/0J65Ous+IP/Ifg/69V/8AQnrk68HE/wAaXqfMYz/eJ+v+QUUUVgcwUUUUAFFFFABRRRQAUUUUAFFFFABRRRQAUUUUAFFFFABRRRQAUUUUAFFFFABRRRQAUUUUAFFFFABRRRQB5pRRRX0p9gFWdO/5Clp/12T/ANCFVqs6d/yFLT/rsn/oQqZ/C/RkVPgl6P8AJnoVFFFfOHyQUUUUAFFFFABRRRQAUUUUAFFFFABRRRQAUUUUAFFFFABRRRQAUUUUAFFFFABRRRQAUUUUAFFFFABRRRQAVk1rVk19Lw7/AMvPl+p9hwp/y9/7d/UsWf8Arj/u1eqjZ/64/wC7V6uHPP8AfH6L9TzeJP8Af36R/JhRRRXkHghRRRQAUUUUAFFFFABRRRQAUUUUAFFFFABRRRQAUUUUAFFFFABRRRQAUUUUAFFFFABRRRQAUUUUAFFFFABRRRQAVka5/wAsP+Bf0rXrI1z/AJYf8C/pX0vB/wDyOqP/AG9/6SzfDfxUZFFFFfuJ6wVu6L/x5v8A9dD/ACFYVbui/wDHm/8A10P8hXyHHH/Inl/ij+bObF/wjRooor8YPLCiiigAooooAKKKKACiiigAooooAKKKKACiiigAooooAKKKKACiiigAooooAKKKKACiiigAooooAKKKKAClpKWkfqHht/zE/wDbn/twUUUUH6iFJS0lB+SeI/8AvWH/AMMv/Sgooopn5yFFFFABRRRQAUUUUAFFFFABRRRQAUUUUAFFFFABRRRQAUUUUAFFFFABRRRQAUUUUAFFFFABRRRQAUUUUAd38OP+Yn/2y/8AZ67quF+HH/MT/wC2X/s9d1XuYP8Agx/rqfSYD/d4/P8AMKKKK6TsPNviD/yH4P8Ar1X/ANCeuTrrPiD/AMh+D/r1X/0J65OvBxP8aXqfMYz/AHifr/kFFFFYHMFFFFABRRRQAUUUUAFFFFABRRRQAUUUUAFFFFABRRRQAUUUUAFFFFABRRRQAUUUUAFFFFABRRRQAUUUUAeaUUUV9KfYBVnTv+Qpaf8AXZP/AEIVWqzp3/IUtP8Arsn/AKEKmfwv0ZFT4Jej/JnoVFFFfOHyQUUUUAFFFFABRRRQAUUUUAFFFFABRRRQAUUUUAFFFFABRRRQAUUUUAFFFFABRRRQAUUUUAFFFFABRRRQAVk1rVk19Lw7/wAvPl+p9hwp/wAvf+3f1LFn/rj/ALtXqo2f+uP+7V6uHPP98fov1PN4k/39+kfyYUUUV5B4IUUUUAFFFFABRRRQAUUUUAFFFFABRRRQAUUUUAFFFFABRRRQAUUUUAFFFFABRRRQAUUUUAFFFFABRRRQAUUUUAFZGuf8sP8AgX9K16yNc/5Yf8C/pX0vB/8AyOqP/b3/AKSzfDfxUZFFFFfuJ6wVu6L/AMeb/wDXQ/yFYVbui/8AHm//AF0P8hXyHHH/ACJ5f4o/mzmxf8I0aKKK/GDywooooAKKKKACiiigAooooAKKKKACiiigAooooAKKKKACiiigAooooAKKKKACiiigAooooAKKKKACiiigApaSlpH6h4bf8xP/AG5/7cFFFFB+ohSUtJQfkniP/vWH/wAMv/Sgooopn5yFFFFABRRRQAUUUUAFFFFABRRRQAUUUUAFFFFABRRRQAUUUUAFFFFABRRRQAUUUUAFFFFABRRRQAUUUUAd38OP+Yn/ANsv/Z67quF+HH/MT/7Zf+z13Ve5g/4Mf66n0mA/3ePz/MKKKK6TsPNviD/yH4P+vVf/AEJ65Ous+IP/ACH4P+vVf/Qnrk68HE/xpep8xjP94n6/5BRRRWBzBRRRQAUUUUAFFFFABRRRQAUUUUAFFFFABRRRQAUUUUAFFFFABRRRQAUUUUAFFFFABRRRQAUUUUAFFFFAHmlFFFfSn2AVZ07/AJClp/12T/0IVWqzp3/IUtP+uyf+hCpn8L9GRU+CXo/yZ6FRRRXzh8kFFFFABRRRQAUUUUAFFFFABRRRQAUUUUAFFFFABRRRQAUUUUAFFFFABRRRQAUUUUAFFFFABRRRQAUUUUAFZNa1ZNfS8O/8vPl+p9hwp/y9/wC3f1LFn/rj/u1eqjZ/64/7tXq4c8/3x+i/U83iT/f36R/JhRRRXkHghRRRQAUUUUAFFFFABRRRQAUUUUAFFFFABRRRQAUUUUAFFFFABRRRQAUUUUAFFFFABRRRQAUUUUAFFFFABRRRQAVka5/yw/4F/StesjXP+WH/AAL+lfS8H/8AI6o/9vf+ks3w38VGRRRRX7iesFbui/8AHm//AF0P8hWFW7ov/Hm//XQ/yFfIccf8ieX+KP5s5sX/AAjRooor8YPLCiiigAooooAKKKKACiiigAooooAKKKKACiiigAooooAKKKKACiiigAooooAKKKKACiiigAooooAKKKKAClpKWkfqHht/zE/9uf8AtwUUUUH6iFJS0lB+SeI/+9Yf/DL/ANKCiiimfnIUUUUAFFFFABRRRQAUUUUAFFFFABRRRQAUUUUAFFFFABRRRQAUUUUAFFFFABRRRQAUUUUAFFFFABRRRQB3fw4/5if/AGy/9nruq4X4cf8AMT/7Zf8As9d1XuYP+DH+up9JgP8Ad4/P8wooorpOw82+IP8AyH4P+vVf/Qnrk66z4g/8h+D/AK9V/wDQnrk68HE/xpep8xjP94n6/wCQUUUVgcwUUUUAFFFFABRRRQAUUUUAFFFFABRRRQAUUUUAFFFFABRRRQAUUUUAFFFFABRRRQAUUUUAFFFFABRRRQB5pRRRX0p9gFWdO/5Clp/12T/0IVWqzp3/ACFLT/rsn/oQqZ/C/RkVPgl6P8mehUUUV84fJBRRRQAUUUUAFFFFABRRRQAUUUUAFFFFABRRRQAUUUUAFFFFABRRRQAUUUUAFFFFABRRRQAUUUUAFFFFABWTWtWTX0vDv/Lz5fqfYcKf8vf+3f1LFn/rj/u1eqjZ/wCuP+7V6uHPP98fov1PN4k/39+kfyYUUUV5B4IUUUUAFFFFABRRRQAUUUUAFFFFABRRRQAUUUUAFFFFABRRRQAUUUUAFFFFABRRRQAUUUUAFFFFABRRRQAUUUUAFZGuf8sP+Bf0rXrI1z/lh/wL+lfS8H/8jqj/ANvf+ks3w38VGRRRRX7iesFbui/8eb/9dD/IVhVu6L/x5v8A9dD/ACFfIccf8ieX+KP5s5sX/CNGiiivxg8sKKKKACiiigAooooAKKKKACiiigAooooAKKKKACiiigAooooAKKKKACiiigAooooAKKKKACiiigAooooAKWkpaR+oeG3/ADE/9uf+3BRRRQfqIUlLSUH5J4j/AO9Yf/DL/wBKCiiimfnIUUUUAFFFFABRRRQAUUUUAFFFFABRRRQAUUUUAFFFFABRRRQAUUUUAFFFFABRRRQAUUUUAFFFFABRRRQB3fw4/wCYn/2y/wDZ67quF+HH/MT/AO2X/s9d1XuYP+DH+up9JgP93j8/zCiiiuk7Dzb4g/8AIfg/69V/9CeuTrrPiD/yH4P+vVf/AEJ65OvBxP8AGl6nzGM/3ifr/kFFFFYHMFFFFABRRRQAUUUUAFFFFABRRRQAUUUUAFFFFABRRRQAUUUUAFFFFABRRRQAUUUUAFFFFABRRRQAUUUUAeaUUUV9KfYBVnTv+Qpaf9dk/wDQhVarOnf8hS0/67J/6EKmfwv0ZFT4Jej/ACZ6FRRRXzh8kFFFFABRRRQAUUUUAFFFFABRRRQAUUUUAFFFFABRRRQAUUUUAFFFFABRRRQAUUUUAFFFFABRRRQAUUUUAFZNa1ZNfS8O/wDLz5fqfYcKf8vf+3f1LFn/AK4/7tXqo2f+uP8Au1erhzz/AHx+i/U83iT/AH9+kfyYUUUV5B4IUUUUAFFFFABRRRQAUUUUAFFFFABRRRQAUUUUAFFFFABRRRQAUUUUAFFFFABRRRQAUUUUAFFFFABRRRQAUUUUAFVrqyjvNnmM425xtI71ZorfDYmthaqrUJOMls1v28xxk4u6M7+xbb+/L+Y/wo/sW2/vy/mP8K0aK9X/AFmzj/oIl+H/AMiae3q/zGd/Ytt/fl/Mf4VbtbVLSIxxliCc/NU1Fc2LzrMMZT9liK0pR3s7dNuiFKrOStJhRRRXmGYUUUUAFFFFABRRRQAUUUUAFFFFABRRRQAUUUUAFFFFABRRRQAUUUUAFFFFABRRRQAUUUUAFFFFABRRRQAUtJS0j9Q8Nv8AmJ/7c/8AbgooooP1EKSlpKD8k8R/96w/+GX/AKUFFFFM/OQooooAKKKKACiiigAooooAKKKKACiiigAooooAKKKKACiiigAooooAKKKKACiiigAooooAKKKKACiiigDW0TxDd6D5/wBljgfztu7zVJxjOMYI9a1v+Fg6t/z72X/fD/8AxVcnRWsa9SKtGWhvDE1oR5YyaR1n/CwdW/597L/vh/8A4qj/AIWDq3/PvZf98P8A/FVydFV9ZrfzMr65iP53/XyNDWNYuNbu0ublIkdYxGBGCBgEnuT61n0UVjKTk7vcwlJyblJ6hRRRSJCiiigAooooAKKKKACiiigAooooAKKKKACiiigAooooAKKKKACiiigAooooAKKKKACiiigAooooAKKKKAPNKKKK+lPsAqzp3/IUtP8Arsn/AKEKrVZ07/kKWn/XZP8A0IVM/hfoyKnwS9H+TPQqKKK+cPkgooooAKKKKACiiigAooooAKKKKACiiigAooooAKKKKACiiigAooooAKKKKACiiigAooooAKKKKACiiigArJrWrJr6Xh3/AJefL9T7DhT/AJe/9u/qWLP/AFx/3avVRs/9cf8Adq9XDnn++P0X6nm8Sf7+/SP5MKKKK8g8EKKKKACiiigAooooAKKKKACiiigAooooAKKKKACiiigAooooAKKKKACiiigAooooAKKKKACiiigAooooAKKKKACiiigAooooAKKKKACiiigAooooAKKKKACiiigAooooAKKKKACiiigAooooAKKKKACiiigAooooAKKKKACiiigAooooAKKKKACiiigApaSlpH6h4bf8xP8A25/7cFFFFB+ohSUtJQfkniP/AL1h/wDDL/0oKKKKZ+chRRRQAUUUUAFFFFABRRRQAUUUUAFFFFABRRRQAUUUUAFFFFABRRRQAUUUUAFFFFABRRRQAUUUUAFFFFABRRRQAUUUUAFFFFABRRRQAUUUUAFFFFABRRRQAUUUUAFFFFABRRRQAUUUUAFFFFABRRRQAUUUUAFFFFABRRRQAUUUUAFFFFABRRRQB5pRRRX0p9gFWdO/5Clp/wBdk/8AQhVarOnf8hS0/wCuyf8AoQqZ/C/RkVPgl6P8mehUUUV84fJBRRRQAUUUUAFFFFABRRRQAUUUUAFFFFABRRRQAUUUUAFFFFABRRRQAUUUUAFFFFABRRRQAUUUUAFFFFABWTWtWTX0vDv/AC8+X6n2HCn/AC9/7d/UsWf+uP8Au1eqjZ/64/7tXq4c8/3x+i/U83iT/f36R/JhRRRXkHghRRRQAUUUUAFFFFABRRRQAUUUUAFFFFABRRRQAUUUUAFFFFABRRRQAUUUUAFFFFABRRRQAUUUUAFFFFABRRRQAUUUUAFFFFABRRRQAUUUUAFFFFABRRRQAUUUUAFFFFABRRRQAUUUUAFFFFABRRRQAUUUUAFFFFABRRRQAUUUUAFFFFABRRRQAUUUUAFLSUtI/UPDb/mJ/wC3P/bgooooP1EKSlpKD8k8R/8AesP/AIZf+lBRRRTPzkKKKKACiiigAooooAKKKKACiiigAooooAKKKKACiiigAooooAKKKKACiiigAooooAKKKKACiiigAooooAKKKKACiiigAooooAKKKKACiiigAooooAKKKKACiiigAooooAKKKKACiiigAooooAKKKKACiiigAooooAKKKKACiiigAooooAKKKKAPNKKKK+lPsAqzp3/IUtP+uyf+hCq1WdO/5Clp/wBdk/8AQhUz+F+jIqfBL0f5M9Cooor5w+SCiiigAooooAKKKKACiiigAooooAKKKKACiiigAooooAKKKKACiiigAooooAKKKKACiiigAooooAKKKKACsmtasmvpeHf+Xny/U+w4U/5e/wDbv6liz/1x/wB2r1UbP/XH/dq9XDnn++P0X6nm8Sf7+/SP5MKKKK8g8EKKKKACiiigAooooAKKKKACiiigAooooAKKKKACiiigAooooAKKKKACiiigAooooAKKKKACiiigAooooAKKKKACiiigAooooAKKKKACiiigAooooAKKKKACiiigAooooAKKKKACiiigAooooAKKKKACiiigAooooAKKKKACiiigAooooAKKKKACiiigApaSlpH6h4bf8xP/AG5/7cFFFFB+ohSUtJQfkniP/vWH/wAMv/Sgooopn5yFFFFABRRRQAUUUUAFFFFABRRRQAUUUUAFFFFABRRRQAUUUUAFFFFABRRRQAUUUUAFFFFABRRRQAUUUUAFFFFABRRRQAUUUUAFFFFABRRRQAUUUUAFFFFABRRRQAUUUUAFFFFABRRRQAUUUUAFFFFABRRRQAUUUUAFFFFABRRRQAUUUUAFFFFAHmlFFFfSn2AVZ07/AJClp/12T/0IVWqzp3/IUtP+uyf+hCpn8L9GRU+CXo/yZ6FRRRXzh8kFFFFABRRRQAUUUUAFFFFABRRRQAUUUUAFFFFABRRRQAUUUUAFFFFABRRRQAUUUUAFFFFABRRRQAUUUUAFZNa1ZNfS8O/8vPl+p9hwp/y9/wC3f1LFn/rj/u1eqjZ/64/7tXq4c8/3x+i/U83iT/f36R/JhRRRXkHghRRRQAUUUUAFFFFABRRRQAUUUUAFFFFABRRRQAUUUUAFFFFABRRRQAUUUUAFFFFABRRRQAUUUUAFFFFABRRRQAUUUUAFFFFABRRRQAUUUUAFFFFABRRRQAUUUUAFFFFABRRRQAUUUUAFFFFABRRRQAUUUUAFFFFABRRRQAUUUUAFFFFABRRRQAUUUUAFLSUtI/UPDb/mJ/7c/wDbgooooP1EKSlpKD8k8R/96w/+GX/pQUUUUz85CiiigAooooAKKKKACiiigAooooAKKKKACiiigAooooAKKKKACiiigAooooAKKKKACiiigAooooAKKKKACiiigAooooAKKKKACiiigAooooAKKKKACiiigAooooAKKKKACiiigAooooAKKKKACiiigAooooAKKKKACiiigAooooAKKKKACiiigDzSiiivpT7AKs6d/wAhS0/67J/6EKrVZ07/AJClp/12T/0IVM/hfoyKnwS9H+TPQqKKK+cPkgooooAKKKKACiiigAooooAKKKKACiiigAooooAKKKKACiiigAooooAKKKKACiiigAooooAKKKKACiiigArJrWrJr6Xh3/l58v1PsOFP+Xv/AG7+pYs/9cf92r1UbP8A1x/3avVw55/vj9F+p5vEn+/v0j+TCiiivIPBCiiigAooooAKKKKACiiigAooooAKKKKACiiigAooooAKKKKACiiigAooooAKKKKACiiigAooooAKKKKACiiigAooooAKKKKACiiigAooooAKKKKACiiigAooooAKKKKACiiigAooooAKKKKACiiigAooooAKKKKACiiigAooooAKKKKACiiigAooooAKWkpaR+oeG3/MT/25/wC3BRRRQfqIUlLSUH5J4j/71h/8Mv8A0oKKKKZ+chRRRQAUUUUAFFFFABRRRQAUUUUAFFFFABRRRQAUUUUAFFFFABRRRQAUUUUAFFFFABRRRQAUUUUAFFFFABRRRQAUUUUAFFFFABRRRQAUUUUAFFFFABRRRQAUUUUAFFFFABRRRQAUUUUAFFFFABRRRQAUUUUAFFFFABRRRQAUUUUAFFFFABRRRQB5pRRRX0p9gFWdO/5Clp/12T/0IVWqzp3/ACFLT/rsn/oQqZ/C/RkVPgl6P8mehUUUV84fJBRRRQAUUUUAFFFFABRRRQAUUUUAFFFFABRRRQAUUUUAFFFFABRRRQAUUUUAFFFFABRRRQAUUUUAFFFFABWTWtWTX0vDv/Lz5fqfYcKf8vf+3f1LFn/rj/u1eqjZ/wCuP+7V6uHPP98fov1PN4k/39+kfyYUUUV5B4IUUUUAFFFFABRRRQAUUUUAFFFFABRRRQAUUUUAFFFFABRRRQAUUUUAFFFFABRRRQAUUUUAFFFFABRRRQAUUUUAFFFFABRRRQAUUUUAFFFFABRRRQAUUUUAFFFFABRRRQAUUUUAFFFFABRRRQAUUUUAFFFFABRRRQAUUUUAFFFFABRRRQAUUUUAFFFFABS0lLSP1Dw2/wCYn/tz/wBuCiiig/UQpKWkoPyTxH/3rD/4Zf8ApQUUUUz85CiiigAooooAKKKKACiiigAooooAKKKKACiiigAooooAKKKKACiiigAooooAKKKKACiiigAooooAKKKKACiiigAooooAKKKKACiiigAooooAKKKKACiiigAooooAKKKKACiiigAooooAKKKKACiiigAooooAKKKKACiiigAooooAKKKKACiiigDzSiiivpT7AKs6d/yFLT/rsn/oQqtVnTv+Qpaf9dk/9CFTP4X6Mip8EvR/kz0KiiivnD5IKKKKACiiigAooooAKKKKACiiigAooooAKKKKACiiigAooooAKKKKACiiigAooooAKKKKACiiigAooooAKya1qya+l4d/5efL9T7DhT/l7/27+pYs/wDXH/dq9VGz/wBcf92r1cOef74/RfqebxJ/v79I/kwoooryDwQooooAKKKKACiiigAooooAKKKKACiiigAooooAKKKKACiiigAooooAKKKKACiiigAooooAKKKKACiiigAooooAKKKKACiiigAooooAKKKKACiiigAooooAKKKKACiiigAooooAKKKKACiiigAooooAKKKKACiiigAooooAKKKKACiiigAooooAKKKKAClpKWkfqHht/wAxP/bn/twUUUUH6iFJS0lB+SeI/wDvWH/wy/8ASgooopn5yFFFFABRRRQAUUUUAFFFFABRRRQAUUUUAFFFFABRRRQAUUUUAFFFFABRRRQAUUUUAFFFFABRRRQAUUUUAFFFFABRRRQAUUUUAFFFFABRRRQAUUUUAFFFFABRRRQAUUUUAFFFFABRRRQAUUUUAFFFFABRRRQAUUUUAFFFFABRRRQAUUUUAFFFFAHmlFFFfSn2AVZ07/kKWn/XZP8A0IVWqzp3/IUtP+uyf+hCpn8L9GRU+CXo/wAmehUUUV84fJBRRRQAUUUUAFFFFABRRRQAUUUUAFFFFABRRRQAUUUUAFFFFABRRRQAUUUUAFFFFABRRRQAUUUUAFFFFABWTWtWTX0vDv8Ay8+X6n2HCn/L3/t39SxZ/wCuP+7V6qNn/rj/ALtXq4c8/wB8fov1PN4k/wB/fpH8mFFFFeQeCFFFFABRRRQAUUUUAFFFFABRRRQAUUUUAFFFFABRRRQAUUUUAFFFFABRRRQAUUUUAFFFFABRRRQAUUUUAFFFFABRRRQAUUUUAFFFFABRRRQAUUUUAFFFFABRRRQAUUUUAFFFFABRRRQAUUUUAFFFFABRRRQAUUUUAFFFFABRRRQAUUUUAFFFFABRRRQAUtJS0j9Q8Nv+Yn/tz/24KKKKD9RCkpaSg/JPEf8A3rD/AOGX/pQUUUUz85CiiigAooooAKKKKACiiigAooooAKKKKACiiigAooooAKKKKACiiigAooooAKKKKACiiigAooooAKKKKACiiigAooooAKKKKACiiigAooooAKKKKACiiigAooooAKKKKACiiigAooooAKKKKACiiigAooooAKKKKACiiigAooooAKKKKACiiigDzSiiivpT7AKs6d/yFLT/AK7J/wChCq1WdO/5Clp/12T/ANCFTP4X6Mip8EvR/kz0KiiivnD5IKKKKACiiigAooooAKKKKACiiigAooooAKKKKACiiigAooooAKKKKACiiigAooooAKKKKACiiigAooooAKya1qya+l4d/wCXny/U+w4U/wCXv/bv6kkMvkuW254x1qf7b/0z/wDHq4S2t5ru6itreNpJ5nEcaKMlmJwAPxr2+3+CnhTRLG1Txn4tFjqd0uVhjnjjVT6fOCWA6Z4FbV/q1efPUp3fqzoxLwmJqe0rUrv/ABPp6HF/bf8Apn/49R9t/wCmf/j1V/iT8N7vwBqEGLj7Zpt2Cbe5C4OR1Vh2PI+o/EDE8IeFNQ8Z+IoNH04KJJMtJK/3YkHVj/nkkCsfYYL/AJ9f+TM5/q2X/wDPj/yZnR/bf+mf/j1H23/pn/49Xe/8KS8DSXbaHD40c+IFUgxeZEfmAz/qvve+N2a8Z8T+G7/wn4hutG1FQJ4G4ZfuyKeVZfYj/Cj2GC/59f8AkzD6tl//AD4/8mZ1P23/AKZ/+PUfbf8Apn/49Xn9FHsMF/z6/wDJmH1bL/8Anx/5Mz0D7b/0z/8AHqPtv/TP/wAerz+vW/BvwgsL3wunibxjrX9j6ZMAYFDKjMp6MWbIGewwSRzR7DBf8+v/ACZh9Wy//nx/5MzE+2/9M/8Ax6j7b/0z/wDHq1vHXwjtNH8NDxP4V1j+19HXHm/MrsgzjcGXhgDwRgEfnjy62t5ru6itreNpJ5nEcaKMlmJwAPxo9hgv+fX/AJMw+rZf/wA+P/Jmd39t/wCmf/j1H23/AKZ/+PV2lv8ABTwpoljap4z8Wix1O6XKwxzxxqp9PnBLAdM8CuD+JPw3u/AGoQYuPtmm3YJt7kLg5HVWHY8j6j8QD2GC/wCfX/kzD6tl/wDz4/8AJmWPtv8A0z/8eo+2/wDTP/x6vP6KPYYL/n1/5Mw+rZf/AM+P/Jmegfbf+mf/AI9R9t/6Z/8Aj1ef133w2+Gdx47mubq4uxYaPZ8T3RAJLYztXPHTkk9OKPYYL/n1/wCTMPq2X/8APj/yZjvtv/TP/wAeo+2/9M//AB6uyvPgp4Z1rSbubwN4pGo3tqMtBJNHIHPplANucHBOQf1rw+SN4pGjkVkdCVZWGCCOoNHsMF/z6/8AJmH1bL/+fH/kzO++2/8ATP8A8eo+2/8ATP8A8erb8G/CCwvfC6eJvGOtf2PpkwBgUMqMynoxZsgZ7DBJHNReOvhHaaP4aHifwrrH9r6OuPN+ZXZBnG4MvDAHgjAI/PB7DBf8+v8AyZh9Wy//AJ8f+TMyftv/AEz/APHqPtv/AEz/APHq8/oo9hgv+fX/AJMw+rZf/wA+P/Jmegfbf+mf/j1H23/pn/49Xn9dJ4I8F6h468QppVgyxKFMk87jKxICATjuckADufTk0ewwX/Pr/wAmYfVsv/58f+TM3Ptv/TP/AMeo+2/9M/8Ax6u7/wCFM/D+W6OjQ+OGOuZ2eX50J+f08vrn/Z3ZryHxf4T1DwX4im0fUQpkQB45U+7Kh6MPyI9iDR7DBf8APr/yZh9Wy/8A58f+TM6P7b/0z/8AHqPtv/TP/wAerz+ij2GC/wCfX/kzD6tl/wDz4/8AJmegfbf+mf8A49R9t/6Z/wDj1ef0UewwX/Pr/wAmYfVsv/58f+TM9A+2/wDTP/x6j7b/ANM//Hq8/oo9hgv+fX/kzD6tl/8Az4/8mZ6B9t/6Z/8Aj1H23/pn/wCPV5/RR7DBf8+v/JmH1bL/APnx/wCTM9A+2/8ATP8A8eo+2/8ATP8A8erz+ij2GC/59f8AkzD6tl//AD4/8mZ6B9t/6Z/+PUfbf+mf/j1ef0UewwX/AD6/8mYfVsv/AOfH/kzPQPtv/TP/AMeo+2/9M/8Ax6vP6KPYYL/n1/5Mw+rZf/z4/wDJmegfbf8Apn/49R9t/wCmf/j1ef0UewwX/Pr/AMmYfVsv/wCfH/kzPQPtv/TP/wAeo+2/9M//AB6vP6KPYYL/AJ9f+TMPq2X/APPj/wAmZ6B9t/6Z/wDj1H23/pn/AOPV5/RR7DBf8+v/ACZh9Wy//nx/5Mz0D7b/ANM//HqPtv8A0z/8erz+ij2GC/59f+TMPq2X/wDPj/yZnoH23/pn/wCPUfbf+mf/AI9Xn9FHsMF/z6/8mYfVsv8A+fH/AJMz0D7b/wBM/wDx6j7b/wBM/wDx6vP6KPYYL/n1/wCTMPq2X/8APj/yZnoH23/pn/49R9t/6Z/+PV5/RR7DBf8APr/yZh9Wy/8A58f+TM9A+2/9M/8Ax6j7b/0z/wDHq8/oo9hgv+fX/kzD6tl//Pj/AMmZ6B9t/wCmf/j1H23/AKZ/+PV5/RR7DBf8+v8AyZh9Wy//AJ8f+TM9A+2/9M//AB6j7b/0z/8AHq8/oo9hgv8An1/5Mw+rZf8A8+P/ACZnoH23/pn/AOPUfbf+mf8A49Xn9FHsMF/z6/8AJmH1bL/+fH/kzPQPtv8A0z/8eo+2/wDTP/x6vP6KPYYL/n1/5Mw+rZf/AM+P/Jmegfbf+mf/AI9R9t/6Z/8Aj1ef0UewwX/Pr/yZh9Wy/wD58f8AkzPQPtv/AEz/APHqPtv/AEz/APHq8/oo9hgv+fX/AJMw+rZf/wA+P/Jmegfbf+mf/j1H23/pn/49Xn9FHsMF/wA+v/JmH1bL/wDnx/5Mz0D7b/0z/wDHqPtv/TP/AMerz+ij2GC/59f+TMPq2X/8+P8AyZnoH23/AKZ/+PVcrzOiuXE4OjUt7Jcv3u57mTZrh8p5/YUPitf3n0v3T7nplFeZ0Vzf2d/e/A9z/XP/AKc/+Tf8A9KdtqM2M4Gaq/bf+mf/AI9Xn9FdeHwlCmmqseb5tHgZzmOGzapCpXoaxTXxPq79LHoH23/pn/49R9t/6Z/+PV5/RXR7DBf8+v8AyZnjfVsv/wCfH/kzPQPtv/TP/wAeo+2/9M//AB6vP6KPYYL/AJ9f+TMPq2X/APPj/wAmZ6B9t/6Z/wDj1H23/pn/AOPV5/RR7DBf8+v/ACZh9Wy//nx/5Mz0D7b/ANM//HqPtv8A0z/8erz+ij2GC/59f+TMPq2X/wDPj/yZnoH23/pn/wCPUfbf+mf/AI9Xn9FHsMF/z6/8mYfVsv8A+fH/AJMz0D7b/wBM/wDx6j7b/wBM/wDx6vP6KPYYL/n1/wCTMPq2X/8APj/yZnoH23/pn/49R9t/6Z/+PV5/RR7DBf8APr/yZh9Wy/8A58f+TM9A+2/9M/8Ax6j7b/0z/wDHq8/oo9hgv+fX/kzD6tl//Pj/AMmZ6B9t/wCmf/j1H23/AKZ/+PV5/RR7DBf8+v8AyZh9Wy//AJ8f+TM9A+2/9M//AB6j7b/0z/8AHq8/oo9hgv8An1/5Mw+rZf8A8+P/ACZnoH23/pn/AOPUfbf+mf8A49Xn9FHsMF/z6/8AJmH1bL/+fH/kzPQPtv8A0z/8eo+2/wDTP/x6vP6KPYYL/n1/5Mw+rZf/AM+P/Jmegfbf+mf/AI9R9t/6Z/8Aj1ef0UewwX/Pr/yZh9Wy/wD58f8AkzPQPtv/AEz/APHqPtv/AEz/APHq8/oo9hgv+fX/AJMw+rZf/wA+P/Jmegfbf+mf/j1H23/pn/49Xn9FHsMF/wA+v/JmH1bL/wDnx/5Mz0D7b/0z/wDHqPtv/TP/AMerz+ij2GC/59f+TMPq2X/8+P8AyZnoH23/AKZ/+PUfbf8Apn/49Xn9FHsMF/z6/wDJmH1bL/8Anx/5Mz0D7b/0z/8AHqPtv/TP/wAerz+ij2GC/wCfX/kzD6tl/wDz4/8AJmegfbf+mf8A49R9t/6Z/wDj1ef0UewwX/Pr/wAmYfVsv/58f+TM9A+2/wDTP/x6j7b/ANM//Hq8/oo9hgv+fX/kzD6tl/8Az4/8mZ6B9t/6Z/8Aj1H23/pn/wCPV5/RR7DBf8+v/JmH1bL/APnx/wCTM9A+2/8ATP8A8eo+2/8ATP8A8erz+ij2GC/59f8AkzD6tl//AD4/8mZ6B9t/6Z/+PUfbf+mf/j1ef0UewwX/AD6/8mYfVsv/AOfH/kzPQPtv/TP/AMeo+2/9M/8Ax6vP6KPYYL/n1/5Mw+rZf/z4/wDJmegfbf8Apn/49R9t/wCmf/j1ef0UewwX/Pr/AMmYfVsv/wCfH/kzPQPtv/TP/wAeo+2/9M//AB6vP6KPYYL/AJ9f+TMPq2X/APPj/wAmZ6B9t/6Z/wDj1H23/pn/AOPV5/RR7DBf8+v/ACZh9Wy//nx/5Mz0D7b/ANM//HqPtv8A0z/8erz+ij2GC/59f+TMPq2X/wDPj/yZnoH23/pn/wCPUfbf+mf/AI9Xn9FHsMF/z6/8mYfVsv8A+fH/AJMz0D7b/wBM/wDx6j7b/wBM/wDx6vP6KPYYL/n1/wCTMPq2X/8APj/yZnoH23/pn/49R9t/6Z/+PV5/RR7DBf8APr/yZh9Wy/8A58f+TM9A+2/9M/8Ax6j7b/0z/wDHq8/oo9hgv+fX/kzD6tl//Pj/AMmZ6B9t/wCmf/j1H23/AKZ/+PV5/RR7DBf8+v8AyZh9Wy//AJ8f+TM9A+2/9M//AB6j7b/0z/8AHq8/oo9hgv8An1/5Mw+rZf8A8+P/ACZnoH23/pn/AOPUfbf+mf8A49Xn9FHsMF/z6/8AJmH1bL/+fH/kzCiiigAqxYNt1G2bGcSof1FV6KNHuFk9Hsegfbf+mf8A49R9t/6Z/wDj1ef0UewwX/Pr/wAmYfVsv/58f+TM9A+2/wDTP/x6j7b/ANM//Hq8/oo9hgv+fX/kzD6tl/8Az4/8mZ6B9t/6Z/8Aj1H23/pn/wCPV5/RR7DBf8+v/JmH1bL/APnx/wCTM9A+2/8ATP8A8eo+2/8ATP8A8erz+ij2GC/59f8AkzD6tl//AD4/8mZ6B9t/6Z/+PUfbf+mf/j1ef0UewwX/AD6/8mYfVsv/AOfH/kzPQPtv/TP/AMeo+2/9M/8Ax6vP6KPYYL/n1/5Mw+rZf/z4/wDJmegfbf8Apn/49R9t/wCmf/j1ef0UewwX/Pr/AMmYfVsv/wCfH/kzPQPtv/TP/wAeo+2/9M//AB6vP6KPYYL/AJ9f+TMPq2X/APPj/wAmZ6B9t/6Z/wDj1H23/pn/AOPV5/RR7DBf8+v/ACZh9Wy//nx/5Mz0D7b/ANM//HqPtv8A0z/8erz+ij2GC/59f+TMPq2X/wDPj/yZnoH23/pn/wCPUfbf+mf/AI9Xn9FHsMF/z6/8mYfVsv8A+fH/AJMz0D7b/wBM/wDx6j7b/wBM/wDx6vP6KPYYL/n1/wCTMPq2X/8APj/yZnoH23/pn/49R9t/6Z/+PV5/RR7DBf8APr/yZh9Wy/8A58f+TM9A+2/9M/8Ax6j7b/0z/wDHq8/oo9hgv+fX/kzD6tl//Pj/AMmZ6B9t/wCmf/j1H23/AKZ/+PV5/RR7DBf8+v8AyZh9Wy//AJ8f+TM9A+2/9M//AB6j7b/0z/8AHq8/oo9hgv8An1/5Mw+rZf8A8+P/ACZnoH23/pn/AOPVUriqK6cPVo4a/sqdr+bOzCVsPhL+wpWvvq3t6ndfBu2ju/izoMcqhlWSSQA+qROw/UCl+Md5NefFTW/OcsIXSGME8KqovA/HJ+pNZ/wz1qDw/wDEfRNSunCQJOY5HPRFdShY+w3Z/Cu5+Lvw28SXPxButT0nSrm/s9RKSI9um/Y+0KwbHTkZyeMHr1rmOM0NfdtW/Zb0S7uyZJradVjZuSAsskQ/8d4pn7OyLBF4t1JVBntraIIT2B8xiPzRfyqf4kQDwX8DvD/hC5kQ6lNKJJI1bO0Bmkf8AzqvvWd+zxqlqmt63oNy4Q6paqY8n7xTdlR77XY/8BNAHkdvqV3batFqiTv9sjnFwJSfm3ht2c+ua9i/aSto08TaLdKoEktmyMfUK+R/6Ea5W0+Dfi1/GKaNPpc62qzhZL7b+58rPLhuh45x17Yrb/aG1q31Dxxa6fbuH/s+1CSkH7sjEsV/AbfzoA8q06O1m1O0ivpmhtHmRZ5VGSiFhuYD1Aya9A+KugeBdFj0s+D9TjupZQ32iOK6E6hRjaxI+6Tzx+grzqCCW6uIreCNpJpXCIijJZicAD3zW74n8DeIvBwtm1zTzbLcg+UwkVwSMZGVJweRxQBz1e6ftFu1mvhjR4SUs4IJGWMdMjao/IDj6mvC6+hfivoV/wDEXwh4a8V+Hrd74rARPBANzjdtzgDklWVlIHP5GgDO+BbtqPgnxvpFwS9p5CsEPQGSOVW/RF/KuF+DdtHd/FnQY5VDKskkgB9Uidh+oFek+AtFvfhv8KvFWu6/C1lcX0ISC3l4fIVljyOoJaQ8dcDNeT/DPWoPD/xH0TUrpwkCTmORz0RXUoWPsN2fwoA0PjHeTXnxU1vznLCF0hjBPCqqLwPxyfqTXc6+7at+y3ol3dkyTW06rGzckBZZIh/47xWf8Xfht4kufiDdanpOlXN/Z6iUkR7dN+x9oVg2OnIzk8YPXrWp8SIB4L+B3h/whcyIdSmlEkkatnaAzSP+AZ1X3oA8Hr1K68OfDtPhBHqsOsq3iUxIxh+0gyGUsNyGLqFHPOOwOa8trpZfAHieHwmvieTS3GksocTb1ztJwG253YJ749+lAHNV7qrvpn7KSyWpMb307CZl4JBuCp/NUA+leFV734PtG8efs9X3hnT2VtU06YskJYAt+881f++suoPqKAOL+Bd7Pa/FfTYYnKx3Uc8UoB+8oiZwP++kU/hWL8T7WO0+J3iGKJQqm8Z8D1bDH9Sa9A+C/wAPdf07xuuu6zp1xptpp0chDXSeXvdkKcA9QAzHPTivMfHGrxa9441rVLdt0Fxdu0Tf3kBwp/EAGgD1X9ot2s18MaPCSlnBBIyxjpkbVH5AcfU0fAt21HwT430i4Je08hWCHoDJHKrfoi/lWj8V9Cv/AIi+EPDXivw9bvfFYCJ4IBucbtucAckqyspA5/I03wFot78N/hV4q13X4Wsri+hCQW8vD5CsseR1BLSHjrgZoA+fKKK6Tw14C8S+LrW5udE01rmG2O2R/MVBuxnaNxGTjsPb1oA5uvVPgP4ni0Lxq9hPBLImqxiBXhQuyODkEgc7euT24PQGvLXRo3ZHUq6nDKRgg+le1/s4x2jaxr7fuv7UW1T7IZOyktvP0z5eaANKy/Z21C18VQ3ba/CdNiuBMHCt9oIDZxjoD7598dq4f42eJ4vEnj+RYIJYotOiFp++jKO7BmLEg8gZbAz6Z71p2mkfGQeNUkI1oXvngtPJI32bGecnOwp7Dt0FWf2jEsF8bWDW+wXrWQNzt6/eOzd74z+GPagDxyiiigAooooAKKKKACiiigAooooAKKKKACiiigAooooAKKKKACiiigAooooAKKKKACiiigAooooAKKKKACiiigAooooAKKKKACiiigAooooAKKKKACiiigAooooAKKKKACiiigAooooAKKKKACiiigAooooAKKKKACiiigAooooAKKKKACiiigAooooAKKKKACiiigAooooAKKKKACiiigAooooAKKKKACiiigAooooAKKKKACiiigAooooAKKKKACiiigAooooAKKKKACiiigAooooAKKKKACiiigAooooAKKKKACiiigAooooAKKKKACiiigAooooAKKKKACiiigAooooAKKKKACiiigAooooAKKKKACiiigAooooAKKKKACiiigAooooAKKKKACiiigAooooAKKKKACiiigAooooAK73RPjH410LTI9Pt9TSa3iXZELmFZGjHYBjzge+a4KigDR1zXtU8SapJqWr3kl3duMF3wMAdAAOAPYVUtbq4sbuK6tJpILiFg8csbFWRh0II6VDRQB6K/wAcfHr6ebU6rEGK7TOtsgkx9cYz74rz2aaS4meaaRpJZGLO7nLMTyST3NMooAltrmazu4bq3kMc8LrJG69VYHII/EV0Xi34geIfGy2ia1dRyR2ufLSOIIMnGWOOp4H9K5iigArqfCnxE8TeDI3h0fUNltI25reVBJHu9QD0P0xmuWooA6XxX498R+NHi/tq/MsURzHAihI1PrtHU+5ya5qiigDvdE+MfjXQtMj0+31NJreJdkQuYVkaMdgGPOB75rk9c17VPEmqSalq95Jd3bjBd8DAHQADgD2FZ1FABXWTfEnxPP4NXwpJfKdLVBFjyxvMYOQm7rjgfgMdK5OigArW8PeJdY8K6kNQ0W+ktbjG1iuCrr6Mp4I+tZNFAHceIfi54x8TaY+nXuorHaSDbLHbxLH5g9GI5x7Zwa4eiigDqfCnxE8TeDI3h0fUNltI25reVBJHu9QD0P0xmo/Ffj3xH40eL+2r8yxRHMcCKEjU+u0dT7nJrmqKACuq8KfEXxJ4Msrq00W8SKC5beyyRK+18Y3LnocY/IVytFADpJHlleSRizuSzMTySepqzpmqX2jahFf6bdS2t3CcpLE2CP8A63t3qpRQB6S3x28etaeT/aVuHxjzhapv+vTH6V59fX13qd9Ne31xLcXUzbpJZWLMx9yar0UAFFFFABRRRQAUUUUAFFFFABRRRQAUUUUAFFFFABRRRQAUUUUAFFFFABRRRQAUUUUAFFFFABRRRQAUUUUAFFFFABRRRQAUUUUAFFFFABRRRQAUUUUAFFFFABRRRQAUUUUAFFFFABRRRQAUUUUAFFFFABRRRQAUUUUAFFFFABRRRQAUUUUAFFFFABRRRQAUUUUAFFFFABRRRQAUUUUAFFFFABRRRQAUUUUAFFFFABRRRQAUUUUAFFFFABRRRQAUUUUAFFFFABRRRQAUUUUAFFFFABRRRQAUUUUAFFFFABRRRQAUUUUAFFFFABRRRQAUUUUAFFFFABRRRQAUUUUAFFFFABRRRQAUUUUAFFFFABRRRQAUUUUAFFFFABRRRQAUUUUAFFFFABRRRQAUUUUAFFFFABRRRQAUUUUAFFFFABRRRQAUUUUAFFFFABRRRQAUUUUAFFFFABRRRQAUUUUAFFFFABRRRQAUUUUAFFFFABRRRQAUUUUAFFFFABRRRQAUUUUAFFFFABRRRQAUUUUAFFFFABRRRQAUUUUAFFFFABRRRQAUUUUAFFFFABRRRQAUUUUAFFFFABRRRQAUUUUAFFFFABRRRQAUUUUAFFFFABRRRQAUUUUAFFFFABRRRQAUUUUAFFFFABRRRQAUUUUAFFFFABRRRQAUUUUAFFFFABRRRQAUUUUAFFFFABRRRQAUUUUAFFFFABRRRQAUUUUAFFFFABRRRQAUUUUAFFFFABRRRQAUUUUAFFFFABRRRQAUUUUAFFFFABRRRQAUUUUAFFFFABRRRQAUUUUAFFFFABRRRQAUUUUAFFFFABRRRQAUUUUAFFFFABRRRQAUUUUAFFFFABRRRQAUUUUAFFFFABRRRQAUUUUAFFFFABRRRQAUUUUAFFFFABRRRQAUUUUAFFFFABRRRQAUUUUAf//Z",
        "encoding": "base64",
        "path": [
         "value"
        ]
       }
      ],
      "model_module": "@jupyter-widgets/controls",
      "model_module_version": "1.5.0",
      "model_name": "ImageModel",
      "state": {
       "layout": "IPY_MODEL_bb999c3eacfe4937bd19b44972e939e3"
      }
     },
     "a3ac650a9e5c4222b3c2f557a75c8da3": {
      "model_module": "@jupyter-widgets/controls",
      "model_module_version": "1.5.0",
      "model_name": "DescriptionStyleModel",
      "state": {
       "description_width": ""
      }
     },
     "b82647c2f910409980aadb0d76408a02": {
      "model_module": "@jupyter-widgets/base",
      "model_module_version": "1.2.0",
      "model_name": "LayoutModel",
      "state": {}
     },
     "bb999c3eacfe4937bd19b44972e939e3": {
      "model_module": "@jupyter-widgets/base",
      "model_module_version": "1.2.0",
      "model_name": "LayoutModel",
      "state": {
       "border": "10px solid rgb(0 177 255)",
       "margin": "auto",
       "width": "100%"
      }
     },
     "c925dbc3c2d848e88afd99766eec4b91": {
      "model_module": "@jupyter-widgets/base",
      "model_module_version": "1.2.0",
      "model_name": "LayoutModel",
      "state": {
       "border": "10px solid rgb(0 177 255)",
       "margin": "auto"
      }
     },
     "f0604ca4a15f4844b1f3971e7f883789": {
      "model_module": "@jupyter-widgets/base",
      "model_module_version": "1.2.0",
      "model_name": "LayoutModel",
      "state": {}
     }
    },
    "version_major": 2,
    "version_minor": 0
   }
  }
 },
 "nbformat": 4,
 "nbformat_minor": 5
}
