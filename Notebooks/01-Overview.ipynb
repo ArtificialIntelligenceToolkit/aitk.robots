{
 "cells": [
  {
   "cell_type": "markdown",
   "id": "attended-waste",
   "metadata": {},
   "source": [
    "# Overview of aitk.robots"
   ]
  },
  {
   "cell_type": "markdown",
   "id": "adjusted-stanley",
   "metadata": {},
   "source": [
    "This is an overview of the Python package `aitk.robots`. It features the following:\n",
    "\n",
    "* Simulation of mobile robots\n",
    "* Written in pure-Python\n",
    "* Balance of speed and features, including 3D camera views\n",
    "* Designed for research, education, and exploration\n",
    "* Can be used with modern JupyterLab and Notebooks\n",
    "* Creates easily reproducible experiments for Machine Learning\n",
    "\n",
    "You can install bare `aitk.robots` package with the command-line:\n",
    "\n",
    "```shell\n",
    "pip install aitk.robots\n",
    "```\n",
    "\n",
    "Or, if using with Jupyter Lab 3.0:\n",
    "\n",
    "```shell\n",
    "pip install \"aitk.robots[jupyter]\"\n",
    "jupyter labextension install @jupyter-widgets/jupyterlab-manager ipycanvas\n",
    "```\n",
    "\n",
    "If you have installed `aitk.robots` before and want to install the latest version, add the flag `--upgrade` to the above commands."
   ]
  },
  {
   "cell_type": "markdown",
   "id": "stopped-gamma",
   "metadata": {},
   "source": [
    "## What is aitk?\n",
    "\n",
    "`aitk` stands for Artificial Intelligence Toolkit. This package `robots` contains tools for running simulated mobile (wheeled) robots. You can installed just the `robots` package (as described above), or install the entire suite of tools with:\n",
    "\n",
    "```shell\n",
    "pip install aitk\n",
    "```\n",
    "\n",
    "If you have installed `aitk` (or any `aitk` packages) before and want to install the latest versions, add the flag `--upgrade` to the above command.\n",
    "\n",
    "## Getting Started\n",
    "\n",
    "Whether you are in a Notebook (like this example) or in a Python script, you will need to import the `aitk.robots` library:"
   ]
  },
  {
   "cell_type": "code",
   "execution_count": 1,
   "id": "removable-arthritis",
   "metadata": {},
   "outputs": [
    {
     "data": {
      "text/plain": [
       "'0.8.2'"
      ]
     },
     "execution_count": 1,
     "metadata": {},
     "output_type": "execute_result"
    }
   ],
   "source": [
    "import aitk.robots as bots\n",
    "bots.__version__"
   ]
  },
  {
   "cell_type": "markdown",
   "id": "sporting-token",
   "metadata": {},
   "source": [
    "A common first check is to print out the version of the library to make sure it is the appropriate version. The code in this notebook is written for aitk.robots version 1, so you should see a version that starts with \"1\"."
   ]
  },
  {
   "cell_type": "markdown",
   "id": "subjective-kazakhstan",
   "metadata": {},
   "source": [
    "<div class=\"alert alert-block alert-info\">\n",
    "\n",
    "<b>Troubleshooting:</b> if you aren't able to import `aitk.robots`, make sure you are installing with the correct `pip`. In a Notebook, you can use the `%pip` magic. At the shell you can use `python -m pip` instead.\n",
    "</div>\n",
    "\n",
    "## bots?\n",
    "\n",
    "Notice in the above cell that we imported `aitk.robots` as `bots`. That makes `bots` just a shorthand so that we don't have to write `aitk.robots`. We'll use this convention throughout these examples.\n",
    "\n",
    "Ok, let's simulate!"
   ]
  },
  {
   "cell_type": "markdown",
   "id": "incorporate-gibson",
   "metadata": {},
   "source": [
    "## bots.World"
   ]
  },
  {
   "cell_type": "code",
   "execution_count": 2,
   "id": "fiscal-shakespeare",
   "metadata": {},
   "outputs": [
    {
     "name": "stdout",
     "output_type": "stream",
     "text": [
      "Random seed set to: 2518157\n"
     ]
    }
   ],
   "source": [
    "world = bots.World(width=100, height=100)"
   ]
  },
  {
   "cell_type": "markdown",
   "id": "fancy-persian",
   "metadata": {},
   "source": [
    "The above command created a world that is 100 cm by 100 cm. Also, it displayed a \"Random seed\". This is shown so that you can create reproducible simulations. If you do not manually set a seed, then it will generate one for you, and print it out.\n",
    "\n",
    "If you are in a Jupyter Notebook, then we can generate an image of the world, and display it right here:"
   ]
  },
  {
   "cell_type": "code",
   "execution_count": 3,
   "id": "twelve-development",
   "metadata": {},
   "outputs": [
    {
     "data": {
      "image/png": "[encoded data removed]",
      "text/plain": [
       "<PIL.Image.Image image mode=RGB size=300x300 at 0x7F685C13D220>"
      ]
     },
     "metadata": {},
     "output_type": "display_data"
    }
   ],
   "source": [
    "world.display()"
   ]
  },
  {
   "cell_type": "markdown",
   "id": "numeric-article",
   "metadata": {},
   "source": [
    "If you are not in a Jupyter Notebook, you could still generate a Python Image Library image of the world and display it in the console with this command:\n",
    "\n",
    "```python\n",
    "world.get_image().show()\n",
    "```\n",
    "\n",
    "That would open up a window on your computer, like this:\n",
    "\n",
    "![](./images/world-show.png)"
   ]
  },
  {
   "cell_type": "markdown",
   "id": "aboriginal-cartoon",
   "metadata": {},
   "source": [
    "The image of a World shows a 2D, top-down view of the world and everything in it. By default the \"ground\" is green, and there is a purple border around the whole world. The image if the world also shows the elapsed time in the simulation in \"HH:MM:SS.S\" (2 digits of hours, 2 digits of minutes, and 3 digits showing tenths of a second).\n",
    "\n",
    "We can add any of the following items to the world:\n",
    "\n",
    "* robots\n",
    "* walls\n",
    "* lights (called \"bulbs\")\n",
    "\n",
    "We'll add each of those in the following sections. Let's start by adding a robot."
   ]
  },
  {
   "cell_type": "markdown",
   "id": "german-timing",
   "metadata": {},
   "source": [
    "## bots.Robot\n",
    "\n",
    "Although there is a `bots.Robot`, we'll use the subclass `Scribbler` because robots need a \"body\" and the base class `Robot` doesn't have one.\n",
    "\n",
    "The Scribbler is a robot manufactured by [Parallax, inc](https://en.wikipedia.org/wiki/Parallax,_Inc.) and looks like this in the real world with a Camera by the [Institute for Personal Robots in Education](https://en.wikipedia.org/wiki/Institute_for_Personal_Robots_in_Education):\n",
    "\n",
    "<img src=\"https://upload.wikimedia.org/wikipedia/commons/8/8e/Scribbler_robot.jpg\" width=\"400px\">"
   ]
  },
  {
   "cell_type": "markdown",
   "id": "mineral-blond",
   "metadata": {},
   "source": [
    "We use the simulated Scribbler robot as it makes a fine base for many of the examples. However, you can easily create your own simulated robot by simply defining a body.\n",
    "\n",
    "We'll make a lightblue-colored Scribbler (to match the IRL version) and save it to a variable named `robot`:"
   ]
  },
  {
   "cell_type": "code",
   "execution_count": 4,
   "id": "finite-rebate",
   "metadata": {},
   "outputs": [],
   "source": [
    "robot = bots.Scribbler(color=\"lightblue\")"
   ]
  },
  {
   "cell_type": "markdown",
   "id": "exempt-threshold",
   "metadata": {},
   "source": [
    "Next, we'll add it to the world:"
   ]
  },
  {
   "cell_type": "code",
   "execution_count": 5,
   "id": "robust-nation",
   "metadata": {},
   "outputs": [],
   "source": [
    "world.add_robot(robot)"
   ]
  },
  {
   "cell_type": "markdown",
   "id": "interracial-complement",
   "metadata": {},
   "source": [
    "<div class=\"alert alert-block alert-info\">\n",
    "\n",
    "<b>Troubleshooting:</b> if you try to add the same robot to the world more than once, you will get an error. However, you can add multiple robots as we'll see below.\n",
    "</div>\n"
   ]
  },
  {
   "cell_type": "markdown",
   "id": "medium-deficit",
   "metadata": {},
   "source": [
    "How do we know the world now has a robot in it? Well, one way is to display it again:"
   ]
  },
  {
   "cell_type": "code",
   "execution_count": 6,
   "id": "hispanic-toddler",
   "metadata": {},
   "outputs": [
    {
     "data": {
      "image/png": "[encoded data removed]",
      "text/plain": [
       "<PIL.Image.Image image mode=RGB size=300x300 at 0x7F685C13D220>"
      ]
     },
     "metadata": {},
     "output_type": "display_data"
    }
   ],
   "source": [
    "world.display()"
   ]
  },
  {
   "cell_type": "markdown",
   "id": "outdoor-worship",
   "metadata": {},
   "source": [
    "You should see a lightblue robot in the world somewhere, facing in a random direction. We could have added the robot to an exact place, facing a precise direction. \n",
    "\n",
    "The location and direction of a robot can be seen by using the `get_pose()` method:"
   ]
  },
  {
   "cell_type": "code",
   "execution_count": 7,
   "id": "difficult-bulgarian",
   "metadata": {},
   "outputs": [
    {
     "data": {
      "text/plain": [
       "(46, 84, 17.91541997698073)"
      ]
     },
     "execution_count": 7,
     "metadata": {},
     "output_type": "execute_result"
    }
   ],
   "source": [
    "robot.get_pose()"
   ]
  },
  {
   "cell_type": "markdown",
   "id": "affecting-annex",
   "metadata": {},
   "source": [
    "That returns the robot's pose:\n",
    "\n",
    "* x, the distance in cm from left border of world\n",
    "* y, the distance in cm from the top border of the world\n",
    "* a, the angle in degrees, with 0 facing right, moving counter-clockwise as it increases\n",
    "\n",
    "You can also get this imformation from the robot's representation:"
   ]
  },
  {
   "cell_type": "code",
   "execution_count": 8,
   "id": "opposite-cradle",
   "metadata": {},
   "outputs": [
    {
     "data": {
      "text/plain": [
       "<Robot(name='Scribbie', x=46, y=84, a=17.92)>"
      ]
     },
     "execution_count": 8,
     "metadata": {},
     "output_type": "execute_result"
    }
   ],
   "source": [
    "robot"
   ]
  },
  {
   "cell_type": "markdown",
   "id": "smaller-emission",
   "metadata": {},
   "source": [
    "Because we did not specify a pose, the world put the robot into an unoccupied random location.\n",
    "\n",
    "## Hello, world!\n",
    "\n",
    "In summary (with something slightly new), here is an end-to-end example of \"Hello, world!\" in aitk.robots:"
   ]
  },
  {
   "cell_type": "code",
   "execution_count": 9,
   "id": "spare-allergy",
   "metadata": {},
   "outputs": [
    {
     "name": "stdout",
     "output_type": "stream",
     "text": [
      "Random seed set to: 1609318\n"
     ]
    },
    {
     "data": {
      "application/vnd.jupyter.widget-view+json": {
       "model_id": "2f6f13e0e6774707b3b887d2180325de",
       "version_major": 2,
       "version_minor": 0
      },
      "text/plain": [
       "Image(value=b'\\xff\\xd8\\xff\\xe0\\x00\\x10JFIF\\x00\\x01\\x01\\x00\\x00\\x01\\x00\\x01\\x00\\x00\\xff\\xdb\\x00C\\x00\\x08\\x06\\x0…"
      ]
     },
     "metadata": {},
     "output_type": "display_data"
    }
   ],
   "source": [
    "import aitk.robots as bots\n",
    "world = bots.World(150, 70) # width, height\n",
    "robot = bots.Scribbler(20, 25, 90) # x, y, a, default color is red\n",
    "world.add_robot(robot)\n",
    "robot.speak(\"Hello, World!\") # new command!\n",
    "world.watch()"
   ]
  },
  {
   "cell_type": "markdown",
   "id": "growing-documentation",
   "metadata": {},
   "source": [
    "The Robot `speak()` method takes a short string (perhaps with newlines) and shows the robot speaking it in a speech bubble. This is useful for debugging robot behaviors, as we will see.  For now, we just say \"hi!\"\n",
    "\n",
    "Now, let's build a larger, more realistic world."
   ]
  },
  {
   "cell_type": "markdown",
   "id": "documentary-target",
   "metadata": {},
   "source": [
    "## Walls"
   ]
  },
  {
   "cell_type": "code",
   "execution_count": 20,
   "id": "flexible-green",
   "metadata": {},
   "outputs": [
    {
     "name": "stdout",
     "output_type": "stream",
     "text": [
      "Random seed set to: 8487362\n"
     ]
    }
   ],
   "source": [
    "world2 = bots.World(500, 200)"
   ]
  },
  {
   "cell_type": "code",
   "execution_count": 21,
   "id": "descending-syndrome",
   "metadata": {
    "tags": []
   },
   "outputs": [
    {
     "data": {
      "application/vnd.jupyter.widget-view+json": {
       "model_id": "5e87ef993ce04a15a1e12c8e09921166",
       "version_major": 2,
       "version_minor": 0
      },
      "text/plain": [
       "Image(value=b'\\xff\\xd8\\xff\\xe0\\x00\\x10JFIF\\x00\\x01\\x01\\x00\\x00\\x01\\x00\\x01\\x00\\x00\\xff\\xdb\\x00C\\x00\\x08\\x06\\x0…"
      ]
     },
     "metadata": {},
     "output_type": "display_data"
    }
   ],
   "source": [
    "world2.watch()"
   ]
  },
  {
   "cell_type": "markdown",
   "id": "amended-broadcasting",
   "metadata": {},
   "source": [
    "If you right-click (or command-click) to the left of the world view above, and select \"New View for Output\":\n",
    "\n",
    "<img src=\"./images/new-view-for-output.png\">"
   ]
  },
  {
   "cell_type": "code",
   "execution_count": 22,
   "id": "sustained-finland",
   "metadata": {},
   "outputs": [],
   "source": [
    "world2.add_wall(\"blue\", 100, 0, 110, 150)"
   ]
  },
  {
   "cell_type": "code",
   "execution_count": 23,
   "id": "respected-pixel",
   "metadata": {},
   "outputs": [],
   "source": [
    "world2.add_wall(\"red\", 200, 50, 210, 200)"
   ]
  },
  {
   "cell_type": "code",
   "execution_count": 24,
   "id": "smoking-thompson",
   "metadata": {},
   "outputs": [],
   "source": [
    "world2.add_wall(\"silver\", 300, 0, 310, 150)"
   ]
  },
  {
   "cell_type": "code",
   "execution_count": 25,
   "id": "sonic-chess",
   "metadata": {},
   "outputs": [],
   "source": [
    "world2.add_wall(\"black\", 400, 50, 410, 200)"
   ]
  },
  {
   "cell_type": "code",
   "execution_count": 26,
   "id": "actual-member",
   "metadata": {},
   "outputs": [],
   "source": [
    "world2.add_bulb(\"yellow\", 450, 100, 0, 3)"
   ]
  },
  {
   "cell_type": "code",
   "execution_count": 27,
   "id": "powerful-report",
   "metadata": {},
   "outputs": [],
   "source": [
    "robot2 = bots.Scribbler(50, 100, 0)"
   ]
  },
  {
   "cell_type": "code",
   "execution_count": 28,
   "id": "chinese-stuart",
   "metadata": {},
   "outputs": [],
   "source": [
    "world2.add_robot(robot2)"
   ]
  },
  {
   "cell_type": "code",
   "execution_count": 29,
   "id": "linear-effectiveness",
   "metadata": {},
   "outputs": [],
   "source": [
    "world2.draw()"
   ]
  },
  {
   "cell_type": "markdown",
   "id": "alleged-chester",
   "metadata": {},
   "source": [
    "## Devices"
   ]
  },
  {
   "cell_type": "markdown",
   "id": "educated-shame",
   "metadata": {},
   "source": [
    "Devices:\n",
    "\n",
    "* range sensors (like IR and Laser)\n",
    "* cameras (forward and ground-facing)\n",
    "* light sensors"
   ]
  },
  {
   "cell_type": "code",
   "execution_count": 30,
   "id": "comfortable-monster",
   "metadata": {},
   "outputs": [],
   "source": [
    "robot2.add_device(bots.Camera())"
   ]
  },
  {
   "cell_type": "code",
   "execution_count": 31,
   "id": "descending-elite",
   "metadata": {},
   "outputs": [
    {
     "data": {
      "application/vnd.jupyter.widget-view+json": {
       "model_id": "4d7bdb9fe1f54a1dac4c9bea7b82f75f",
       "version_major": 2,
       "version_minor": 0
      },
      "text/plain": [
       "HTML(value='<style>img.pixelated {image-rendering: pixelated;}</style>')"
      ]
     },
     "metadata": {},
     "output_type": "display_data"
    },
    {
     "data": {
      "application/vnd.jupyter.widget-view+json": {
       "model_id": "31e6dbef29fa4e39936bc614fd698116",
       "version_major": 2,
       "version_minor": 0
      },
      "text/plain": [
       "HTML(value='<style>img.pixelated {image-rendering: pixelated;}</style>')"
      ]
     },
     "metadata": {},
     "output_type": "display_data"
    },
    {
     "data": {
      "application/vnd.jupyter.widget-view+json": {
       "model_id": "aef8b9b6f6b34aff856400648f4bcb46",
       "version_major": 2,
       "version_minor": 0
      },
      "text/plain": [
       "HTML(value='<style>img.pixelated {image-rendering: pixelated;}</style>')"
      ]
     },
     "metadata": {},
     "output_type": "display_data"
    },
    {
     "data": {
      "application/vnd.jupyter.widget-view+json": {
       "model_id": "262646707970448ebde1f582d09f6b09",
       "version_major": 2,
       "version_minor": 0
      },
      "text/plain": [
       "Image(value=b'\\x89PNG\\r\\n\\x1a\\n\\x00\\x00\\x00\\rIHDR\\x00\\x00\\x00@\\x00\\x00\\x00 \\x08\\x06\\x00\\x00\\x00\\xa2\\x9d~\\x84\\x…"
      ]
     },
     "metadata": {},
     "output_type": "display_data"
    }
   ],
   "source": [
    "robot2[\"camera\"].watch()"
   ]
  },
  {
   "cell_type": "code",
   "execution_count": 34,
   "id": "northern-briefs",
   "metadata": {},
   "outputs": [],
   "source": [
    "import aitk.utils"
   ]
  },
  {
   "cell_type": "code",
   "execution_count": 36,
   "id": "respiratory-locator",
   "metadata": {},
   "outputs": [],
   "source": [
    "joystick = aitk.utils.make_joystick(function=robot2.move)"
   ]
  },
  {
   "cell_type": "code",
   "execution_count": 37,
   "id": "varied-movie",
   "metadata": {},
   "outputs": [
    {
     "data": {
      "application/vnd.jupyter.widget-view+json": {
       "model_id": "3ba5dd33304942b3902f6ead002bc2b0",
       "version_major": 2,
       "version_minor": 0
      },
      "text/plain": [
       "Canvas(height=250, layout=Layout(max_height='250px', min_width='250px'), width=250)"
      ]
     },
     "metadata": {},
     "output_type": "display_data"
    }
   ],
   "source": [
    "joystick.watch()"
   ]
  },
  {
   "cell_type": "code",
   "execution_count": 39,
   "id": "dense-robertson",
   "metadata": {},
   "outputs": [
    {
     "name": "stdout",
     "output_type": "stream",
     "text": [
      "Starting world.run() in background. Use world.stop()\n"
     ]
    }
   ],
   "source": [
    "world2.run(background=True)"
   ]
  },
  {
   "cell_type": "code",
   "execution_count": null,
   "id": "documentary-taiwan",
   "metadata": {},
   "outputs": [],
   "source": []
  }
 ],
 "metadata": {
  "kernelspec": {
   "display_name": "Python 3",
   "language": "python",
   "name": "python3"
  },
  "language_info": {
   "codemirror_mode": {
    "name": "ipython",
    "version": 3
   },
   "file_extension": ".py",
   "mimetype": "text/x-python",
   "name": "python",
   "nbconvert_exporter": "python",
   "pygments_lexer": "ipython3",
   "version": "3.8.5"
  },
  "widgets": {
   "application/vnd.jupyter.widget-state+json": {
    "state": {
     "021ac0b8ae2d47b898417446e9ac1008": {
      "model_module": "ipycanvas",
      "model_module_version": "^0.8.2",
      "model_name": "CanvasModel",
      "state": {
       "_model_module_version": "^0.8.2",
       "_view_module_version": "^0.8.2",
       "height": 250,
       "layout": "IPY_MODEL_b10b560e851c4b1b96f1f049065d2fed",
       "width": 250
      }
     },
     "09b5d10d876845e19fe9c584115b5ee7": {
      "model_module": "@jupyter-widgets/controls",
      "model_module_version": "1.5.0",
      "model_name": "DescriptionStyleModel",
      "state": {
       "description_width": ""
      }
     },
     "204ab049f7304216a04a6c8167bd3ac2": {
      "model_module": "@jupyter-widgets/base",
      "model_module_version": "1.2.0",
      "model_name": "LayoutModel",
      "state": {
       "height": "auto",
       "max_width": "100%",
       "width": "500px"
      }
     },
     "262646707970448ebde1f582d09f6b09": {
      "buffers": [
       {
        "data": "iVBORw0KGgoAAAANSUhEUgAAAEAAAAAgCAYAAACinX6EAAAAt0lEQVR4nO2YOw7CMBAFX1AKai7DqagRnUvSksPkVNSIKtQQS17xySD7TZfVKhqNZBfupDSrYTa0AI0D0AI0/Un3p8Gs5ZVw1nYtn68yTfviTh/50VG37DwX691Z6ft1Vtq/aJcxXlLtETjoGtqrNkAUB6AFaByAFqBxAFqAxgFoARoHoAVoHIAWoHEAWoDGAWgBGgegBWgcgBb4FWMaQ3uhZ/EhDR/J/DOdUuYBviGqPQJRmg/wADdTIXr1JbR+AAAAAElFTkSuQmCC",
        "encoding": "base64",
        "path": [
         "value"
        ]
       }
      ],
      "model_module": "@jupyter-widgets/controls",
      "model_module_version": "1.5.0",
      "model_name": "ImageModel",
      "state": {
       "_dom_classes": [
        "pixelated"
       ],
       "layout": "IPY_MODEL_204ab049f7304216a04a6c8167bd3ac2"
      }
     },
     "2f6f13e0e6774707b3b887d2180325de": {
      "buffers": [
       {
        "data": "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",
        "encoding": "base64",
        "path": [
         "value"
        ]
       }
      ],
      "model_module": "@jupyter-widgets/controls",
      "model_module_version": "1.5.0",
      "model_name": "ImageModel",
      "state": {
       "layout": "IPY_MODEL_98048f06a21b4f14bc3b0c44e776cbf4"
      }
     },
     "31e6dbef29fa4e39936bc614fd698116": {
      "model_module": "@jupyter-widgets/controls",
      "model_module_version": "1.5.0",
      "model_name": "HTMLModel",
      "state": {
       "layout": "IPY_MODEL_d78127ce6291403496da8daed39c627e",
       "style": "IPY_MODEL_09b5d10d876845e19fe9c584115b5ee7",
       "value": "<style>img.pixelated {image-rendering: pixelated;}</style>"
      }
     },
     "3ba5dd33304942b3902f6ead002bc2b0": {
      "model_module": "ipycanvas",
      "model_module_version": "^0.8.2",
      "model_name": "CanvasModel",
      "state": {
       "_model_module_version": "^0.8.2",
       "_view_module_version": "^0.8.2",
       "height": 250,
       "layout": "IPY_MODEL_72db7f2f2c864f0cad1fb04cdeecc517",
       "width": 250
      }
     },
     "48d8bd7299c749fc8fdfea7fbc81f794": {
      "model_module": "@jupyter-widgets/base",
      "model_module_version": "1.2.0",
      "model_name": "LayoutModel",
      "state": {
       "margin": "auto"
      }
     },
     "4d7bdb9fe1f54a1dac4c9bea7b82f75f": {
      "model_module": "@jupyter-widgets/controls",
      "model_module_version": "1.5.0",
      "model_name": "HTMLModel",
      "state": {
       "layout": "IPY_MODEL_f10c77e5d75c4e04b1dd899bf06ef448",
       "style": "IPY_MODEL_e504c3c051514499a827973d64ee0d8e",
       "value": "<style>img.pixelated {image-rendering: pixelated;}</style>"
      }
     },
     "5e87ef993ce04a15a1e12c8e09921166": {
      "buffers": [
       {
        "data": "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",
        "encoding": "base64",
        "path": [
         "value"
        ]
       }
      ],
      "model_module": "@jupyter-widgets/controls",
      "model_module_version": "1.5.0",
      "model_name": "ImageModel",
      "state": {
       "layout": "IPY_MODEL_6d38441926714ccc819e489ed14be14e"
      }
     },
     "6d38441926714ccc819e489ed14be14e": {
      "model_module": "@jupyter-widgets/base",
      "model_module_version": "1.2.0",
      "model_name": "LayoutModel",
      "state": {
       "margin": "auto"
      }
     },
     "72db7f2f2c864f0cad1fb04cdeecc517": {
      "model_module": "@jupyter-widgets/base",
      "model_module_version": "1.2.0",
      "model_name": "LayoutModel",
      "state": {
       "max_height": "250px",
       "min_width": "250px"
      }
     },
     "98048f06a21b4f14bc3b0c44e776cbf4": {
      "model_module": "@jupyter-widgets/base",
      "model_module_version": "1.2.0",
      "model_name": "LayoutModel",
      "state": {
       "margin": "auto"
      }
     },
     "9ad81949f2d24879b751be2535017520": {
      "model_module": "@jupyter-widgets/controls",
      "model_module_version": "1.5.0",
      "model_name": "DescriptionStyleModel",
      "state": {
       "description_width": ""
      }
     },
     "9ed0f69886874acca9f14b6b6df3a601": {
      "buffers": [
       {
        "data": "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",
        "encoding": "base64",
        "path": [
         "value"
        ]
       }
      ],
      "model_module": "@jupyter-widgets/controls",
      "model_module_version": "1.5.0",
      "model_name": "ImageModel",
      "state": {
       "layout": "IPY_MODEL_48d8bd7299c749fc8fdfea7fbc81f794"
      }
     },
     "aef8b9b6f6b34aff856400648f4bcb46": {
      "model_module": "@jupyter-widgets/controls",
      "model_module_version": "1.5.0",
      "model_name": "HTMLModel",
      "state": {
       "layout": "IPY_MODEL_ea43191ecdf74b5386c6513ab18ee8cc",
       "style": "IPY_MODEL_9ad81949f2d24879b751be2535017520",
       "value": "<style>img.pixelated {image-rendering: pixelated;}</style>"
      }
     },
     "b10b560e851c4b1b96f1f049065d2fed": {
      "model_module": "@jupyter-widgets/base",
      "model_module_version": "1.2.0",
      "model_name": "LayoutModel",
      "state": {
       "max_height": "250px",
       "min_width": "250px"
      }
     },
     "d78127ce6291403496da8daed39c627e": {
      "model_module": "@jupyter-widgets/base",
      "model_module_version": "1.2.0",
      "model_name": "LayoutModel",
      "state": {}
     },
     "e504c3c051514499a827973d64ee0d8e": {
      "model_module": "@jupyter-widgets/controls",
      "model_module_version": "1.5.0",
      "model_name": "DescriptionStyleModel",
      "state": {
       "description_width": ""
      }
     },
     "ea43191ecdf74b5386c6513ab18ee8cc": {
      "model_module": "@jupyter-widgets/base",
      "model_module_version": "1.2.0",
      "model_name": "LayoutModel",
      "state": {}
     },
     "f10c77e5d75c4e04b1dd899bf06ef448": {
      "model_module": "@jupyter-widgets/base",
      "model_module_version": "1.2.0",
      "model_name": "LayoutModel",
      "state": {}
     }
    },
    "version_major": 2,
    "version_minor": 0
   }
  }
 },
 "nbformat": 4,
 "nbformat_minor": 5
}
